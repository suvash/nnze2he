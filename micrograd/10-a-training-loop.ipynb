{
 "cells": [
  {
   "cell_type": "code",
   "execution_count": 1,
   "id": "496494e0-c45e-4841-8ee5-70cf1cb503ab",
   "metadata": {},
   "outputs": [],
   "source": [
    "import math\n",
    "import random\n",
    "import numpy as np\n",
    "import matplotlib.pyplot as plt\n",
    "%matplotlib inline"
   ]
  },
  {
   "cell_type": "code",
   "execution_count": 2,
   "id": "8d8266b1-51b6-420a-9ba0-e7033342cb49",
   "metadata": {},
   "outputs": [],
   "source": [
    "class Value:\n",
    "    \n",
    "    def __init__(self, data, _children=(), _op=(), label=None):\n",
    "        self.data = data\n",
    "        self.grad = 0\n",
    "        self._backward = lambda: None\n",
    "        self._prev = set(_children)\n",
    "        self._op = _op\n",
    "        self.label = label\n",
    "    \n",
    "    def __repr__(self):\n",
    "        return f\"Value(data={self.data}, label={self.label})\"\n",
    "    \n",
    "    def __add__(self, other):\n",
    "        other = other if isinstance(other, Value) else Value(other)\n",
    "        out = Value(self.data + other.data, (self, other), '+')\n",
    "        \n",
    "        def _backward():\n",
    "            self.grad += 1.0 * out.grad\n",
    "            other.grad += 1.0 * out.grad\n",
    "            \n",
    "        out._backward = _backward\n",
    "        return out\n",
    "    \n",
    "    def __mul__(self, other):\n",
    "        other = other if isinstance(other, Value) else Value(other)\n",
    "        out = Value(self.data * other.data, (self, other), '*')\n",
    "        \n",
    "        def _backward():\n",
    "            self.grad += other.data * out.grad\n",
    "            other.grad += self.data * out.grad\n",
    "        \n",
    "        out._backward = _backward\n",
    "        return out\n",
    "    \n",
    "    def __pow__(self, other):\n",
    "        assert isinstance(other, (int, float)), \"only supports int/float for now\"\n",
    "        out = Value(self.data**other, (self,), f'**{other}')\n",
    "        \n",
    "        def _backward():\n",
    "            self.grad += other * (self.data ** (other - 1)) * out.grad\n",
    "        \n",
    "        out._backward = _backward\n",
    "        return out\n",
    "    \n",
    "    def __radd__(self, other): # other + self\n",
    "        return self + other\n",
    "\n",
    "    def __rmul__(self, other): # other * self\n",
    "        return self * other\n",
    "    \n",
    "    def __truediv__(self, other): # self / other\n",
    "        return self * other**-1\n",
    "    \n",
    "    def __neg__(self): # -self\n",
    "        return self * -1\n",
    "    \n",
    "    def __sub__(self, other): # self - other\n",
    "        return self + (-other)\n",
    "    \n",
    "    def tanh(self):\n",
    "        x = self.data\n",
    "        t = (math.exp(2*x) - 1)/(math.exp(2*x) + 1)\n",
    "        out = Value(t, (self,), 'tanh')\n",
    "        \n",
    "        def _backward():\n",
    "            self.grad += (1 - t**2) * out.grad\n",
    "        \n",
    "        out._backward = _backward\n",
    "        return out\n",
    "    \n",
    "    def exp(self):\n",
    "        x = self.data\n",
    "        out = Value(math.exp(x), (self,), 'exp')\n",
    "        \n",
    "        def _backward():\n",
    "            self.grad += out.data * out.grad\n",
    "        \n",
    "        out._backward = _backward\n",
    "        return out \n",
    "    \n",
    "    def backward(self):\n",
    "        def topo_sort(node):\n",
    "            topo = []\n",
    "            visited = set()\n",
    "            def build_topo(v):\n",
    "                if v not in visited:\n",
    "                    visited.add(v)\n",
    "                    for child in v._prev:\n",
    "                        build_topo(child)\n",
    "                    topo.append(v)\n",
    "            build_topo(node)\n",
    "            return topo\n",
    "        \n",
    "        self.grad = 1.0\n",
    "        for node in reversed(topo_sort(self)):\n",
    "            node._backward()"
   ]
  },
  {
   "cell_type": "code",
   "execution_count": 3,
   "id": "f4ac9dab-5429-45e4-99dc-8a0330f4a81a",
   "metadata": {},
   "outputs": [],
   "source": [
    "class Neuron:\n",
    "    \n",
    "    def __init__(self, nin):\n",
    "        self.w = [Value(random.uniform(-1,1)) for _ in range(nin)]\n",
    "        self.b = Value(random.uniform(-1,1))\n",
    "        \n",
    "    def __call__(self, x):\n",
    "        # w * x + b\n",
    "        act = sum((wi*xi for wi,xi in zip(self.w, x, strict=True)), self.b)\n",
    "        out = act.tanh()\n",
    "        return out\n",
    "    \n",
    "    def parameters(self):\n",
    "        return self.w + [self.b] # list\n",
    "\n",
    "class Layer:\n",
    "    \n",
    "    def __init__(self, nin, nout):\n",
    "        self.neurons = [Neuron(nin) for _ in range(nout)]\n",
    "        \n",
    "    def __call__(self, x):\n",
    "        outs = [n(x) for n in self.neurons]\n",
    "        return outs[0] if len(outs) == 1 else outs\n",
    "\n",
    "    def parameters(self):\n",
    "        return [p for neuron in self.neurons for p in neuron.parameters()]\n",
    "\n",
    "class MLP:\n",
    "    \n",
    "    def __init__(self, nin, nouts):\n",
    "        sz = [nin] + nouts\n",
    "        self.layers = [Layer(sz[i], sz[i+1]) for i in range(len(nouts))]\n",
    "        \n",
    "    def __call__(self, x):\n",
    "        for layer in self.layers:\n",
    "            x = layer(x)\n",
    "        return x\n",
    "\n",
    "    def parameters(self):\n",
    "        return [p for layer in self.layers for p in layer.parameters()]"
   ]
  },
  {
   "cell_type": "code",
   "execution_count": 4,
   "id": "4c35da42-3cd7-4319-9710-1b6e969d742a",
   "metadata": {},
   "outputs": [],
   "source": [
    "def mse(targets, preds):\n",
    "    return sum((p - t)**2 for t,p in zip(targets, preds))"
   ]
  },
  {
   "cell_type": "code",
   "execution_count": 5,
   "id": "2f143524-f3f8-47e5-b656-3fd51442e461",
   "metadata": {},
   "outputs": [],
   "source": [
    "# 3 dim dataset\n",
    "xs = [\n",
    "    [2.0, 3.0, -1.0],\n",
    "    [3.0, -1.0, 0.5],\n",
    "    [0.5, 1.0, 1.0],\n",
    "    [1.0, 1.0, -1.0],\n",
    "]\n",
    "ys = [1.0, -1.0, -1.0, 1.0] # targets"
   ]
  },
  {
   "cell_type": "code",
   "execution_count": 6,
   "id": "5f48b63e-6599-408b-9190-72c77ae9d063",
   "metadata": {},
   "outputs": [],
   "source": [
    "# THE TRAINING LOOP"
   ]
  },
  {
   "cell_type": "code",
   "execution_count": 7,
   "id": "2cbd5c08-de23-4400-a6ce-72837b758839",
   "metadata": {},
   "outputs": [
    {
     "name": "stdout",
     "output_type": "stream",
     "text": [
      "0 8.264384834983462\n",
      "1 7.610510281855097\n",
      "2 7.34714736626899\n",
      "3 6.610272953931953\n",
      "4 3.5996234833261105\n",
      "5 0.7603174889751098\n",
      "6 0.15486719947152205\n",
      "7 0.06711078946055238\n",
      "8 0.046400658051745494\n",
      "9 0.03615523816631135\n",
      "10 0.029912902320471633\n",
      "11 0.02566529198915169\n",
      "12 0.022565868985855903\n",
      "13 0.020191952905538803\n",
      "14 0.01830772349224838\n",
      "15 0.01677074657494146\n",
      "16 0.01548967517786359\n",
      "17 0.014403099415461884\n",
      "18 0.013468131973314701\n",
      "19 0.012653862966504528\n"
     ]
    }
   ],
   "source": [
    "# input\n",
    "x = [2.0, 3.0, 4.0]\n",
    "\n",
    "# model\n",
    "n = MLP(3, [4,4,1])\n",
    "\n",
    "# learning rate\n",
    "step_size = 0.1\n",
    "\n",
    "# gradient descent - n steps\n",
    "for k in range(20):\n",
    "    \n",
    "    # forward pass\n",
    "    ypreds = [n(x) for x in xs]\n",
    "    loss = mse(ys, ypreds)\n",
    "    \n",
    "    # reset the grads - don't accumulate over epochs\n",
    "    for p in n.parameters():\n",
    "        p.grad = 0.0\n",
    "\n",
    "    # backward pass\n",
    "    loss.backward()\n",
    "    \n",
    "    # update\n",
    "    for p in n.parameters():\n",
    "        p.data += -step_size * p.grad\n",
    "\n",
    "    # print loss\n",
    "    print(k, loss.data)"
   ]
  },
  {
   "cell_type": "code",
   "execution_count": 8,
   "id": "d016a5cf-302a-4b1f-9372-13ed805d42ab",
   "metadata": {},
   "outputs": [
    {
     "data": {
      "text/plain": [
       "[Value(data=0.9808374336178198, label=None),\n",
       " Value(data=-0.9454900522272308, label=None),\n",
       " Value(data=-0.923673981878808, label=None),\n",
       " Value(data=0.9473386537972224, label=None)]"
      ]
     },
     "execution_count": 8,
     "metadata": {},
     "output_type": "execute_result"
    }
   ],
   "source": [
    "# lets check the predictions\n",
    "ypreds = [n(x) for x in xs]\n",
    "ypreds"
   ]
  },
  {
   "cell_type": "code",
   "execution_count": 9,
   "id": "3c11e218-7315-4671-be28-09e2d81d41a2",
   "metadata": {},
   "outputs": [
    {
     "data": {
      "text/plain": [
       "[1.0, -1.0, -1.0, 1.0]"
      ]
     },
     "execution_count": 9,
     "metadata": {},
     "output_type": "execute_result"
    }
   ],
   "source": [
    "ys"
   ]
  },
  {
   "cell_type": "code",
   "execution_count": 10,
   "id": "fe05a36d-fc10-4781-b6a2-824cd88b0480",
   "metadata": {},
   "outputs": [],
   "source": [
    "# pretty close yeah !!!!"
   ]
  }
 ],
 "metadata": {
  "kernelspec": {
   "display_name": "Python 3 (ipykernel)",
   "language": "python",
   "name": "python3"
  },
  "language_info": {
   "codemirror_mode": {
    "name": "ipython",
    "version": 3
   },
   "file_extension": ".py",
   "mimetype": "text/x-python",
   "name": "python",
   "nbconvert_exporter": "python",
   "pygments_lexer": "ipython3",
   "version": "3.10.4"
  }
 },
 "nbformat": 4,
 "nbformat_minor": 5
}
