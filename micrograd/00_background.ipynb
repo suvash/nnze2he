{
 "cells": [
  {
   "cell_type": "markdown",
   "id": "0e3785f7-7cfc-4f6c-bd2e-36e550cab6ae",
   "metadata": {},
   "source": [
    "# Micrograd"
   ]
  },
  {
   "cell_type": "markdown",
   "id": "53ba38df-680b-4578-98f3-bbaca62247eb",
   "metadata": {},
   "source": [
    "- is an autograd engine\n",
    "- implement backpropagation\n",
    "- allows one to build mathematical expressions then\n",
    "- which can be transformed over different steps\n",
    "- effectively an expression graph\n",
    "- keeps track of the graph\n",
    "- forward pass (which is the application of the equation)\n",
    "- but also the backward pass (backwards through the graph and applies chain rule in calculus)\n",
    "- get the derivative of final point of the equation in respect to the nodes and the inputs\n",
    "- how the inputs are affecting the final value of equation (what happens when we nudge each of the inputs individually)\n",
    "- which allows us to automatically optimize the equation in the later run"
   ]
  },
  {
   "cell_type": "markdown",
   "id": "c1d875c7-b54d-45f2-a68d-0d8e0ecb6732",
   "metadata": {},
   "source": [
    "- NNs are just mathematical expressions\n",
    "- backprop doesn't care about NNs, pretty general"
   ]
  },
  {
   "cell_type": "markdown",
   "id": "5ac8317d-fa92-46f1-a3fa-08500f53ddfa",
   "metadata": {},
   "source": [
    "- Micrograd is a scalar value autograd engine\n",
    "- NNs usually are not scalar valued, but\n",
    "- allows us to understand things fundamentally and not get bogged down by N dimensional thinking\n",
    "- the math is exactly the same\n",
    "- instead we use operations that can be parallelly applied to N dim tensors on specialized hardward"
   ]
  },
  {
   "cell_type": "markdown",
   "id": "36bc6e71-536d-48ed-ab93-ff910af8d13b",
   "metadata": {},
   "source": [
    "- Micrograd is all you need\n",
    "- Everything else is just for efficiency\n",
    "- Micrograd is not very complex"
   ]
  }
 ],
 "metadata": {
  "kernelspec": {
   "display_name": "Python 3 (ipykernel)",
   "language": "python",
   "name": "python3"
  },
  "language_info": {
   "codemirror_mode": {
    "name": "ipython",
    "version": 3
   },
   "file_extension": ".py",
   "mimetype": "text/x-python",
   "name": "python",
   "nbconvert_exporter": "python",
   "pygments_lexer": "ipython3",
   "version": "3.10.4"
  }
 },
 "nbformat": 4,
 "nbformat_minor": 5
}
