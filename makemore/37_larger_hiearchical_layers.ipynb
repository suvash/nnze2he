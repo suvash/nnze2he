{
 "cells": [
  {
   "cell_type": "code",
   "execution_count": 1,
   "id": "e1aaf233-a13d-4718-b59b-7b40831cb8f9",
   "metadata": {},
   "outputs": [],
   "source": [
    "import matplotlib.pyplot as plt\n",
    "%matplotlib inline"
   ]
  },
  {
   "cell_type": "code",
   "execution_count": 2,
   "id": "29abc82d-2696-40eb-9efd-80feae9026bc",
   "metadata": {},
   "outputs": [],
   "source": [
    "import torch\n",
    "import torch.nn.functional as F"
   ]
  },
  {
   "cell_type": "code",
   "execution_count": 3,
   "id": "9294abdc-9806-490f-8e38-560d76cce2a9",
   "metadata": {},
   "outputs": [
    {
     "data": {
      "text/plain": [
       "(32033,\n",
       " ['emma', 'olivia', 'ava', 'isabella', 'sophia', 'charlotte', 'mia', 'amelia'])"
      ]
     },
     "execution_count": 3,
     "metadata": {},
     "output_type": "execute_result"
    }
   ],
   "source": [
    "words = open('names.txt').read().splitlines()\n",
    "len(words), words[:8]"
   ]
  },
  {
   "cell_type": "code",
   "execution_count": 4,
   "id": "c464ce16-4980-4b57-b068-ee221f9e77c0",
   "metadata": {},
   "outputs": [
    {
     "name": "stdout",
     "output_type": "stream",
     "text": [
      "27 {1: 'a', 2: 'b', 3: 'c', 4: 'd', 5: 'e', 6: 'f', 7: 'g', 8: 'h', 9: 'i', 10: 'j', 11: 'k', 12: 'l', 13: 'm', 14: 'n', 15: 'o', 16: 'p', 17: 'q', 18: 'r', 19: 's', 20: 't', 21: 'u', 22: 'v', 23: 'w', 24: 'x', 25: 'y', 26: 'z', 0: '.'}\n"
     ]
    }
   ],
   "source": [
    "# let's only have one special token, and let's have it at index 0, offset others by 1\n",
    "chars = sorted(list(set(''.join(words))))\n",
    "stoi = {s:i+1 for i,s in enumerate(chars)}\n",
    "stoi['.'] = 0\n",
    "itos = {i:s for s,i in stoi.items()}\n",
    "num_classes = len(stoi)\n",
    "vocab_size = len(itos)\n",
    "print(vocab_size, itos)"
   ]
  },
  {
   "cell_type": "code",
   "execution_count": 5,
   "id": "bd595fae-6d43-4302-9abf-3332c356c949",
   "metadata": {},
   "outputs": [],
   "source": [
    "def build_dataset(words, block_size):\n",
    "    X, Y, = [], [] # X, input | Y, labels\n",
    "\n",
    "    for w in words:\n",
    "        context = [0] * block_size\n",
    "        for ch in w + '.':\n",
    "            ix = stoi[ch]\n",
    "            X.append(context)\n",
    "            Y.append(ix)\n",
    "            context = context[1:] + [ix] # crop and append moving window\n",
    "\n",
    "    X = torch.tensor(X)\n",
    "    Y = torch.tensor(Y)    \n",
    "    return X, Y"
   ]
  },
  {
   "cell_type": "code",
   "execution_count": 6,
   "id": "cc3a2fed-ca81-4339-8878-80e4b7086740",
   "metadata": {},
   "outputs": [
    {
     "data": {
      "text/plain": [
       "(torch.Size([182625, 8]),\n",
       " torch.Size([182625]),\n",
       " torch.Size([22655, 8]),\n",
       " torch.Size([22655]),\n",
       " torch.Size([22866, 8]),\n",
       " torch.Size([22866]))"
      ]
     },
     "execution_count": 6,
     "metadata": {},
     "output_type": "execute_result"
    }
   ],
   "source": [
    "# Splits\n",
    "import random\n",
    "random.seed(42)\n",
    "random.shuffle(words)\n",
    "\n",
    "n1 = int(0.8*len(words))\n",
    "n2 = int(0.9*len(words))\n",
    "\n",
    "block_size = 8 # context length : How many characters do we take to predict the next one : 3 chars to predict the 4th\n",
    "\n",
    "Xtr, Ytr = build_dataset(words[:n1], block_size)\n",
    "Xva, Yva = build_dataset(words[n1:n2], block_size)\n",
    "Xte, Yte = build_dataset(words[n2:], block_size)\n",
    "\n",
    "Xtr.shape, Ytr.shape, Xva.shape, Yva.shape, Xte.shape, Yte.shape"
   ]
  },
  {
   "cell_type": "code",
   "execution_count": 7,
   "id": "76879026-86df-4e66-9086-647de9c2d511",
   "metadata": {},
   "outputs": [
    {
     "name": "stdout",
     "output_type": "stream",
     "text": [
      "........ ---> y\n",
      ".......y ---> u\n",
      "......yu ---> h\n",
      ".....yuh ---> e\n",
      "....yuhe ---> n\n",
      "...yuhen ---> g\n",
      "..yuheng ---> .\n",
      "........ ---> d\n",
      ".......d ---> i\n",
      "......di ---> o\n",
      ".....dio ---> n\n",
      "....dion ---> d\n",
      "...diond ---> r\n",
      "..diondr ---> e\n",
      ".diondre ---> .\n",
      "........ ---> x\n",
      ".......x ---> a\n",
      "......xa ---> v\n",
      ".....xav ---> i\n",
      "....xavi ---> e\n"
     ]
    }
   ],
   "source": [
    "for x,y in zip(Xtr[:20], Ytr[:20]):\n",
    "    print(''.join(itos[ix.item()] for ix in x), '--->', itos[y.item()])"
   ]
  },
  {
   "cell_type": "code",
   "execution_count": 8,
   "id": "24442015-c3fd-4a24-85b7-04a73691d217",
   "metadata": {},
   "outputs": [],
   "source": [
    "class Linear:\n",
    "    \n",
    "    def __init__(self, fan_in, fan_out, bias=True):\n",
    "        self.weight = torch.randn((fan_in, fan_out)) / fan_in**0.5\n",
    "        self.bias = torch.zeros(fan_out) if bias else None\n",
    "        \n",
    "    def __call__(self, x):\n",
    "        self.out = x @ self.weight\n",
    "        if self.bias is not None:\n",
    "            self.out += self.bias\n",
    "        return self.out\n",
    "    \n",
    "    def parameters(self):\n",
    "        return [self.weight] + ([] if self.bias is None else [self.bias])\n",
    "\n",
    "class BatchNorm1D:\n",
    "    \n",
    "    def __init__(self, dim, eps=1e-5, momentum=0.1):\n",
    "        self.eps = eps\n",
    "        self.momentum = momentum\n",
    "        self.training = True\n",
    "        # learnable parameters\n",
    "        self.gamma = torch.ones(dim)  # gain\n",
    "        self.beta  = torch.zeros(dim) # bias\n",
    "        # buffers (calculated with a running 'momentum update')\n",
    "        self.running_mean = torch.zeros(dim)\n",
    "        self.running_var  = torch.ones(dim)\n",
    "        \n",
    "    def __call__(self, x):\n",
    "        # forward pass\n",
    "        if self.training:\n",
    "            if x.ndim == 2:\n",
    "                dim = 0\n",
    "            elif x.ndim == 3:\n",
    "                dim = (0, 1)\n",
    "            xmean = x.mean(dim, keepdim=True)\n",
    "            xvar  = x.var(dim, keepdim=True)\n",
    "        else:\n",
    "            xmean = self.running_mean\n",
    "            xvar  = self.running_var\n",
    "        xhat = (x - xmean) / torch.sqrt(xvar + self.eps)\n",
    "        self.out = self.gamma * xhat + self.beta\n",
    "\n",
    "        # updating running buffers\n",
    "        if self.training:\n",
    "            with torch.no_grad():\n",
    "                self.running_mean = (1 - self.momentum) * self.running_mean + self.momentum * xmean\n",
    "                self.running_var  = (1 - self.momentum) * self.running_var + self.momentum * xvar\n",
    "                \n",
    "        return self.out\n",
    "    \n",
    "    def parameters(self):\n",
    "        return [self.gamma, self.beta]\n",
    "\n",
    "\n",
    "class Tanh:\n",
    "    def __call__(self, x):\n",
    "        self.out = torch.tanh(x)\n",
    "        return self.out\n",
    "    \n",
    "    def parameters(self):\n",
    "        return []\n",
    "\n",
    "\n",
    "class Embedding:\n",
    "    def __init__(self, num_embeddings, embeddings_dim):\n",
    "        self.weight = torch.randn((num_embeddings, embeddings_dim))\n",
    "    \n",
    "    def __call__(self, IX):\n",
    "        self.out = self.weight[IX]\n",
    "        return self.out\n",
    "    \n",
    "    def parameters(self):\n",
    "        return [self.weight]\n",
    "\n",
    "    \n",
    "class FlattenConsecutive:\n",
    "    def __init__(self, n):\n",
    "        self.n = n\n",
    "        \n",
    "    def __call__(self, x):\n",
    "        B, T, C = x.shape # batch,  ....., embedding\n",
    "        x = x.view(B, T//self.n, C*self.n)\n",
    "        if x.shape[1] == 1:  # squeeze out spurious dimension\n",
    "            x = x.squeeze(1)\n",
    "        self.out = x\n",
    "        return self.out\n",
    "    \n",
    "    def parameters(self):\n",
    "        return []\n",
    "\n",
    "class Sequential:\n",
    "    def __init__(self, layers):\n",
    "        self.layers = layers\n",
    "    \n",
    "    def __call__(self, x):\n",
    "        for layer in self.layers:\n",
    "            x = layer(x)\n",
    "        self.out = x\n",
    "        return self.out\n",
    "    \n",
    "    def parameters(self):\n",
    "        return [p for layer in self.layers for p in layer.parameters()]"
   ]
  },
  {
   "cell_type": "code",
   "execution_count": 9,
   "id": "ea01c1ee-4219-49e1-81b9-27b45c211c4b",
   "metadata": {},
   "outputs": [],
   "source": [
    "torch.manual_seed(42);"
   ]
  },
  {
   "cell_type": "code",
   "execution_count": 10,
   "id": "143fd8d4-4cf8-47ff-8923-8874bce110de",
   "metadata": {},
   "outputs": [
    {
     "name": "stdout",
     "output_type": "stream",
     "text": [
      "76579\n"
     ]
    }
   ],
   "source": [
    "n_embed = 24   # was 10 prev. dimensionality of characters in the embedding vector\n",
    "n_hidden = 128  # was 68 prev. number of neurons in the hidden layer\n",
    "\n",
    "# stack up the layers\n",
    "model = Sequential([\n",
    "    Embedding(vocab_size, n_embed),\n",
    "    FlattenConsecutive(2), Linear(n_embed * 2, n_hidden, bias=False), BatchNorm1D(n_hidden), Tanh(),\n",
    "    FlattenConsecutive(2), Linear(n_hidden * 2, n_hidden, bias=False), BatchNorm1D(n_hidden), Tanh(),\n",
    "    FlattenConsecutive(2), Linear(n_hidden * 2, n_hidden, bias=False), BatchNorm1D(n_hidden), Tanh(),\n",
    "    Linear(n_hidden, vocab_size),\n",
    "])\n",
    "\n",
    "# initialisation\n",
    "with torch.no_grad():\n",
    "    # make last layer less confident\n",
    "    model.layers[-1].weight *= 0.1\n",
    "\n",
    "# prepare parameters, no need to check for C and the concat\n",
    "parameters = model.parameters()\n",
    "print(sum(p.nelement() for p in parameters))\n",
    "\n",
    "for p in parameters:\n",
    "    p.requires_grad = True"
   ]
  },
  {
   "cell_type": "code",
   "execution_count": 11,
   "id": "c91bfffa-1ba9-4222-afe7-1963b2ca715b",
   "metadata": {},
   "outputs": [],
   "source": [
    "max_steps = 200000\n",
    "batch_size = 32"
   ]
  },
  {
   "cell_type": "code",
   "execution_count": 12,
   "id": "10b9b9c5-a3c4-437d-9ceb-51f287fa9f00",
   "metadata": {},
   "outputs": [
    {
     "name": "stdout",
     "output_type": "stream",
     "text": [
      "Loss 0/200000: 3.3167154788970947\n",
      "Loss 20000/200000: 2.0723226070404053\n",
      "Loss 40000/200000: 2.147603750228882\n",
      "Loss 60000/200000: 2.259183883666992\n",
      "Loss 80000/200000: 1.6874758005142212\n",
      "Loss 100000/200000: 1.7735987901687622\n",
      "Loss 120000/200000: 1.7464748620986938\n",
      "Loss 140000/200000: 1.7405552864074707\n",
      "Loss 160000/200000: 1.8805674314498901\n",
      "Loss 180000/200000: 1.647599458694458\n"
     ]
    }
   ],
   "source": [
    "lossi = []\n",
    "stepsi = []\n",
    "tot_steps = len(stepsi)\n",
    "\n",
    "for i in range(max_steps):\n",
    "    # construct minibatch\n",
    "    ix = torch.randint(0, Xtr.shape[0], (batch_size,))\n",
    "    Xb, Yb = Xtr[ix], Ytr[ix] # batch X, Y\n",
    "    \n",
    "    # forward pass\n",
    "    logits = model(Xb)\n",
    "    loss = F.cross_entropy(logits, Yb)  # loss function\n",
    "    \n",
    "    # backward pass\n",
    "    for p in parameters:\n",
    "        p.grad = None\n",
    "    loss.backward()\n",
    "    \n",
    "    # update\n",
    "    lr = 0.1 if i < 150000 else 0.01    # switch learning rate\n",
    "    for p in parameters:\n",
    "        p.data += -lr * p.grad\n",
    "\n",
    "    # track stats\n",
    "    stepsi.append(tot_steps+i)\n",
    "    lossi.append(loss.item())\n",
    "    \n",
    "    # Print loss \n",
    "    if (i)%(max_steps/10) == 0:\n",
    "        print(f\"Loss {i}/{max_steps}: {loss.item()}\")\n"
   ]
  },
  {
   "cell_type": "code",
   "execution_count": 13,
   "id": "9ebb6d13-dae0-456f-9b88-2367ff3ff5b3",
   "metadata": {},
   "outputs": [
    {
     "data": {
      "image/png": "[encoded data removed]",
      "text/plain": [
       "<Figure size 640x480 with 1 Axes>"
      ]
     },
     "metadata": {},
     "output_type": "display_data"
    }
   ],
   "source": [
    "plt.plot(torch.tensor(lossi).view(-1, 1000).mean(1));"
   ]
  },
  {
   "cell_type": "code",
   "execution_count": 14,
   "id": "e78b7114-aebc-4b9d-9a9e-060a78286321",
   "metadata": {},
   "outputs": [],
   "source": [
    "# Set model in eval mode (mostly to be able to use batchnorm)\n",
    "for layer in model.layers:\n",
    "    layer.training = False"
   ]
  },
  {
   "cell_type": "code",
   "execution_count": 15,
   "id": "f3cc9294-5d49-4b89-a165-1d549911c4af",
   "metadata": {},
   "outputs": [
    {
     "name": "stdout",
     "output_type": "stream",
     "text": [
      "train loss : 1.7690292596817017\n",
      "val loss : 1.9936518669128418\n"
     ]
    }
   ],
   "source": [
    "@torch.no_grad() # this decorator disables gradient tracking, can also the context manager instead\n",
    "def split_loss(split):\n",
    "    ds = {\n",
    "        'train': (Xtr, Ytr),\n",
    "        'val':   (Xva, Yva),\n",
    "        'test':  (Xte, Yte),\n",
    "    }\n",
    "    x,y = ds[split]\n",
    "    logits = model(x)\n",
    "    loss = F.cross_entropy(logits, y)\n",
    "    print(f'{split} loss : {loss.item()}')\n",
    "\n",
    "split_loss('train')\n",
    "split_loss('val')"
   ]
  },
  {
   "cell_type": "code",
   "execution_count": 16,
   "id": "4e70f8e0-27a4-4a66-95b4-816ce0eae580",
   "metadata": {},
   "outputs": [
    {
     "name": "stdout",
     "output_type": "stream",
     "text": [
      "arlij.\n",
      "chetta.\n",
      "heago.\n",
      "rocklei.\n",
      "hendrix.\n",
      "jamylie.\n",
      "broxin.\n",
      "denish.\n",
      "anslibt.\n",
      "marianah.\n",
      "astavia.\n",
      "annayve.\n",
      "aniah.\n",
      "jayce.\n",
      "nodiel.\n",
      "remita.\n",
      "niyelle.\n",
      "jaylene.\n",
      "aiyan.\n",
      "aubreana.\n"
     ]
    }
   ],
   "source": [
    "for _ in range(20):\n",
    "    out = []\n",
    "    context = [0] * block_size # initialize all with ...\n",
    "    while True:\n",
    "        # forward pass\n",
    "        logits = model(torch.tensor([context]))\n",
    "        probs = F.softmax(logits, dim=1) # exponentiates the logits and then softmaxes them, similar to cross entroy no overflows\n",
    "        # sample from the distribution\n",
    "        ix = torch.multinomial(probs, num_samples=1).item()\n",
    "        # shift the context window and track the samples\n",
    "        context = context[1:] + [ix]\n",
    "        out.append(ix)\n",
    "        # break if we reach the special token '.'\n",
    "        if ix == 0:\n",
    "            break\n",
    "    \n",
    "    print(''.join(itos[i] for i in out))"
   ]
  },
  {
   "cell_type": "code",
   "execution_count": 18,
   "id": "737b67e3-1687-45b2-9797-d4c49196178c",
   "metadata": {},
   "outputs": [],
   "source": [
    "# Note our losses going down with tricks\n",
    "\n",
    "# Train test validation split - in the beginning\n",
    "# Train Loss : 2.2589\n",
    "# Val Loss   : 2.2702\n",
    "\n",
    "# After increasing NN capacity and embedding size\n",
    "# Train Loss : 2.1190\n",
    "# Val Loss   : 2.1711\n",
    "\n",
    "# After fixing init weight bias softmax confidently wrong\n",
    "# Train loss : 2.0695\n",
    "# Val loss   : 2.1310\n",
    "\n",
    "# After fixing tanh saturation\n",
    "# train loss : 2.0355\n",
    "# val loss   : 2.1026\n",
    "\n",
    "# Now, with kaiming init and not using magic numbers for tanh saturation\n",
    "# train loss : 2.0376\n",
    "# val loss   : 2.1069\n",
    "\n",
    "# With batch norm\n",
    "# train loss : 2.0668\n",
    "# val loss   : 2.1048\n",
    "\n",
    "# With manual backprop\n",
    "# train loss : 2.176852226257324\n",
    "# val loss : 2.1903560161590576\n",
    "\n",
    "# With increase context length to 8\n",
    "# train loss : 1.9163434505462646\n",
    "# val loss : 2.034247875213623\n",
    "\n",
    "# With switch from flat MLP to hiearchical layers\n",
    "# train loss : 1.9449892044067383\n",
    "# val loss : 2.0315096378326416\n",
    "\n",
    "# With batchnorm bug fix in hierarchical layers\n",
    "# train loss : 1.9116861820220947\n",
    "# val loss : 2.0205962657928467\n",
    "\n",
    "# With larger embedding size and number of neurons in hidden layers\n",
    "# train loss : 1.7690292596817017\n",
    "# val loss : 1.9936518669128418"
   ]
  },
  {
   "cell_type": "code",
   "execution_count": 19,
   "id": "c4ea0685-99b1-43dc-bfe2-6446004005b0",
   "metadata": {},
   "outputs": [],
   "source": [
    "# we have broken the 2.0 barrier\n",
    "# but it's taking us longer to run experiments\n",
    "# next we will build an experiment harness"
   ]
  }
 ],
 "metadata": {
  "kernelspec": {
   "display_name": "Python 3 (ipykernel)",
   "language": "python",
   "name": "python3"
  },
  "language_info": {
   "codemirror_mode": {
    "name": "ipython",
    "version": 3
   },
   "file_extension": ".py",
   "mimetype": "text/x-python",
   "name": "python",
   "nbconvert_exporter": "python",
   "pygments_lexer": "ipython3",
   "version": "3.10.4"
  }
 },
 "nbformat": 4,
 "nbformat_minor": 5
}
