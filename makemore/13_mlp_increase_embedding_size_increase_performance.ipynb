{
 "cells": [
  {
   "cell_type": "code",
   "execution_count": 1,
   "id": "6912fe95-e748-434d-8b46-b74948486564",
   "metadata": {},
   "outputs": [],
   "source": [
    "import matplotlib.pyplot as plt\n",
    "%matplotlib inline"
   ]
  },
  {
   "cell_type": "code",
   "execution_count": 2,
   "id": "ac6299d6-c7ae-4032-a0ee-7223bde0bde8",
   "metadata": {},
   "outputs": [],
   "source": [
    "import torch\n",
    "import torch.nn.functional as F"
   ]
  },
  {
   "cell_type": "code",
   "execution_count": 3,
   "id": "84e765f4-b077-4988-8361-53dbc31b4896",
   "metadata": {},
   "outputs": [
    {
     "data": {
      "text/plain": [
       "(32033,\n",
       " ['emma', 'olivia', 'ava', 'isabella', 'sophia', 'charlotte', 'mia', 'amelia'])"
      ]
     },
     "execution_count": 3,
     "metadata": {},
     "output_type": "execute_result"
    }
   ],
   "source": [
    "words = open('names.txt').read().splitlines()\n",
    "len(words), words[:8]"
   ]
  },
  {
   "cell_type": "code",
   "execution_count": 4,
   "id": "749ad72a-9e36-4f63-848f-0d6ddc49600c",
   "metadata": {},
   "outputs": [],
   "source": [
    "# let's only have one special token, and let's have it at index 0, offset others by 1\n",
    "chars = sorted(list(set(''.join(words))))\n",
    "stoi = {s:i+1 for i,s in enumerate(chars)}\n",
    "stoi['.'] = 0\n",
    "itos = {i:s for s,i in stoi.items()}\n",
    "num_classes = len(stoi)"
   ]
  },
  {
   "cell_type": "code",
   "execution_count": 5,
   "id": "b6fd705c-b06a-43af-bca1-f8a7d3ae4235",
   "metadata": {},
   "outputs": [],
   "source": [
    "# As we saw before that the network was underfitting\n",
    "# so we further increase embedding size 2 -> 10"
   ]
  },
  {
   "cell_type": "code",
   "execution_count": 6,
   "id": "52455b1c-8e0f-4a1d-aa4f-0f41e2fe32c6",
   "metadata": {},
   "outputs": [
    {
     "data": {
      "text/plain": [
       "17697"
      ]
     },
     "execution_count": 6,
     "metadata": {},
     "output_type": "execute_result"
    }
   ],
   "source": [
    "g = torch.Generator().manual_seed(2147483647)\n",
    "C = torch.randn((27, 10), generator=g)\n",
    "W1 = torch.randn((3*10, 300), generator=g)\n",
    "b1 = torch.randn(300, generator=g)\n",
    "W2 = torch.randn((300, 27), generator=g)\n",
    "b2 = torch.randn(27, generator=g)\n",
    "parameters = [C, W1, b1, W2, b2]\n",
    "\n",
    "\n",
    "sum(p.nelement() for p in parameters) # total number of parameters"
   ]
  },
  {
   "cell_type": "code",
   "execution_count": 7,
   "id": "dc7789bb-f552-4762-be51-aa6c34e612cf",
   "metadata": {},
   "outputs": [],
   "source": [
    "def build_dataset(words):\n",
    "    block_size = 3 # How many characters do we take to predict the next one : 3 chars to predict the 4th\n",
    "    X, Y, = [], [] # X, input | Y, labels\n",
    "\n",
    "    for w in words:\n",
    "        context = [0] * block_size\n",
    "        for ch in w + '.':\n",
    "            ix = stoi[ch]\n",
    "            X.append(context)\n",
    "            Y.append(ix)\n",
    "            context = context[1:] + [ix] # crop and append moving window\n",
    "\n",
    "    X = torch.tensor(X)\n",
    "    Y = torch.tensor(Y)    \n",
    "    return X, Y"
   ]
  },
  {
   "cell_type": "code",
   "execution_count": 8,
   "id": "fc34bfb8-2f98-403e-b035-45888b93a7e0",
   "metadata": {},
   "outputs": [
    {
     "data": {
      "text/plain": [
       "(torch.Size([182625, 3]),\n",
       " torch.Size([182625]),\n",
       " torch.Size([22655, 3]),\n",
       " torch.Size([22655]),\n",
       " torch.Size([22866, 3]),\n",
       " torch.Size([22866]))"
      ]
     },
     "execution_count": 8,
     "metadata": {},
     "output_type": "execute_result"
    }
   ],
   "source": [
    "# Splits\n",
    "import random\n",
    "random.seed(42)\n",
    "random.shuffle(words)\n",
    "\n",
    "n1 = int(0.8*len(words))\n",
    "n2 = int(0.9*len(words))\n",
    "\n",
    "Xtr, Ytr = build_dataset(words[:n1])\n",
    "Xva, Yva = build_dataset(words[n1:n2])\n",
    "Xte, Yte = build_dataset(words[n2:])\n",
    "\n",
    "Xtr.shape, Ytr.shape, Xva.shape, Yva.shape, Xte.shape, Yte.shape"
   ]
  },
  {
   "cell_type": "code",
   "execution_count": 9,
   "id": "b9e37fdb-baf5-49ac-9cce-8ef090c78246",
   "metadata": {},
   "outputs": [],
   "source": [
    "# parameters learnable\n",
    "for p in parameters:\n",
    "    p.requires_grad = True"
   ]
  },
  {
   "cell_type": "code",
   "execution_count": 10,
   "id": "f59b12d9-99ae-4a43-a3cf-49fc98be74b0",
   "metadata": {},
   "outputs": [],
   "source": [
    "lr = 0.1\n",
    "steps = 100000"
   ]
  },
  {
   "cell_type": "code",
   "execution_count": 11,
   "id": "f5998634-1415-4897-af9f-c842951dd0c9",
   "metadata": {},
   "outputs": [],
   "source": [
    "lri = []\n",
    "lossi = []\n",
    "losslog10i = []\n",
    "stepsi = []"
   ]
  },
  {
   "cell_type": "code",
   "execution_count": 12,
   "id": "ac49889a-356d-4dd9-92d9-70039ce2f91b",
   "metadata": {},
   "outputs": [
    {
     "name": "stdout",
     "output_type": "stream",
     "text": [
      "Iteration 9999: Minibatch loss : 3.0577516555786133\n",
      "Iteration 19999: Minibatch loss : 2.771880626678467\n",
      "Iteration 29999: Minibatch loss : 2.406498908996582\n",
      "Iteration 39999: Minibatch loss : 2.6142654418945312\n",
      "Iteration 49999: Minibatch loss : 2.4154577255249023\n",
      "Iteration 59999: Minibatch loss : 2.754577159881592\n",
      "Iteration 69999: Minibatch loss : 2.5600452423095703\n",
      "Iteration 79999: Minibatch loss : 2.1529369354248047\n",
      "Iteration 89999: Minibatch loss : 2.266333818435669\n",
      "Iteration 99999: Minibatch loss : 1.9360886812210083\n"
     ]
    }
   ],
   "source": [
    "for i in range(steps):\n",
    "    # minibatches\n",
    "    bs = 32\n",
    "    ix = torch.randint(0, Xtr.shape[0], (bs,))\n",
    "    \n",
    "    # forward pass\n",
    "    emb = C[Xtr[ix]] # [32, 3, 2]\n",
    "    h = torch.tanh(emb.view(-1, W1.shape[0]) @ W1 + b1) # [32, 100]\n",
    "    logits = h @ W2 + b2 # [32, 27]\n",
    "    loss = F.cross_entropy(logits, Ytr[ix]) # also Ys have to be at the same index\n",
    "    if (i+1)%(steps/10) == 0:\n",
    "        print(f\"Iteration {i}: Minibatch loss : {loss.item()}\")\n",
    "\n",
    "    # backward pass\n",
    "    for p in parameters:\n",
    "        p.grad = None\n",
    "    loss.backward()\n",
    "\n",
    "    # update\n",
    "    for p in parameters:\n",
    "        p.data += -lr * p.grad\n",
    "    \n",
    "    # track stats\n",
    "    stepsi.append(i)\n",
    "    lossi.append(loss.item())\n",
    "    losslog10i.append(loss.log10().item())"
   ]
  },
  {
   "cell_type": "code",
   "execution_count": 13,
   "id": "7493128a-7431-4228-ae98-4471a8cf7df1",
   "metadata": {},
   "outputs": [
    {
     "data": {
      "text/plain": [
       "[<matplotlib.lines.Line2D at 0x7f518de49cf0>]"
      ]
     },
     "execution_count": 13,
     "metadata": {},
     "output_type": "execute_result"
    },
    {
     "data": {
      "image/png": "[encoded data removed]",
      "text/plain": [
       "<Figure size 640x480 with 1 Axes>"
      ]
     },
     "metadata": {},
     "output_type": "display_data"
    }
   ],
   "source": [
    "plt.plot(stepsi, losslog10i)"
   ]
  },
  {
   "cell_type": "code",
   "execution_count": 14,
   "id": "4e518781-4d43-4c0a-a3ee-543802a478c0",
   "metadata": {},
   "outputs": [],
   "source": [
    "# The reason to plot logloss instead of loss is to squash the hockey stick high difference into a reasonable window"
   ]
  },
  {
   "cell_type": "code",
   "execution_count": 15,
   "id": "ee8307b7-1563-4496-b0bb-0184b9c2f06a",
   "metadata": {},
   "outputs": [],
   "source": [
    "# We're expecting this to go down in a curve and then stabilize, this looks noisy\n",
    "# Let's continue training\n",
    "# One possibility is that the batch size is so low that we might have a noisy training"
   ]
  },
  {
   "cell_type": "code",
   "execution_count": 16,
   "id": "1ee2429c-3a8a-4d8f-83c4-83d6dee4a9c4",
   "metadata": {},
   "outputs": [],
   "source": [
    "lr = 0.01\n",
    "steps = 30000"
   ]
  },
  {
   "cell_type": "code",
   "execution_count": 17,
   "id": "7ccc380a-083b-41f3-88b4-e710f236ef52",
   "metadata": {},
   "outputs": [
    {
     "name": "stdout",
     "output_type": "stream",
     "text": [
      "Iteration 2999: Minibatch loss : 1.890265703201294\n",
      "Iteration 5999: Minibatch loss : 2.14074444770813\n",
      "Iteration 8999: Minibatch loss : 2.1198480129241943\n",
      "Iteration 11999: Minibatch loss : 2.3124125003814697\n",
      "Iteration 14999: Minibatch loss : 2.0394065380096436\n",
      "Iteration 17999: Minibatch loss : 2.5261497497558594\n",
      "Iteration 20999: Minibatch loss : 1.931862711906433\n",
      "Iteration 23999: Minibatch loss : 1.8497381210327148\n",
      "Iteration 26999: Minibatch loss : 2.4497530460357666\n",
      "Iteration 29999: Minibatch loss : 1.932510495185852\n"
     ]
    }
   ],
   "source": [
    "for i in range(steps):\n",
    "    # minibatches\n",
    "    bs = 32\n",
    "    ix = torch.randint(0, Xtr.shape[0], (bs,))\n",
    "    \n",
    "    # forward pass\n",
    "    emb = C[Xtr[ix]] # [32, 3, 2]\n",
    "    h = torch.tanh(emb.view(-1, W1.shape[0]) @ W1 + b1) # [32, 100]\n",
    "    logits = h @ W2 + b2 # [32, 27]\n",
    "    loss = F.cross_entropy(logits, Ytr[ix]) # also Ys have to be at the same index\n",
    "    if (i+1)%(steps/10) == 0:\n",
    "        print(f\"Iteration {i}: Minibatch loss : {loss.item()}\")\n",
    "\n",
    "    # backward pass\n",
    "    for p in parameters:\n",
    "        p.grad = None\n",
    "    loss.backward()\n",
    "\n",
    "    # update\n",
    "    for p in parameters:\n",
    "        p.data += -lr * p.grad\n",
    "    \n",
    "    # track stats\n",
    "    stepsi.append(i)\n",
    "    lossi.append(loss.item())\n",
    "    losslog10i.append(loss.log10().item())"
   ]
  },
  {
   "cell_type": "code",
   "execution_count": 18,
   "id": "eab001c2-f2ac-4952-92fd-3e2f6e389d98",
   "metadata": {},
   "outputs": [
    {
     "data": {
      "text/plain": [
       "[<matplotlib.lines.Line2D at 0x7f518d9f31f0>]"
      ]
     },
     "execution_count": 18,
     "metadata": {},
     "output_type": "execute_result"
    },
    {
     "data": {
      "image/png": "[encoded data removed]",
      "text/plain": [
       "<Figure size 640x480 with 1 Axes>"
      ]
     },
     "metadata": {},
     "output_type": "display_data"
    }
   ],
   "source": [
    "plt.plot(stepsi, losslog10i)"
   ]
  },
  {
   "cell_type": "code",
   "execution_count": 19,
   "id": "71961730-138e-4a57-b12c-3d1661930bdb",
   "metadata": {},
   "outputs": [],
   "source": [
    "# Let take a look at the losses"
   ]
  },
  {
   "cell_type": "code",
   "execution_count": 20,
   "id": "046e2086-fd97-4e25-bbcf-e0b37d7f56b5",
   "metadata": {},
   "outputs": [
    {
     "data": {
      "text/plain": [
       "tensor(2.1411, grad_fn=<NllLossBackward0>)"
      ]
     },
     "execution_count": 20,
     "metadata": {},
     "output_type": "execute_result"
    }
   ],
   "source": [
    "# Lets now get Training loss\n",
    "emb = C[Xtr]\n",
    "h = torch.tanh(emb.view(-1, W1.shape[0]) @ W1 + b1)\n",
    "logits = h @ W2 + b2\n",
    "loss = F.cross_entropy(logits, Ytr)\n",
    "loss"
   ]
  },
  {
   "cell_type": "code",
   "execution_count": 21,
   "id": "a1183918-348d-4969-bdf0-1a09271b812c",
   "metadata": {},
   "outputs": [
    {
     "data": {
      "text/plain": [
       "tensor(2.1892, grad_fn=<NllLossBackward0>)"
      ]
     },
     "execution_count": 21,
     "metadata": {},
     "output_type": "execute_result"
    }
   ],
   "source": [
    "# Lets now get Validation loss\n",
    "emb = C[Xva]\n",
    "h = torch.tanh(emb.view(-1, W1.shape[0]) @ W1 + b1)\n",
    "logits = h @ W2 + b2\n",
    "loss = F.cross_entropy(logits, Yva)\n",
    "loss"
   ]
  },
  {
   "cell_type": "code",
   "execution_count": 23,
   "id": "654ececf-a627-4ea9-b6d3-2896ecd4386c",
   "metadata": {},
   "outputs": [],
   "source": [
    "# On production, we'd setup all these different hyperparameters in a range search, think sweeps\n",
    "# We'd run lots of fully automated experiments\n",
    "# Also we'd used schedules to vary the hyperparameters\n",
    "# Eventually we would find a set of hyperparameters that would yield the best result\n",
    "# hone on in that and make it highly replicable"
   ]
  },
  {
   "cell_type": "code",
   "execution_count": 27,
   "id": "6c8b5f15-ec96-4d1f-af8c-38863930ecf3",
   "metadata": {},
   "outputs": [],
   "source": [
    "# We can see that the training and validation loss are starting to slightly depart from each other\n",
    "# training loss usually being lower than validation loss, which is what's expected, slowly starting to overfit\n",
    "# so, increasing the embedding size definitely helped as it dropped below the previous nb"
   ]
  },
  {
   "cell_type": "code",
   "execution_count": 28,
   "id": "75a23a6e-0c4c-4667-955c-707a3abcedb0",
   "metadata": {},
   "outputs": [],
   "source": [
    "# Run a lot of experiments, scrutnize whichever gives the best validation/dev performance\n",
    "# Take the set of hyperparamters that gives the best validation performance\n",
    "# Run it on your test set once, and finally publish/brag about that metric"
   ]
  },
  {
   "cell_type": "code",
   "execution_count": 29,
   "id": "f338e713-40e8-4eee-b320-701081c483fd",
   "metadata": {},
   "outputs": [],
   "source": [
    "# Many ways to go from here\n",
    "# Continue tuning the optimization (lr decay etc)\n",
    "# continue playing with the size of NN, embedding size\n",
    "# OR, change the number of words, character context sizes in our examples"
   ]
  },
  {
   "cell_type": "code",
   "execution_count": 30,
   "id": "788a9549-4944-48ec-81ce-eb30457c165f",
   "metadata": {},
   "outputs": [],
   "source": [
    "# Andrej got 2.17 on validation loss, let's try to beat that in the next nb"
   ]
  }
 ],
 "metadata": {
  "kernelspec": {
   "display_name": "Python 3 (ipykernel)",
   "language": "python",
   "name": "python3"
  },
  "language_info": {
   "codemirror_mode": {
    "name": "ipython",
    "version": 3
   },
   "file_extension": ".py",
   "mimetype": "text/x-python",
   "name": "python",
   "nbconvert_exporter": "python",
   "pygments_lexer": "ipython3",
   "version": "3.10.4"
  }
 },
 "nbformat": 4,
 "nbformat_minor": 5
}
