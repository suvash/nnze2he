{
 "cells": [
  {
   "cell_type": "code",
   "execution_count": 1,
   "id": "6912fe95-e748-434d-8b46-b74948486564",
   "metadata": {},
   "outputs": [],
   "source": [
    "import matplotlib.pyplot as plt\n",
    "%matplotlib inline"
   ]
  },
  {
   "cell_type": "code",
   "execution_count": 2,
   "id": "ac6299d6-c7ae-4032-a0ee-7223bde0bde8",
   "metadata": {},
   "outputs": [],
   "source": [
    "import torch\n",
    "import torch.nn.functional as F"
   ]
  },
  {
   "cell_type": "code",
   "execution_count": 3,
   "id": "84e765f4-b077-4988-8361-53dbc31b4896",
   "metadata": {},
   "outputs": [
    {
     "data": {
      "text/plain": [
       "(32033,\n",
       " ['emma', 'olivia', 'ava', 'isabella', 'sophia', 'charlotte', 'mia', 'amelia'])"
      ]
     },
     "execution_count": 3,
     "metadata": {},
     "output_type": "execute_result"
    }
   ],
   "source": [
    "words = open('names.txt').read().splitlines()\n",
    "len(words), words[:8]"
   ]
  },
  {
   "cell_type": "code",
   "execution_count": 4,
   "id": "749ad72a-9e36-4f63-848f-0d6ddc49600c",
   "metadata": {},
   "outputs": [],
   "source": [
    "# let's only have one special token, and let's have it at index 0, offset others by 1\n",
    "chars = sorted(list(set(''.join(words))))\n",
    "stoi = {s:i+1 for i,s in enumerate(chars)}\n",
    "stoi['.'] = 0\n",
    "itos = {i:s for s,i in stoi.items()}\n",
    "num_classes = len(stoi)"
   ]
  },
  {
   "cell_type": "code",
   "execution_count": 5,
   "id": "7d9ba170-262e-44ca-9683-d9a9a96adb16",
   "metadata": {},
   "outputs": [
    {
     "data": {
      "text/plain": [
       "(torch.Size([228146, 3]), torch.int64, torch.Size([228146]), torch.int64)"
      ]
     },
     "execution_count": 5,
     "metadata": {},
     "output_type": "execute_result"
    }
   ],
   "source": [
    "# Whole dataset\n",
    "\n",
    "block_size = 3 # How many characters do we take to predict the next one : 3 chars to predict the 4th\n",
    "X, Y, = [], [] # X, input | Y, labels\n",
    "\n",
    "for w in words:\n",
    "    context = [0] * block_size\n",
    "    for ch in w + '.':\n",
    "        ix = stoi[ch]\n",
    "        X.append(context)\n",
    "        Y.append(ix)\n",
    "        context = context[1:] + [ix] # crop and append moving window\n",
    "\n",
    "X = torch.tensor(X)\n",
    "Y = torch.tensor(Y)\n",
    "\n",
    "X.shape, X.dtype, Y.shape, Y.dtype"
   ]
  },
  {
   "cell_type": "code",
   "execution_count": 6,
   "id": "52455b1c-8e0f-4a1d-aa4f-0f41e2fe32c6",
   "metadata": {},
   "outputs": [
    {
     "data": {
      "text/plain": [
       "3481"
      ]
     },
     "execution_count": 6,
     "metadata": {},
     "output_type": "execute_result"
    }
   ],
   "source": [
    "g = torch.Generator().manual_seed(2147483647)\n",
    "C = torch.randn((27, 2), generator=g)\n",
    "W1 = torch.randn((3*2, 100), generator=g)\n",
    "b1 = torch.randn(100, generator=g)\n",
    "W2 = torch.randn((100, 27), generator=g)\n",
    "b2 = torch.randn(27, generator=g)\n",
    "parameters = [C, W1, b1, W2, b2]\n",
    "\n",
    "\n",
    "sum(p.nelement() for p in parameters) # total number of parameters"
   ]
  },
  {
   "cell_type": "code",
   "execution_count": 7,
   "id": "b9e37fdb-baf5-49ac-9cce-8ef090c78246",
   "metadata": {},
   "outputs": [],
   "source": [
    "# parameters learnable\n",
    "for p in parameters:\n",
    "    p.requires_grad = True"
   ]
  },
  {
   "cell_type": "code",
   "execution_count": 8,
   "id": "d6d8e915-9193-4a9f-aefd-aea455d0c6f3",
   "metadata": {},
   "outputs": [],
   "source": [
    "# we have now figured out that a good LR is 0.1 for this dataset from prev notebook\n",
    "# lets crank up the number of iterations"
   ]
  },
  {
   "cell_type": "code",
   "execution_count": 9,
   "id": "f59b12d9-99ae-4a43-a3cf-49fc98be74b0",
   "metadata": {},
   "outputs": [],
   "source": [
    "lr = 0.1\n",
    "steps = 100000"
   ]
  },
  {
   "cell_type": "code",
   "execution_count": 10,
   "id": "ac49889a-356d-4dd9-92d9-70039ce2f91b",
   "metadata": {},
   "outputs": [
    {
     "name": "stdout",
     "output_type": "stream",
     "text": [
      "Iteration 9999: Minibatch loss : 2.532820701599121\n",
      "Iteration 19999: Minibatch loss : 2.8786001205444336\n",
      "Iteration 29999: Minibatch loss : 2.597663640975952\n",
      "Iteration 39999: Minibatch loss : 2.59043550491333\n",
      "Iteration 49999: Minibatch loss : 2.40293288230896\n",
      "Iteration 59999: Minibatch loss : 2.1534323692321777\n",
      "Iteration 69999: Minibatch loss : 2.4668455123901367\n",
      "Iteration 79999: Minibatch loss : 2.1520745754241943\n",
      "Iteration 89999: Minibatch loss : 2.352787971496582\n",
      "Iteration 99999: Minibatch loss : 2.2285616397857666\n"
     ]
    }
   ],
   "source": [
    "for i in range(steps):\n",
    "    # minibatches\n",
    "    bs = 32\n",
    "    ix = torch.randint(0, X.shape[0], (bs,))\n",
    "    \n",
    "    # forward pass\n",
    "    emb = C[X[ix]] # [32, 3, 2]\n",
    "    h = torch.tanh(emb.view(-1, W1.shape[0]) @ W1 + b1) # [32, 100]\n",
    "    logits = h @ W2 + b2 # [32, 27]\n",
    "    loss = F.cross_entropy(logits, Y[ix]) # also Ys have to be at the same index\n",
    "    if (i+1)%(steps/10) == 0:\n",
    "        print(f\"Iteration {i}: Minibatch loss : {loss.item()}\")\n",
    "\n",
    "    # backward pass\n",
    "    for p in parameters:\n",
    "        p.grad = None\n",
    "    loss.backward()\n",
    "\n",
    "    # update\n",
    "    for p in parameters:\n",
    "        p.data += -lr * p.grad"
   ]
  },
  {
   "cell_type": "code",
   "execution_count": 11,
   "id": "046e2086-fd97-4e25-bbcf-e0b37d7f56b5",
   "metadata": {},
   "outputs": [
    {
     "data": {
      "text/plain": [
       "tensor(2.3382, grad_fn=<NllLossBackward0>)"
      ]
     },
     "execution_count": 11,
     "metadata": {},
     "output_type": "execute_result"
    }
   ],
   "source": [
    "# lets now get loss for all of X\n",
    "emb = C[X]\n",
    "h = torch.tanh(emb.view(-1, W1.shape[0]) @ W1 + b1)\n",
    "logits = h @ W2 + b2\n",
    "loss = F.cross_entropy(logits, Y)\n",
    "loss"
   ]
  },
  {
   "cell_type": "code",
   "execution_count": 12,
   "id": "673ed5e3-420d-424a-80a3-1560e092801a",
   "metadata": {},
   "outputs": [],
   "source": [
    "# Remember that our bigram loss was ~ 2.45"
   ]
  },
  {
   "cell_type": "code",
   "execution_count": 13,
   "id": "41cf7de7-30ef-4e8e-8f1f-3a0e8d79b1bf",
   "metadata": {},
   "outputs": [],
   "source": [
    "# Now let's try a concept called learning rate decay\n",
    "# Towards the end of our training loop, esp. when the loss starts to pleateau a bit\n",
    "# we progressively decay our learning rate, so as to take smaller steps\n",
    "# for the sake of loss stability"
   ]
  },
  {
   "cell_type": "code",
   "execution_count": 14,
   "id": "749f5b6d-dd4b-4317-8671-57b310ab11ef",
   "metadata": {},
   "outputs": [],
   "source": [
    "lr = 0.01\n",
    "steps = 100000"
   ]
  },
  {
   "cell_type": "code",
   "execution_count": 15,
   "id": "6a75f831-fd72-4536-b5f3-861cf904cc25",
   "metadata": {},
   "outputs": [
    {
     "name": "stdout",
     "output_type": "stream",
     "text": [
      "Iteration 9999: Minibatch loss : 2.143094539642334\n",
      "Iteration 19999: Minibatch loss : 2.0366854667663574\n",
      "Iteration 29999: Minibatch loss : 2.177292585372925\n",
      "Iteration 39999: Minibatch loss : 2.514849901199341\n",
      "Iteration 49999: Minibatch loss : 2.857970952987671\n",
      "Iteration 59999: Minibatch loss : 2.5583720207214355\n",
      "Iteration 69999: Minibatch loss : 2.4936392307281494\n",
      "Iteration 79999: Minibatch loss : 2.499969482421875\n",
      "Iteration 89999: Minibatch loss : 2.360161542892456\n",
      "Iteration 99999: Minibatch loss : 2.292132616043091\n"
     ]
    }
   ],
   "source": [
    "for i in range(steps):\n",
    "    # minibatches\n",
    "    bs = 32\n",
    "    ix = torch.randint(0, X.shape[0], (bs,))\n",
    "    \n",
    "    # forward pass\n",
    "    emb = C[X[ix]] # [32, 3, 2]\n",
    "    h = torch.tanh(emb.view(-1, W1.shape[0]) @ W1 + b1) # [32, 100]\n",
    "    logits = h @ W2 + b2 # [32, 27]\n",
    "    loss = F.cross_entropy(logits, Y[ix]) # also Ys have to be at the same index\n",
    "    if (i+1)%(steps/10) == 0:\n",
    "        print(f\"Iteration {i}: Minibatch loss : {loss.item()}\")\n",
    "\n",
    "    # backward pass\n",
    "    for p in parameters:\n",
    "        p.grad = None\n",
    "    loss.backward()\n",
    "\n",
    "    # update\n",
    "    for p in parameters:\n",
    "        p.data += -lr * p.grad"
   ]
  },
  {
   "cell_type": "code",
   "execution_count": 16,
   "id": "6c5ecb7d-e4a6-48d2-8e19-037b67e309bb",
   "metadata": {},
   "outputs": [
    {
     "data": {
      "text/plain": [
       "tensor(2.2586, grad_fn=<NllLossBackward0>)"
      ]
     },
     "execution_count": 16,
     "metadata": {},
     "output_type": "execute_result"
    }
   ],
   "source": [
    "# lets now get loss for all of X\n",
    "emb = C[X]\n",
    "h = torch.tanh(emb.view(-1, W1.shape[0]) @ W1 + b1)\n",
    "logits = h @ W2 + b2\n",
    "loss = F.cross_entropy(logits, Y)\n",
    "loss"
   ]
  },
  {
   "cell_type": "code",
   "execution_count": 18,
   "id": "3972659e-380e-4b95-af1f-735313ddf5f9",
   "metadata": {},
   "outputs": [],
   "source": [
    "# Dramatic improvement over the bigram model ~= 2.45"
   ]
  }
 ],
 "metadata": {
  "kernelspec": {
   "display_name": "Python 3 (ipykernel)",
   "language": "python",
   "name": "python3"
  },
  "language_info": {
   "codemirror_mode": {
    "name": "ipython",
    "version": 3
   },
   "file_extension": ".py",
   "mimetype": "text/x-python",
   "name": "python",
   "nbconvert_exporter": "python",
   "pygments_lexer": "ipython3",
   "version": "3.10.4"
  }
 },
 "nbformat": 4,
 "nbformat_minor": 5
}
