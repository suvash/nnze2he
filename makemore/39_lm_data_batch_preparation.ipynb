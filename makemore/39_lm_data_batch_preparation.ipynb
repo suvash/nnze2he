{
 "cells": [
  {
   "cell_type": "code",
   "execution_count": 1,
   "id": "b2e5697c-cece-41b6-8426-7bcedab7237a",
   "metadata": {},
   "outputs": [],
   "source": [
    "# gpt like model, chatgpt as example\n",
    "# under the hood, how do these work\n",
    "# Attention is all you need : 2017 - Landmark paper\n",
    "# GPT : Generative Pretrained Transformer"
   ]
  },
  {
   "cell_type": "code",
   "execution_count": 2,
   "id": "c7019959-ad4d-429c-b7cc-598b1b514da7",
   "metadata": {},
   "outputs": [],
   "source": [
    "# Reads like a random machine translation paper\n",
    "# ended up taking over rest of AI in the next 5 years\n",
    "# transformer is the core gpt like systems\n",
    "#\n",
    "# build something like chatgpt, but of course, wont' be that great\n",
    "# focus on training a transformer based language model from scratch\n",
    "# character level lang model"
   ]
  },
  {
   "cell_type": "code",
   "execution_count": 3,
   "id": "b660a889-299c-4f31-8911-a0560972d745",
   "metadata": {},
   "outputs": [],
   "source": [
    "# fairly sized dataset\n",
    "# tinyshakespeare dataset"
   ]
  },
  {
   "cell_type": "code",
   "execution_count": 4,
   "id": "dab9f64e-df6a-483c-b3e8-e9a455bd5187",
   "metadata": {},
   "outputs": [],
   "source": [
    "# model how characters follow each other\n",
    "# given context in the past, the model will predict what is likely to come next\n",
    "\n",
    "# nanoGPT\n",
    "# repository for training transformers on any given text\n",
    "# 2 files of 300 LoC each\n",
    "# Model and Trainer\n",
    "\n",
    "# write this repository from scratch\n",
    "# Let's go"
   ]
  },
  {
   "cell_type": "code",
   "execution_count": 5,
   "id": "08694562-bd65-4715-b085-dec26aad5abe",
   "metadata": {},
   "outputs": [
    {
     "data": {
      "text/plain": [
       "1115394"
      ]
     },
     "execution_count": 5,
     "metadata": {},
     "output_type": "execute_result"
    }
   ],
   "source": [
    "text = open('tinyshakespeare.txt').read()\n",
    "len(text)"
   ]
  },
  {
   "cell_type": "code",
   "execution_count": 6,
   "id": "0e08912c-7d56-43f3-a3ab-23634d5a0ec6",
   "metadata": {},
   "outputs": [
    {
     "name": "stdout",
     "output_type": "stream",
     "text": [
      "First Citizen:\n",
      "Before we proceed any further, hear me speak.\n",
      "\n",
      "All:\n",
      "Speak, speak.\n",
      "\n",
      "First Citizen:\n",
      "You\n"
     ]
    }
   ],
   "source": [
    "print(text[:100])"
   ]
  },
  {
   "cell_type": "code",
   "execution_count": 7,
   "id": "12da28f3-9167-4e2e-b44f-aba465650847",
   "metadata": {},
   "outputs": [
    {
     "name": "stdout",
     "output_type": "stream",
     "text": [
      "\n",
      " !$&',-.3:;?ABCDEFGHIJKLMNOPQRSTUVWXYZabcdefghijklmnopqrstuvwxyz\n",
      "65\n"
     ]
    }
   ],
   "source": [
    "chars = sorted(list(set(text)))\n",
    "vocab_size = len(chars)\n",
    "print(''.join(chars))\n",
    "print(vocab_size)"
   ]
  },
  {
   "cell_type": "code",
   "execution_count": 8,
   "id": "09137ff8-4a47-4b2d-8af2-d2da05c65acd",
   "metadata": {},
   "outputs": [
    {
     "name": "stdout",
     "output_type": "stream",
     "text": [
      "[46, 47, 1, 58, 46, 43, 56, 43]\n",
      "hi there\n"
     ]
    }
   ],
   "source": [
    "# tokenize\n",
    "stoi = {ch: i for i,ch in enumerate(chars)}\n",
    "itos = {i: ch for i,ch in enumerate(chars)}\n",
    "encode = lambda s: [stoi[c] for c in s]\n",
    "decode = lambda l: ''.join([itos[i] for i in l])\n",
    "\n",
    "print(encode('hi there'))\n",
    "print(decode(encode('hi there')))"
   ]
  },
  {
   "cell_type": "code",
   "execution_count": 9,
   "id": "aaccbf4f-8dd9-4024-8b04-3e0277645ca4",
   "metadata": {},
   "outputs": [],
   "source": [
    "# this is just one way to tokenize\n",
    "# google sentencepiece (subword)\n",
    "# hf tokenizers\n",
    "# openai tiktoken (bpe)\n",
    "#\n",
    "# we will keep using char level"
   ]
  },
  {
   "cell_type": "code",
   "execution_count": 10,
   "id": "ec03e768-8c76-42f1-93d6-7670b641dbe4",
   "metadata": {},
   "outputs": [
    {
     "name": "stdout",
     "output_type": "stream",
     "text": [
      "torch.Size([1115394]) torch.int64\n"
     ]
    }
   ],
   "source": [
    "import torch\n",
    "data = torch.tensor(encode(text), dtype=torch.long)\n",
    "print(data.shape, data.dtype)"
   ]
  },
  {
   "cell_type": "code",
   "execution_count": 11,
   "id": "726bef3a-74ba-4a60-b891-097aea14483f",
   "metadata": {},
   "outputs": [
    {
     "name": "stdout",
     "output_type": "stream",
     "text": [
      "tensor([18, 47, 56, 57, 58,  1, 15, 47, 58, 47, 64, 43, 52, 10,  0, 14, 43, 44,\n",
      "        53, 56, 43,  1, 61, 43,  1, 54, 56, 53, 41, 43, 43, 42,  1, 39, 52, 63,\n",
      "         1, 44, 59, 56, 58, 46, 43, 56,  6,  1, 46, 43, 39, 56,  1, 51, 43,  1,\n",
      "        57, 54, 43, 39, 49,  8,  0,  0, 13, 50, 50, 10,  0, 31, 54, 43, 39, 49,\n",
      "         6,  1, 57, 54, 43, 39, 49,  8,  0,  0, 18, 47, 56, 57, 58,  1, 15, 47,\n",
      "        58, 47, 64, 43, 52, 10,  0, 37, 53, 59])\n"
     ]
    }
   ],
   "source": [
    "print(data[:100])"
   ]
  },
  {
   "cell_type": "code",
   "execution_count": 12,
   "id": "94a13649-b709-40f7-8057-cb22826fad03",
   "metadata": {},
   "outputs": [
    {
     "data": {
      "text/plain": [
       "(1003854, 111540)"
      ]
     },
     "execution_count": 12,
     "metadata": {},
     "output_type": "execute_result"
    }
   ],
   "source": [
    "# Let's split up the train and validation dataset\n",
    "n = int(0.9*len(data))\n",
    "train_data = data[:n]\n",
    "val_data = data[n:]\n",
    "\n",
    "len(train_data), len(val_data)"
   ]
  },
  {
   "cell_type": "code",
   "execution_count": 13,
   "id": "ff4d27a3-13e4-403f-aa01-4c1c9a1985a1",
   "metadata": {},
   "outputs": [],
   "source": [
    "# not going to feed entire text through transformers once\n",
    "# sample random little chunks and train them\n",
    "# length of these random little chunks called block_size, also called context length"
   ]
  },
  {
   "cell_type": "code",
   "execution_count": 14,
   "id": "3736dfbc-d67a-4b4f-b070-5eee03507b88",
   "metadata": {},
   "outputs": [
    {
     "data": {
      "text/plain": [
       "tensor([18, 47, 56, 57, 58,  1, 15, 47, 58])"
      ]
     },
     "execution_count": 14,
     "metadata": {},
     "output_type": "execute_result"
    }
   ],
   "source": [
    "block_size = 8\n",
    "train_data[:block_size+1]"
   ]
  },
  {
   "cell_type": "code",
   "execution_count": 15,
   "id": "e7ce1813-0c5a-4985-ad9b-5297cc6593c4",
   "metadata": {},
   "outputs": [],
   "source": [
    "# the above has multiple examples packed into it\n",
    "# we'll make the model simultaneously predict for all the positions\n",
    "# in chunk of 9 chars, there's 8 individual examples packed in there"
   ]
  },
  {
   "cell_type": "code",
   "execution_count": 16,
   "id": "14ac6bfd-80ab-4814-8e83-54b6b1c10207",
   "metadata": {},
   "outputs": [
    {
     "name": "stdout",
     "output_type": "stream",
     "text": [
      "context=tensor([18]), target=tensor(47)\n",
      "context=tensor([18, 47]), target=tensor(56)\n",
      "context=tensor([18, 47, 56]), target=tensor(57)\n",
      "context=tensor([18, 47, 56, 57]), target=tensor(58)\n",
      "context=tensor([18, 47, 56, 57, 58]), target=tensor(1)\n",
      "context=tensor([18, 47, 56, 57, 58,  1]), target=tensor(15)\n",
      "context=tensor([18, 47, 56, 57, 58,  1, 15]), target=tensor(47)\n",
      "context=tensor([18, 47, 56, 57, 58,  1, 15, 47]), target=tensor(58)\n"
     ]
    }
   ],
   "source": [
    "x = train_data[:block_size]\n",
    "y = train_data[1:block_size+1]\n",
    "for t in range(block_size):\n",
    "    context = x[:t+1]\n",
    "    target = y[t]\n",
    "    print(f'{context=}, {target=}')"
   ]
  },
  {
   "cell_type": "code",
   "execution_count": 17,
   "id": "d994b828-d18a-4113-8126-8d8b959789fb",
   "metadata": {},
   "outputs": [],
   "source": [
    "# not just done for efficiency because we have the examples\n",
    "# also done to make the transformers used to seeing context of varying length\n",
    "# be able to be robust both in short as well as long context length"
   ]
  },
  {
   "cell_type": "code",
   "execution_count": 18,
   "id": "d2528faf-885f-4aa8-a761-dc2e04377fff",
   "metadata": {},
   "outputs": [],
   "source": [
    "# one more dimension, that is the batch dimension\n",
    "# done for efficiency, so we can keep the GPUs busy"
   ]
  },
  {
   "cell_type": "code",
   "execution_count": 19,
   "id": "a9557742-cee3-4dda-a413-3171a6851884",
   "metadata": {},
   "outputs": [],
   "source": [
    "torch.manual_seed(1337)\n",
    "batch_size = 4           # how many individual sequences to process in parallel\n",
    "block_size = 8           # how many maximum individual characters in the example, max context length\n",
    "\n",
    "def get_batch(split, batch_size=batch_size):\n",
    "    data = train_data if split == 'train' else val_data\n",
    "    ix = torch.randint(len(data) - block_size, (batch_size,))\n",
    "    x = torch.stack([data[i:i+block_size] for i in ix])\n",
    "    y = torch.stack([data[i+1:i+block_size+1] for i in ix]) \n",
    "    return x, y"
   ]
  },
  {
   "cell_type": "code",
   "execution_count": 20,
   "id": "de740dd6-701a-486b-b3c2-a8e854027441",
   "metadata": {},
   "outputs": [
    {
     "name": "stdout",
     "output_type": "stream",
     "text": [
      "inputs:\n",
      "torch.Size([4, 8])\n",
      "tensor([[24, 43, 58,  5, 57,  1, 46, 43],\n",
      "        [44, 53, 56,  1, 58, 46, 39, 58],\n",
      "        [52, 58,  1, 58, 46, 39, 58,  1],\n",
      "        [25, 17, 27, 10,  0, 21,  1, 54]])\n",
      "targets:\n",
      "torch.Size([4, 8])\n",
      "tensor([[43, 58,  5, 57,  1, 46, 43, 39],\n",
      "        [53, 56,  1, 58, 46, 39, 58,  1],\n",
      "        [58,  1, 58, 46, 39, 58,  1, 46],\n",
      "        [17, 27, 10,  0, 21,  1, 54, 39]])\n",
      "----------\n"
     ]
    }
   ],
   "source": [
    "xb, yb = get_batch('train')\n",
    "\n",
    "print('inputs:')\n",
    "print(xb.shape)\n",
    "print(xb)\n",
    "print('targets:')\n",
    "print(yb.shape)\n",
    "print(yb)\n",
    "\n",
    "print('----------')"
   ]
  },
  {
   "cell_type": "code",
   "execution_count": 21,
   "id": "8696deec-85a1-48cd-998c-04d7dbf518cd",
   "metadata": {},
   "outputs": [
    {
     "name": "stdout",
     "output_type": "stream",
     "text": [
      "context=tensor([24]), target=tensor(43)\n",
      "context=tensor([24, 43]), target=tensor(58)\n",
      "context=tensor([24, 43, 58]), target=tensor(5)\n",
      "context=tensor([24, 43, 58,  5]), target=tensor(57)\n",
      "context=tensor([24, 43, 58,  5, 57]), target=tensor(1)\n",
      "context=tensor([24, 43, 58,  5, 57,  1]), target=tensor(46)\n",
      "context=tensor([24, 43, 58,  5, 57,  1, 46]), target=tensor(43)\n",
      "context=tensor([24, 43, 58,  5, 57,  1, 46, 43]), target=tensor(39)\n",
      "context=tensor([44]), target=tensor(53)\n",
      "context=tensor([44, 53]), target=tensor(56)\n",
      "context=tensor([44, 53, 56]), target=tensor(1)\n",
      "context=tensor([44, 53, 56,  1]), target=tensor(58)\n",
      "context=tensor([44, 53, 56,  1, 58]), target=tensor(46)\n",
      "context=tensor([44, 53, 56,  1, 58, 46]), target=tensor(39)\n",
      "context=tensor([44, 53, 56,  1, 58, 46, 39]), target=tensor(58)\n",
      "context=tensor([44, 53, 56,  1, 58, 46, 39, 58]), target=tensor(1)\n",
      "context=tensor([52]), target=tensor(58)\n",
      "context=tensor([52, 58]), target=tensor(1)\n",
      "context=tensor([52, 58,  1]), target=tensor(58)\n",
      "context=tensor([52, 58,  1, 58]), target=tensor(46)\n",
      "context=tensor([52, 58,  1, 58, 46]), target=tensor(39)\n",
      "context=tensor([52, 58,  1, 58, 46, 39]), target=tensor(58)\n",
      "context=tensor([52, 58,  1, 58, 46, 39, 58]), target=tensor(1)\n",
      "context=tensor([52, 58,  1, 58, 46, 39, 58,  1]), target=tensor(46)\n",
      "context=tensor([25]), target=tensor(17)\n",
      "context=tensor([25, 17]), target=tensor(27)\n",
      "context=tensor([25, 17, 27]), target=tensor(10)\n",
      "context=tensor([25, 17, 27, 10]), target=tensor(0)\n",
      "context=tensor([25, 17, 27, 10,  0]), target=tensor(21)\n",
      "context=tensor([25, 17, 27, 10,  0, 21]), target=tensor(1)\n",
      "context=tensor([25, 17, 27, 10,  0, 21,  1]), target=tensor(54)\n",
      "context=tensor([25, 17, 27, 10,  0, 21,  1, 54]), target=tensor(39)\n"
     ]
    }
   ],
   "source": [
    "for b in range(batch_size):\n",
    "    for t in range(block_size):\n",
    "        context = xb[b, :t+1]\n",
    "        target = yb[b, t]\n",
    "        print(f'{context=}, {target=}')"
   ]
  },
  {
   "cell_type": "code",
   "execution_count": 22,
   "id": "35236843-52f6-428e-b3b4-6b7fda5be46e",
   "metadata": {},
   "outputs": [
    {
     "name": "stdout",
     "output_type": "stream",
     "text": [
      "tensor([[24, 43, 58,  5, 57,  1, 46, 43],\n",
      "        [44, 53, 56,  1, 58, 46, 39, 58],\n",
      "        [52, 58,  1, 58, 46, 39, 58,  1],\n",
      "        [25, 17, 27, 10,  0, 21,  1, 54]])\n"
     ]
    }
   ],
   "source": [
    "print(xb)"
   ]
  }
 ],
 "metadata": {
  "kernelspec": {
   "display_name": "Python 3 (ipykernel)",
   "language": "python",
   "name": "python3"
  },
  "language_info": {
   "codemirror_mode": {
    "name": "ipython",
    "version": 3
   },
   "file_extension": ".py",
   "mimetype": "text/x-python",
   "name": "python",
   "nbconvert_exporter": "python",
   "pygments_lexer": "ipython3",
   "version": "3.10.4"
  }
 },
 "nbformat": 4,
 "nbformat_minor": 5
}
