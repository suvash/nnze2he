{
 "cells": [
  {
   "cell_type": "code",
   "execution_count": 1,
   "id": "6912fe95-e748-434d-8b46-b74948486564",
   "metadata": {},
   "outputs": [],
   "source": [
    "import matplotlib.pyplot as plt\n",
    "%matplotlib inline"
   ]
  },
  {
   "cell_type": "code",
   "execution_count": 2,
   "id": "ac6299d6-c7ae-4032-a0ee-7223bde0bde8",
   "metadata": {},
   "outputs": [],
   "source": [
    "import torch\n",
    "import torch.nn.functional as F"
   ]
  },
  {
   "cell_type": "code",
   "execution_count": 3,
   "id": "84e765f4-b077-4988-8361-53dbc31b4896",
   "metadata": {},
   "outputs": [
    {
     "data": {
      "text/plain": [
       "(32033,\n",
       " ['emma', 'olivia', 'ava', 'isabella', 'sophia', 'charlotte', 'mia', 'amelia'])"
      ]
     },
     "execution_count": 3,
     "metadata": {},
     "output_type": "execute_result"
    }
   ],
   "source": [
    "words = open('names.txt').read().splitlines()\n",
    "len(words), words[:8]"
   ]
  },
  {
   "cell_type": "code",
   "execution_count": 4,
   "id": "749ad72a-9e36-4f63-848f-0d6ddc49600c",
   "metadata": {},
   "outputs": [],
   "source": [
    "# let's only have one special token, and let's have it at index 0, offset others by 1\n",
    "chars = sorted(list(set(''.join(words))))\n",
    "stoi = {s:i+1 for i,s in enumerate(chars)}\n",
    "stoi['.'] = 0\n",
    "itos = {i:s for s,i in stoi.items()}\n",
    "num_classes = len(stoi)"
   ]
  },
  {
   "cell_type": "code",
   "execution_count": 5,
   "id": "7d9ba170-262e-44ca-9683-d9a9a96adb16",
   "metadata": {},
   "outputs": [
    {
     "data": {
      "text/plain": [
       "(torch.Size([228146, 3]), torch.int64, torch.Size([228146]), torch.int64)"
      ]
     },
     "execution_count": 5,
     "metadata": {},
     "output_type": "execute_result"
    }
   ],
   "source": [
    "# Whole dataset\n",
    "\n",
    "block_size = 3 # How many characters do we take to predict the next one : 3 chars to predict the 4th\n",
    "X, Y, = [], [] # X, input | Y, labels\n",
    "\n",
    "for w in words:\n",
    "    context = [0] * block_size\n",
    "    for ch in w + '.':\n",
    "        ix = stoi[ch]\n",
    "        X.append(context)\n",
    "        Y.append(ix)\n",
    "        context = context[1:] + [ix] # crop and append moving window\n",
    "\n",
    "X = torch.tensor(X)\n",
    "Y = torch.tensor(Y)\n",
    "\n",
    "X.shape, X.dtype, Y.shape, Y.dtype"
   ]
  },
  {
   "cell_type": "code",
   "execution_count": 6,
   "id": "52455b1c-8e0f-4a1d-aa4f-0f41e2fe32c6",
   "metadata": {},
   "outputs": [
    {
     "data": {
      "text/plain": [
       "3481"
      ]
     },
     "execution_count": 6,
     "metadata": {},
     "output_type": "execute_result"
    }
   ],
   "source": [
    "g = torch.Generator().manual_seed(2147483647)\n",
    "C = torch.randn((27, 2), generator=g)\n",
    "W1 = torch.randn((3*2, 100), generator=g)\n",
    "b1 = torch.randn(100, generator=g)\n",
    "W2 = torch.randn((100, 27), generator=g)\n",
    "b2 = torch.randn(27, generator=g)\n",
    "parameters = [C, W1, b1, W2, b2]\n",
    "\n",
    "\n",
    "sum(p.nelement() for p in parameters) # total number of parameters"
   ]
  },
  {
   "cell_type": "code",
   "execution_count": 7,
   "id": "824d66d0-7583-4ca6-845b-00fc31cf4c9b",
   "metadata": {},
   "outputs": [],
   "source": [
    "# takes a while since we're doing the full loop through the whole dataset\n",
    "# Enter MINIBATCHES\n",
    "# Lets generate random integers so we can index into them to pick the minibatch\n",
    "# random integer between 0 - dataset len\n",
    "# number of batch members ; minibatch size; 32"
   ]
  },
  {
   "cell_type": "code",
   "execution_count": 8,
   "id": "f7fdfe95-65ee-4fb4-b4bb-2eb9b66037d9",
   "metadata": {},
   "outputs": [
    {
     "data": {
      "text/plain": [
       "tensor([194483,  22928,  66699, 216253,  29443, 161234,  12611,   1401,  94299,\n",
       "         62581,  39780, 183158,  29152, 146424, 161355,  97137,  96009,  62925,\n",
       "        159493,  88772,  78550, 179464, 198123, 138012,  63116,     76, 166575,\n",
       "        108796, 120224, 190953,   1930, 107308])"
      ]
     },
     "execution_count": 8,
     "metadata": {},
     "output_type": "execute_result"
    }
   ],
   "source": [
    "torch.randint(0, X.shape[0], (32,))"
   ]
  },
  {
   "cell_type": "code",
   "execution_count": 9,
   "id": "58bbbc00-3484-4c27-8a91-272c479cc0ae",
   "metadata": {},
   "outputs": [
    {
     "data": {
      "text/plain": [
       "(torch.Size([228146, 3, 2]), torch.Size([32, 3, 2]))"
      ]
     },
     "execution_count": 9,
     "metadata": {},
     "output_type": "execute_result"
    }
   ],
   "source": [
    "_ix = torch.randint(0, X.shape[0], (32,))\n",
    "C[X].shape, C[X[_ix]].shape"
   ]
  },
  {
   "cell_type": "code",
   "execution_count": 10,
   "id": "b9e37fdb-baf5-49ac-9cce-8ef090c78246",
   "metadata": {},
   "outputs": [],
   "source": [
    "# parameters learnable\n",
    "for p in parameters:\n",
    "    p.requires_grad = True"
   ]
  },
  {
   "cell_type": "code",
   "execution_count": 11,
   "id": "ac49889a-356d-4dd9-92d9-70039ce2f91b",
   "metadata": {},
   "outputs": [
    {
     "name": "stdout",
     "output_type": "stream",
     "text": [
      "Iteration 99: Minibatch loss : 4.2988104820251465\n",
      "Iteration 199: Minibatch loss : 3.0233213901519775\n",
      "Iteration 299: Minibatch loss : 2.5719573497772217\n",
      "Iteration 399: Minibatch loss : 2.8726754188537598\n",
      "Iteration 499: Minibatch loss : 2.424332618713379\n",
      "Iteration 599: Minibatch loss : 2.704420804977417\n",
      "Iteration 699: Minibatch loss : 2.407240867614746\n",
      "Iteration 799: Minibatch loss : 2.705643653869629\n",
      "Iteration 899: Minibatch loss : 2.7069225311279297\n",
      "Iteration 999: Minibatch loss : 2.4282259941101074\n"
     ]
    }
   ],
   "source": [
    "for i in range(1000):\n",
    "    # minibatches\n",
    "    bs = 32\n",
    "    ix = torch.randint(0, X.shape[0], (bs,))\n",
    "    \n",
    "    # forward pass\n",
    "    emb = C[X[ix]] # [32, 3, 2]\n",
    "    h = torch.tanh(emb.view(-1, W1.shape[0]) @ W1 + b1) # [32, 100]\n",
    "    logits = h @ W2 + b2 # [32, 27]\n",
    "    loss = F.cross_entropy(logits, Y[ix]) # also Ys have to be at the same index\n",
    "    if (i+1)%100 == 0:\n",
    "        print(f\"Iteration {i}: Minibatch loss : {loss.item()}\")\n",
    "\n",
    "    # backward pass\n",
    "    for p in parameters:\n",
    "        p.grad = None\n",
    "    loss.backward()\n",
    "\n",
    "    # update\n",
    "    for p in parameters:\n",
    "        p.data += -0.1 * p.grad"
   ]
  },
  {
   "cell_type": "code",
   "execution_count": 12,
   "id": "046e2086-fd97-4e25-bbcf-e0b37d7f56b5",
   "metadata": {},
   "outputs": [
    {
     "data": {
      "text/plain": [
       "tensor(2.7056, grad_fn=<NllLossBackward0>)"
      ]
     },
     "execution_count": 12,
     "metadata": {},
     "output_type": "execute_result"
    }
   ],
   "source": [
    "# Now that we're only doing minibatches the quality of our gradient is lower\n",
    "# the direction is not as reliable - not the actual gradient direction\n",
    "# but it's good enough even when it's estimating only on 32 examples\n",
    "# it's much better to have an approximate gradient and take more steps than to calculate exact gradient and take few steps\n",
    "\n",
    "# lets now get loss for all of X\n",
    "emb = C[X]\n",
    "h = torch.tanh(emb.view(-1, W1.shape[0]) @ W1 + b1)\n",
    "logits = h @ W2 + b2\n",
    "loss = F.cross_entropy(logits, Y)\n",
    "loss"
   ]
  },
  {
   "cell_type": "code",
   "execution_count": 13,
   "id": "00a204e1-8585-4fb1-ad66-7812d2355141",
   "metadata": {},
   "outputs": [],
   "source": [
    "# How do we determine that we are stepping with right learning rate ?\n",
    "# 0.1 used above\n",
    "# in the next nb we find a good learning rate"
   ]
  }
 ],
 "metadata": {
  "kernelspec": {
   "display_name": "Python 3 (ipykernel)",
   "language": "python",
   "name": "python3"
  },
  "language_info": {
   "codemirror_mode": {
    "name": "ipython",
    "version": 3
   },
   "file_extension": ".py",
   "mimetype": "text/x-python",
   "name": "python",
   "nbconvert_exporter": "python",
   "pygments_lexer": "ipython3",
   "version": "3.10.4"
  }
 },
 "nbformat": 4,
 "nbformat_minor": 5
}
