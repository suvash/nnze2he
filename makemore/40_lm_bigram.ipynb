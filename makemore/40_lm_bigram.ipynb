{
 "cells": [
  {
   "cell_type": "code",
   "execution_count": 1,
   "id": "08694562-bd65-4715-b085-dec26aad5abe",
   "metadata": {},
   "outputs": [
    {
     "data": {
      "text/plain": [
       "1115394"
      ]
     },
     "execution_count": 1,
     "metadata": {},
     "output_type": "execute_result"
    }
   ],
   "source": [
    "text = open('tinyshakespeare.txt').read()\n",
    "len(text)"
   ]
  },
  {
   "cell_type": "code",
   "execution_count": 2,
   "id": "12da28f3-9167-4e2e-b44f-aba465650847",
   "metadata": {},
   "outputs": [
    {
     "name": "stdout",
     "output_type": "stream",
     "text": [
      "\n",
      " !$&',-.3:;?ABCDEFGHIJKLMNOPQRSTUVWXYZabcdefghijklmnopqrstuvwxyz\n",
      "65\n"
     ]
    }
   ],
   "source": [
    "chars = sorted(list(set(text)))\n",
    "vocab_size = len(chars)\n",
    "print(''.join(chars))\n",
    "print(vocab_size)"
   ]
  },
  {
   "cell_type": "code",
   "execution_count": 3,
   "id": "09137ff8-4a47-4b2d-8af2-d2da05c65acd",
   "metadata": {},
   "outputs": [
    {
     "name": "stdout",
     "output_type": "stream",
     "text": [
      "[46, 47, 1, 58, 46, 43, 56, 43]\n",
      "hi there\n"
     ]
    }
   ],
   "source": [
    "# tokenize\n",
    "stoi = {ch: i for i,ch in enumerate(chars)}\n",
    "itos = {i: ch for i,ch in enumerate(chars)}\n",
    "encode = lambda s: [stoi[c] for c in s]\n",
    "decode = lambda l: ''.join([itos[i] for i in l])\n",
    "\n",
    "print(encode('hi there'))\n",
    "print(decode(encode('hi there')))"
   ]
  },
  {
   "cell_type": "code",
   "execution_count": 4,
   "id": "ec03e768-8c76-42f1-93d6-7670b641dbe4",
   "metadata": {},
   "outputs": [
    {
     "name": "stdout",
     "output_type": "stream",
     "text": [
      "torch.Size([1115394]) torch.int64\n"
     ]
    }
   ],
   "source": [
    "import torch\n",
    "data = torch.tensor(encode(text), dtype=torch.long)\n",
    "print(data.shape, data.dtype)"
   ]
  },
  {
   "cell_type": "code",
   "execution_count": 5,
   "id": "94a13649-b709-40f7-8057-cb22826fad03",
   "metadata": {},
   "outputs": [
    {
     "data": {
      "text/plain": [
       "(1003854, 111540)"
      ]
     },
     "execution_count": 5,
     "metadata": {},
     "output_type": "execute_result"
    }
   ],
   "source": [
    "# Let's split up the train and validation dataset\n",
    "n = int(0.9*len(data))\n",
    "train_data = data[:n]\n",
    "val_data = data[n:]\n",
    "\n",
    "len(train_data), len(val_data)"
   ]
  },
  {
   "cell_type": "code",
   "execution_count": 6,
   "id": "3736dfbc-d67a-4b4f-b070-5eee03507b88",
   "metadata": {},
   "outputs": [
    {
     "data": {
      "text/plain": [
       "tensor([18, 47, 56, 57, 58,  1, 15, 47, 58])"
      ]
     },
     "execution_count": 6,
     "metadata": {},
     "output_type": "execute_result"
    }
   ],
   "source": [
    "block_size = 8\n",
    "train_data[:block_size+1]"
   ]
  },
  {
   "cell_type": "code",
   "execution_count": 7,
   "id": "a9557742-cee3-4dda-a413-3171a6851884",
   "metadata": {},
   "outputs": [],
   "source": [
    "torch.manual_seed(1337)\n",
    "batch_size = 4           # how many individual sequences to process in parallel\n",
    "block_size = 8           # how many maximum individual characters in the example, max context length\n",
    "\n",
    "def get_batch(split, batch_size=batch_size):\n",
    "    data = train_data if split == 'train' else val_data\n",
    "    ix = torch.randint(len(data) - block_size, (batch_size,))\n",
    "    x = torch.stack([data[i:i+block_size] for i in ix])\n",
    "    y = torch.stack([data[i+1:i+block_size+1] for i in ix]) \n",
    "    return x, y"
   ]
  },
  {
   "cell_type": "code",
   "execution_count": 8,
   "id": "de740dd6-701a-486b-b3c2-a8e854027441",
   "metadata": {},
   "outputs": [],
   "source": [
    "xb, yb = get_batch('train')"
   ]
  },
  {
   "cell_type": "code",
   "execution_count": 9,
   "id": "8696deec-85a1-48cd-998c-04d7dbf518cd",
   "metadata": {},
   "outputs": [
    {
     "name": "stdout",
     "output_type": "stream",
     "text": [
      "context=tensor([24]), target=tensor(43)\n",
      "context=tensor([24, 43]), target=tensor(58)\n",
      "context=tensor([24, 43, 58]), target=tensor(5)\n",
      "context=tensor([24, 43, 58,  5]), target=tensor(57)\n",
      "context=tensor([24, 43, 58,  5, 57]), target=tensor(1)\n",
      "context=tensor([24, 43, 58,  5, 57,  1]), target=tensor(46)\n",
      "context=tensor([24, 43, 58,  5, 57,  1, 46]), target=tensor(43)\n",
      "context=tensor([24, 43, 58,  5, 57,  1, 46, 43]), target=tensor(39)\n",
      "context=tensor([44]), target=tensor(53)\n",
      "context=tensor([44, 53]), target=tensor(56)\n",
      "context=tensor([44, 53, 56]), target=tensor(1)\n",
      "context=tensor([44, 53, 56,  1]), target=tensor(58)\n",
      "context=tensor([44, 53, 56,  1, 58]), target=tensor(46)\n",
      "context=tensor([44, 53, 56,  1, 58, 46]), target=tensor(39)\n",
      "context=tensor([44, 53, 56,  1, 58, 46, 39]), target=tensor(58)\n",
      "context=tensor([44, 53, 56,  1, 58, 46, 39, 58]), target=tensor(1)\n",
      "context=tensor([52]), target=tensor(58)\n",
      "context=tensor([52, 58]), target=tensor(1)\n",
      "context=tensor([52, 58,  1]), target=tensor(58)\n",
      "context=tensor([52, 58,  1, 58]), target=tensor(46)\n",
      "context=tensor([52, 58,  1, 58, 46]), target=tensor(39)\n",
      "context=tensor([52, 58,  1, 58, 46, 39]), target=tensor(58)\n",
      "context=tensor([52, 58,  1, 58, 46, 39, 58]), target=tensor(1)\n",
      "context=tensor([52, 58,  1, 58, 46, 39, 58,  1]), target=tensor(46)\n",
      "context=tensor([25]), target=tensor(17)\n",
      "context=tensor([25, 17]), target=tensor(27)\n",
      "context=tensor([25, 17, 27]), target=tensor(10)\n",
      "context=tensor([25, 17, 27, 10]), target=tensor(0)\n",
      "context=tensor([25, 17, 27, 10,  0]), target=tensor(21)\n",
      "context=tensor([25, 17, 27, 10,  0, 21]), target=tensor(1)\n",
      "context=tensor([25, 17, 27, 10,  0, 21,  1]), target=tensor(54)\n",
      "context=tensor([25, 17, 27, 10,  0, 21,  1, 54]), target=tensor(39)\n"
     ]
    }
   ],
   "source": [
    "for b in range(batch_size):\n",
    "    for t in range(block_size):\n",
    "        context = xb[b, :t+1]\n",
    "        target = yb[b, t]\n",
    "        print(f'{context=}, {target=}')"
   ]
  },
  {
   "cell_type": "code",
   "execution_count": 10,
   "id": "35236843-52f6-428e-b3b4-6b7fda5be46e",
   "metadata": {},
   "outputs": [
    {
     "name": "stdout",
     "output_type": "stream",
     "text": [
      "tensor([[24, 43, 58,  5, 57,  1, 46, 43],\n",
      "        [44, 53, 56,  1, 58, 46, 39, 58],\n",
      "        [52, 58,  1, 58, 46, 39, 58,  1],\n",
      "        [25, 17, 27, 10,  0, 21,  1, 54]])\n"
     ]
    }
   ],
   "source": [
    "print(xb)"
   ]
  },
  {
   "cell_type": "code",
   "execution_count": 11,
   "id": "1d8ead37-bd6b-4ff0-9d57-3fcc8c9bef1d",
   "metadata": {},
   "outputs": [],
   "source": [
    "# lets start with a bigram language model"
   ]
  },
  {
   "cell_type": "code",
   "execution_count": 12,
   "id": "63a5ef48-4a6c-43f2-82e5-8d58e54ad752",
   "metadata": {},
   "outputs": [],
   "source": [
    "import torch.nn as nn\n",
    "from torch.nn import functional as F"
   ]
  },
  {
   "cell_type": "code",
   "execution_count": 13,
   "id": "747b606b-9be0-4257-8902-ba72733aecf0",
   "metadata": {},
   "outputs": [],
   "source": [
    "torch.manual_seed(1337)\n",
    "\n",
    "class BigramLanguageModel(nn.Module):\n",
    "    def __init__(self, vocab_size):\n",
    "        super().__init__()\n",
    "        # each token directly reads off the logits for the next token from the embedding table\n",
    "        self.token_embedding_table = nn.Embedding(vocab_size, vocab_size) # bigram table\n",
    "        \n",
    "    def forward(self, idx, targets=None):\n",
    "        #idx and targets are both (B,T) tensors of integers\n",
    "        logits = self.token_embedding_table(idx) # (B, T, C) batch, time, channels\n",
    "        \n",
    "        if targets is None:\n",
    "            loss = None\n",
    "        else:        \n",
    "            B, T, C = logits.shape\n",
    "            logits = logits.view(B*T, C) \n",
    "            targets = targets.view(B*T)\n",
    "            loss = F.cross_entropy(logits, targets)\n",
    "        \n",
    "        return logits, loss\n",
    "\n",
    "    def generate(self, idx, max_new_tokens):\n",
    "        # id is (B, T) array of indices in the current context\n",
    "        for _ in range(max_new_tokens):\n",
    "            # get the predictions\n",
    "            logits, loss = self(idx)\n",
    "            # focus only on the last time step\n",
    "            logits = logits[:, -1, :] # becomes (B, C)\n",
    "            # get probs\n",
    "            probs = F.softmax(logits, dim=-1) # (B, C)\n",
    "            # sample from distribution\n",
    "            idx_next = torch.multinomial(probs, num_samples=1) # (B, 1)\n",
    "            # append sampled index to the running sequenc\n",
    "            idx = torch.cat((idx, idx_next), dim=1) # (B, T+1)\n",
    "        return idx"
   ]
  },
  {
   "cell_type": "code",
   "execution_count": 14,
   "id": "15164931-6804-4326-b1f9-b614d5e84364",
   "metadata": {},
   "outputs": [
    {
     "name": "stdout",
     "output_type": "stream",
     "text": [
      "tensor(4.8786, grad_fn=<NllLossBackward0>)\n"
     ]
    }
   ],
   "source": [
    "m = BigramLanguageModel(vocab_size)\n",
    "logits, loss = m(xb, yb)\n",
    "print(loss)"
   ]
  },
  {
   "cell_type": "code",
   "execution_count": 15,
   "id": "17acc914-1eaa-4958-acfc-ac019403150f",
   "metadata": {},
   "outputs": [],
   "source": [
    "# since 65 is the vocab we can guess what the loss should be\n",
    "# probs = 1/65, -ln(probs) = \n",
    "# -logn(probs)"
   ]
  },
  {
   "cell_type": "code",
   "execution_count": 16,
   "id": "5786c581-3afc-4805-b743-4f1a0bd71ddb",
   "metadata": {},
   "outputs": [
    {
     "data": {
      "text/plain": [
       "tensor(4.1744)"
      ]
     },
     "execution_count": 16,
     "metadata": {},
     "output_type": "execute_result"
    }
   ],
   "source": [
    "-torch.log(torch.tensor(1/65))"
   ]
  },
  {
   "cell_type": "code",
   "execution_count": 17,
   "id": "5520ca46-26fd-47fc-aa61-863ed898704e",
   "metadata": {},
   "outputs": [],
   "source": [
    "# the initial predictions are not well diffused, equally likely to begin with"
   ]
  },
  {
   "cell_type": "code",
   "execution_count": 18,
   "id": "b6eb86f2-fde2-40ae-8842-d690ce797128",
   "metadata": {},
   "outputs": [
    {
     "data": {
      "text/plain": [
       "tensor([[0]])"
      ]
     },
     "execution_count": 18,
     "metadata": {},
     "output_type": "execute_result"
    }
   ],
   "source": [
    "torch.zeros((1, 1), dtype=torch.long)"
   ]
  },
  {
   "cell_type": "code",
   "execution_count": 19,
   "id": "bb5af2f5-c58d-4d06-8a42-eb5129b2d8c9",
   "metadata": {},
   "outputs": [],
   "source": [
    "# 0 is going to be how we kick off the generation"
   ]
  },
  {
   "cell_type": "code",
   "execution_count": 20,
   "id": "314c5d50-3842-44d8-8511-c76f26f60805",
   "metadata": {},
   "outputs": [
    {
     "name": "stdout",
     "output_type": "stream",
     "text": [
      "\n",
      "SKIcLT;AcELMoTbvZv C?nq-QE33:CJqkOKH-q;:la!oiywkHjgChzbQ?u!3bLIgwevmyFJGUGp\n",
      "wnYWmnxKWWev-tDqXErVKLgJ\n"
     ]
    }
   ],
   "source": [
    "print(decode(m.generate(torch.zeros((1, 1), dtype=torch.long), max_new_tokens=100)[0].tolist()))"
   ]
  },
  {
   "cell_type": "code",
   "execution_count": 21,
   "id": "a194dbc7-5f8a-41d8-9e70-b3bdea2bdb7f",
   "metadata": {},
   "outputs": [],
   "source": [
    "m = BigramLanguageModel(vocab_size)"
   ]
  },
  {
   "cell_type": "code",
   "execution_count": 22,
   "id": "5d3a47b1-201e-4e1a-a1b6-686fa2dfb8d3",
   "metadata": {},
   "outputs": [],
   "source": [
    "# pytorch optimizer\n",
    "# optimizer : take the gradients and updates the parameters\n",
    "# quite good optimizer, typical good settings is 3e-4\n",
    "# but for small networks like this here\n",
    "optimizer = torch.optim.AdamW(m.parameters(), lr=1e-3)"
   ]
  },
  {
   "cell_type": "code",
   "execution_count": 23,
   "id": "a3c7f1f4-486e-4de3-bc3f-0cc6fe032a8f",
   "metadata": {},
   "outputs": [
    {
     "name": "stdout",
     "output_type": "stream",
     "text": [
      "Step: 49999 | Loss: 2.216499090194702\n",
      "Step: 99999 | Loss: 2.4571011066436768\n",
      "Step: 149999 | Loss: 2.4942376613616943\n",
      "Step: 199999 | Loss: 2.4318201541900635\n",
      "Step: 249999 | Loss: 2.4122331142425537\n",
      "Step: 299999 | Loss: 2.4120142459869385\n",
      "Step: 349999 | Loss: 2.6919662952423096\n",
      "Step: 399999 | Loss: 2.2373297214508057\n",
      "Step: 449999 | Loss: 2.2734100818634033\n",
      "Step: 499999 | Loss: 2.567037582397461\n",
      "Final loss : 2.567037582397461\n"
     ]
    }
   ],
   "source": [
    "batch_size = 32\n",
    "steps = 500000\n",
    "for step in range(steps):\n",
    "    xb, yb = get_batch('train')\n",
    "    \n",
    "    logits, loss = m(xb, yb)\n",
    "    optimizer.zero_grad(set_to_none=True)\n",
    "    loss.backward()\n",
    "    optimizer.step()\n",
    "    \n",
    "    if (step+1)%(steps/10) == 0:\n",
    "        print(f'Step: {step} | Loss: {loss.item()}')\n",
    "\n",
    "print(f'Final loss : {loss.item()}')"
   ]
  },
  {
   "cell_type": "code",
   "execution_count": 24,
   "id": "222fad96-2888-4b01-9d09-647ef401bdd1",
   "metadata": {},
   "outputs": [
    {
     "name": "stdout",
     "output_type": "stream",
     "text": [
      "\n",
      "PULOugishamy cre hitayoromyshim.\n",
      "ILYot nd I m fu mes fayof tike,-hid tllarpon h, t I oullmoplofoveing thouse wr's o mobe\n",
      "Whoour, do, t beous ore:\n",
      "BUKI y dyoll'dvan otou s g ouk mus. oharar;\n",
      "\n",
      "\n",
      "\n",
      "D an! h\n"
     ]
    }
   ],
   "source": [
    "print(decode(m.generate(torch.zeros((1, 1), dtype=torch.long), max_new_tokens=200)[0].tolist()))"
   ]
  },
  {
   "cell_type": "code",
   "execution_count": 25,
   "id": "df6dd695-dfae-41f1-9209-1e7e38bdfe73",
   "metadata": {},
   "outputs": [],
   "source": [
    "# Dramatic improvement already\n",
    "# Certainly not shakespeare but the model's making progress"
   ]
  },
  {
   "cell_type": "code",
   "execution_count": 26,
   "id": "4dceec93-cd7f-430c-b567-a8bb8b9ac0ae",
   "metadata": {},
   "outputs": [],
   "source": [
    "# Tokens are not talking to each other yet, this is the most basic language model and it's not too bad\n",
    "# regardless of the context passed in, it only looks at the last character in the context\n",
    "# The current model doesn't really care about it, in the next nb, we'll make use of context"
   ]
  }
 ],
 "metadata": {
  "kernelspec": {
   "display_name": "Python 3 (ipykernel)",
   "language": "python",
   "name": "python3"
  },
  "language_info": {
   "codemirror_mode": {
    "name": "ipython",
    "version": 3
   },
   "file_extension": ".py",
   "mimetype": "text/x-python",
   "name": "python",
   "nbconvert_exporter": "python",
   "pygments_lexer": "ipython3",
   "version": "3.10.4"
  }
 },
 "nbformat": 4,
 "nbformat_minor": 5
}
