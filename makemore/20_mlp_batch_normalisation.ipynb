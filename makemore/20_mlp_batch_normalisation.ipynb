{
 "cells": [
  {
   "cell_type": "code",
   "execution_count": 1,
   "id": "6912fe95-e748-434d-8b46-b74948486564",
   "metadata": {},
   "outputs": [],
   "source": [
    "import matplotlib.pyplot as plt\n",
    "%matplotlib inline"
   ]
  },
  {
   "cell_type": "code",
   "execution_count": 2,
   "id": "ac6299d6-c7ae-4032-a0ee-7223bde0bde8",
   "metadata": {},
   "outputs": [],
   "source": [
    "import torch\n",
    "import torch.nn.functional as F"
   ]
  },
  {
   "cell_type": "code",
   "execution_count": 3,
   "id": "84e765f4-b077-4988-8361-53dbc31b4896",
   "metadata": {},
   "outputs": [
    {
     "data": {
      "text/plain": [
       "(32033,\n",
       " ['emma', 'olivia', 'ava', 'isabella', 'sophia', 'charlotte', 'mia', 'amelia'])"
      ]
     },
     "execution_count": 3,
     "metadata": {},
     "output_type": "execute_result"
    }
   ],
   "source": [
    "words = open('names.txt').read().splitlines()\n",
    "len(words), words[:8]"
   ]
  },
  {
   "cell_type": "code",
   "execution_count": 4,
   "id": "749ad72a-9e36-4f63-848f-0d6ddc49600c",
   "metadata": {},
   "outputs": [
    {
     "name": "stdout",
     "output_type": "stream",
     "text": [
      "27 {1: 'a', 2: 'b', 3: 'c', 4: 'd', 5: 'e', 6: 'f', 7: 'g', 8: 'h', 9: 'i', 10: 'j', 11: 'k', 12: 'l', 13: 'm', 14: 'n', 15: 'o', 16: 'p', 17: 'q', 18: 'r', 19: 's', 20: 't', 21: 'u', 22: 'v', 23: 'w', 24: 'x', 25: 'y', 26: 'z', 0: '.'}\n"
     ]
    }
   ],
   "source": [
    "# let's only have one special token, and let's have it at index 0, offset others by 1\n",
    "chars = sorted(list(set(''.join(words))))\n",
    "stoi = {s:i+1 for i,s in enumerate(chars)}\n",
    "stoi['.'] = 0\n",
    "itos = {i:s for s,i in stoi.items()}\n",
    "num_classes = len(stoi)\n",
    "vocab_size = len(itos)\n",
    "print(vocab_size, itos)"
   ]
  },
  {
   "cell_type": "code",
   "execution_count": 5,
   "id": "dc7789bb-f552-4762-be51-aa6c34e612cf",
   "metadata": {},
   "outputs": [],
   "source": [
    "def build_dataset(words, block_size):\n",
    "    X, Y, = [], [] # X, input | Y, labels\n",
    "\n",
    "    for w in words:\n",
    "        context = [0] * block_size\n",
    "        for ch in w + '.':\n",
    "            ix = stoi[ch]\n",
    "            X.append(context)\n",
    "            Y.append(ix)\n",
    "            context = context[1:] + [ix] # crop and append moving window\n",
    "\n",
    "    X = torch.tensor(X)\n",
    "    Y = torch.tensor(Y)    \n",
    "    return X, Y"
   ]
  },
  {
   "cell_type": "code",
   "execution_count": 6,
   "id": "fc34bfb8-2f98-403e-b035-45888b93a7e0",
   "metadata": {},
   "outputs": [
    {
     "data": {
      "text/plain": [
       "(torch.Size([182625, 3]),\n",
       " torch.Size([182625]),\n",
       " torch.Size([22655, 3]),\n",
       " torch.Size([22655]),\n",
       " torch.Size([22866, 3]),\n",
       " torch.Size([22866]))"
      ]
     },
     "execution_count": 6,
     "metadata": {},
     "output_type": "execute_result"
    }
   ],
   "source": [
    "# Splits\n",
    "import random\n",
    "random.seed(42)\n",
    "random.shuffle(words)\n",
    "\n",
    "n1 = int(0.8*len(words))\n",
    "n2 = int(0.9*len(words))\n",
    "\n",
    "block_size = 3 # context length : How many characters do we take to predict the next one : 3 chars to predict the 4th\n",
    "\n",
    "Xtr, Ytr = build_dataset(words[:n1], block_size)\n",
    "Xva, Yva = build_dataset(words[n1:n2], block_size)\n",
    "Xte, Yte = build_dataset(words[n2:], block_size)\n",
    "\n",
    "Xtr.shape, Ytr.shape, Xva.shape, Yva.shape, Xte.shape, Yte.shape"
   ]
  },
  {
   "cell_type": "code",
   "execution_count": 7,
   "id": "85976e75-36d6-46f0-8ea4-ca95ffe32401",
   "metadata": {},
   "outputs": [],
   "source": [
    "# Batch norm summary\n",
    "# We are using batch norm to control the statistics of activations in the NN\n",
    "# It's common to sprinkle batch norm across the NN\n",
    "# Usually we place it after layers that have multiplications (eg. linear layer or convolutional layer)\n",
    "\n",
    "# Internally the batch norm has parameter \n",
    "# for gain and the bias : trained using backprop\n",
    "# also has two buffers : running mean and running standard deviation, not trained using backprop, but simply maintained running update\n",
    "# in the training loop\n",
    "# calculating the mean and std dev of activation feeding into batch norm layer over that batch\n",
    "# centering that batch to be unit gaussian\n",
    "# then it's offsetting and scaling that batch by the learnt gain and bias\n",
    "# also keep track of running mean and stddev\n",
    "# which is later used at inference\n",
    "# so it doesn't have to done all the time\n",
    "# that allows us to forward individual examples at test time\n",
    "\n",
    "# Fairly complicated"
   ]
  },
  {
   "cell_type": "code",
   "execution_count": 8,
   "id": "4b4a7df9-97bd-40a4-8510-0ca65c9df67d",
   "metadata": {},
   "outputs": [
    {
     "data": {
      "text/plain": [
       "12097"
      ]
     },
     "execution_count": 8,
     "metadata": {},
     "output_type": "execute_result"
    }
   ],
   "source": [
    "n_embed = 10   # dimensionality of characters in the embedding vector\n",
    "n_hidden = 200 # number of neurons in the hidden layer\n",
    "\n",
    "g = torch.Generator().manual_seed(2147483647)\n",
    "C = torch.randn((vocab_size, n_embed),             generator=g)\n",
    "W1 = torch.randn((block_size * n_embed, n_hidden), generator=g) * (5/3/(block_size*n_embed)**0.5)\n",
    "\n",
    "W2 = torch.randn((n_hidden, vocab_size),           generator=g) * 0.01\n",
    "b2 = torch.randn(vocab_size,                       generator=g) * 0\n",
    "\n",
    "bngain = torch.ones((1, n_hidden))  # we want the initial values to affect the hpreact in a nice gaussian\n",
    "bnbias = torch.zeros((1, n_hidden)) # we want the initial values to affect the hpreact in a nice gaussian\n",
    "\n",
    "bnmean_running = torch.zeros((1, n_hidden)) # the way we init W1 and b1, hpreact will be roughly unit gaussian, mean roughly zero\n",
    "bnstd_running = torch.ones((1, n_hidden))   # std dev roughly one\n",
    "\n",
    "parameters = [C, W1, W2, b2, bngain, bnbias]\n",
    "\n",
    "for p in parameters:\n",
    "    p.requires_grad = True\n",
    "\n",
    "sum(p.nelement() for p in parameters) # total number of parameters"
   ]
  },
  {
   "cell_type": "code",
   "execution_count": 9,
   "id": "6011a112-1803-469e-9dd8-6e310230bc23",
   "metadata": {},
   "outputs": [],
   "source": [
    "max_steps = 200000\n",
    "batch_size = 32"
   ]
  },
  {
   "cell_type": "code",
   "execution_count": 10,
   "id": "799cec60-f545-44ff-a5e0-b766a1e4683c",
   "metadata": {},
   "outputs": [],
   "source": [
    "lossi = []\n",
    "losslog10i = []\n",
    "stepsi = []"
   ]
  },
  {
   "cell_type": "code",
   "execution_count": 11,
   "id": "2ab0ad99-15eb-483b-a649-ef974891352a",
   "metadata": {},
   "outputs": [
    {
     "name": "stdout",
     "output_type": "stream",
     "text": [
      "Loss 0/200000: 3.3238625526428223\n",
      "Loss 20000/200000: 2.567518711090088\n",
      "Loss 40000/200000: 2.2446329593658447\n",
      "Loss 60000/200000: 2.0785391330718994\n",
      "Loss 80000/200000: 2.291823148727417\n",
      "Loss 100000/200000: 2.367293357849121\n",
      "Loss 120000/200000: 1.6413521766662598\n",
      "Loss 140000/200000: 2.2231295108795166\n",
      "Loss 160000/200000: 2.0996553897857666\n",
      "Loss 180000/200000: 2.0198497772216797\n"
     ]
    }
   ],
   "source": [
    "tot_steps = len(stepsi)\n",
    "\n",
    "for i in range(max_steps):\n",
    "    ix = torch.randint(0, Xtr.shape[0], (batch_size,), generator=g)\n",
    "    Xb, Yb = Xtr[ix], Ytr[ix] # batch X, Y\n",
    "    \n",
    "    # forward pass\n",
    "    emb = C[Xb]                         # embed the characters into vectors\n",
    "    embcat = emb.view(emb.shape[0], -1) # concatenate the vectors\n",
    "    # Linear layer\n",
    "    hpreact = embcat @ W1 # + b1          # hidden layer pre-activation\n",
    "    # Batchnorm layer ------------------------------\n",
    "    bnmeani = hpreact.mean(dim=0, keepdim=True)  # bn mean for ith iter        <-----\n",
    "    bnstdi  = hpreact.std(dim=0, keepdim=True)   # bn std  for ith iter        <----- \n",
    "    hpreact = bngain * (hpreact - bnmeani)/bnstdi + bnbias     # normalize hpreact, also scale and shift\n",
    "    with torch.no_grad():\n",
    "        bnmean_running = 0.999 * bnmean_running + 0.001 * bnmeani\n",
    "        bnstd_running  = 0.999 * bnstd_running + 0.001 * bnstdi\n",
    "    # Batchnorm layer ------------------------------\n",
    "    # Non linearity\n",
    "    h = torch.tanh(hpreact)             # hidden layer\n",
    "    logits = h @ W2 + b2                # output layer\n",
    "    loss = F.cross_entropy(logits, Yb)  # loss function\n",
    "\n",
    "    # backward pass\n",
    "    for p in parameters:\n",
    "        p.grad = None\n",
    "    loss.backward()\n",
    "\n",
    "    # update\n",
    "    lr = 0.1 if i < 100000 else 0.01    # switch learning rate\n",
    "    for p in parameters:\n",
    "        p.data += -lr * p.grad\n",
    "    \n",
    "    # track stats\n",
    "    stepsi.append(tot_steps+i)\n",
    "    lossi.append(loss.item())\n",
    "    losslog10i.append(loss.log10().item())\n",
    "    \n",
    "    # Print loss \n",
    "    if (i)%(max_steps/10) == 0:\n",
    "        print(f\"Loss {i}/{max_steps}: {loss.item()}\")"
   ]
  },
  {
   "cell_type": "code",
   "execution_count": 12,
   "id": "f3cc9294-5d49-4b89-a165-1d549911c4af",
   "metadata": {},
   "outputs": [
    {
     "name": "stdout",
     "output_type": "stream",
     "text": [
      "train loss : 2.0674147605895996\n",
      "val loss : 2.1056840419769287\n"
     ]
    }
   ],
   "source": [
    "@torch.no_grad() # this decorator disables gradient tracking, can also the context manager instead\n",
    "def split_loss(split):\n",
    "    ds = {\n",
    "        'train': (Xtr, Ytr),\n",
    "        'val':   (Xva, Yva),\n",
    "        'test':  (Xte, Yte),\n",
    "    }\n",
    "    x,y = ds[split]\n",
    "    emb = C[x]\n",
    "    embcat = emb.view(emb.shape[0], -1)\n",
    "    hpreact = embcat @ W1\n",
    "    hpreact = bngain * (hpreact - bnmean_running)/bnstd_running + bnbias\n",
    "    h = torch.tanh(hpreact)\n",
    "    logits = h @ W2 + b2\n",
    "    loss = F.cross_entropy(logits, y)\n",
    "    print(f'{split} loss : {loss.item()}')\n",
    "\n",
    "split_loss('train')\n",
    "split_loss('val')"
   ]
  },
  {
   "cell_type": "code",
   "execution_count": 13,
   "id": "6e9c7b15-4c1b-4a32-9ec0-7dd212fb73c3",
   "metadata": {},
   "outputs": [],
   "source": [
    "# Let's just sample for fun"
   ]
  },
  {
   "cell_type": "code",
   "execution_count": 14,
   "id": "b6e2fa65-fecd-483e-8b6a-cb09699f115d",
   "metadata": {},
   "outputs": [
    {
     "name": "stdout",
     "output_type": "stream",
     "text": [
      "carlah.\n",
      "amorie.\n",
      "khi.\n",
      "mri.\n",
      "reity.\n",
      "salaysie.\n",
      "mahnen.\n",
      "delynn.\n",
      "jareei.\n",
      "ner.\n"
     ]
    }
   ],
   "source": [
    "g = torch.Generator().manual_seed(2147483647 + 10)\n",
    "\n",
    "for _ in range(10):\n",
    "    out = []\n",
    "    block_size = 3\n",
    "    context = [0] * block_size # initialize all with ...\n",
    "    while True:\n",
    "        # forward pass\n",
    "        emb = C[torch.tensor([context])] # (1, block_size, d)\n",
    "        embcat = emb.view(1, -1)\n",
    "        hpreact = embcat @ W1\n",
    "        hpreact = bngain * (hpreact - bnmean_running)/bnstd_running + bnbias\n",
    "        h = torch.tanh(hpreact)\n",
    "        logits = h @ W2 + b2\n",
    "        probs = F.softmax(logits, dim=1) # exponentiates the logits and then softmaxes them, similar to cross entroy no overflows\n",
    "        # sample from the distribution\n",
    "        ix = torch.multinomial(probs, num_samples=1, generator=g).item()\n",
    "        # shift the context window and track the samples\n",
    "        context = context[1:] + [ix]\n",
    "        out.append(ix)\n",
    "        # break if we reach the special token '.'\n",
    "        if ix == 0:\n",
    "            break\n",
    "    \n",
    "    print(''.join(itos[i] for i in out))"
   ]
  },
  {
   "cell_type": "code",
   "execution_count": 15,
   "id": "737b67e3-1687-45b2-9797-d4c49196178c",
   "metadata": {},
   "outputs": [],
   "source": [
    "# Note our losses going down with tricks\n",
    "\n",
    "# Train test validation split - in the beginning\n",
    "# Train Loss : 2.2589\n",
    "# Val Loss   : 2.2702\n",
    "\n",
    "# After increasing NN capacity and embedding size\n",
    "# Train Loss : 2.1190\n",
    "# Val Loss   : 2.1711\n",
    "\n",
    "# After fixing init weight bias softmax confidently wrong\n",
    "# Train loss : 2.0695\n",
    "# Val loss   : 2.1310\n",
    "\n",
    "# After fixing tanh saturation\n",
    "# train loss : 2.0355\n",
    "# val loss   : 2.1026\n",
    "\n",
    "# Now, with kaiming init and not using magic numbers for tanh saturation\n",
    "# train loss : 2.0376\n",
    "# val loss   : 2.1069\n",
    "\n",
    "# With batch norm\n",
    "# train loss : 2.0668\n",
    "# val loss   : 2.1048"
   ]
  },
  {
   "cell_type": "code",
   "execution_count": null,
   "id": "1a64d45f-cc8e-42ea-964c-7bf7d4a6d6cb",
   "metadata": {},
   "outputs": [],
   "source": []
  }
 ],
 "metadata": {
  "kernelspec": {
   "display_name": "Python 3 (ipykernel)",
   "language": "python",
   "name": "python3"
  },
  "language_info": {
   "codemirror_mode": {
    "name": "ipython",
    "version": 3
   },
   "file_extension": ".py",
   "mimetype": "text/x-python",
   "name": "python",
   "nbconvert_exporter": "python",
   "pygments_lexer": "ipython3",
   "version": "3.10.4"
  }
 },
 "nbformat": 4,
 "nbformat_minor": 5
}
