{
 "cells": [
  {
   "cell_type": "code",
   "execution_count": 1,
   "id": "6912fe95-e748-434d-8b46-b74948486564",
   "metadata": {},
   "outputs": [],
   "source": [
    "import matplotlib.pyplot as plt\n",
    "%matplotlib inline"
   ]
  },
  {
   "cell_type": "code",
   "execution_count": 2,
   "id": "ac6299d6-c7ae-4032-a0ee-7223bde0bde8",
   "metadata": {},
   "outputs": [],
   "source": [
    "import torch\n",
    "import torch.nn.functional as F"
   ]
  },
  {
   "cell_type": "code",
   "execution_count": 3,
   "id": "84e765f4-b077-4988-8361-53dbc31b4896",
   "metadata": {},
   "outputs": [
    {
     "data": {
      "text/plain": [
       "(32033,\n",
       " ['emma', 'olivia', 'ava', 'isabella', 'sophia', 'charlotte', 'mia', 'amelia'])"
      ]
     },
     "execution_count": 3,
     "metadata": {},
     "output_type": "execute_result"
    }
   ],
   "source": [
    "words = open('names.txt').read().splitlines()\n",
    "len(words), words[:8]"
   ]
  },
  {
   "cell_type": "code",
   "execution_count": 4,
   "id": "749ad72a-9e36-4f63-848f-0d6ddc49600c",
   "metadata": {},
   "outputs": [
    {
     "name": "stdout",
     "output_type": "stream",
     "text": [
      "27 {1: 'a', 2: 'b', 3: 'c', 4: 'd', 5: 'e', 6: 'f', 7: 'g', 8: 'h', 9: 'i', 10: 'j', 11: 'k', 12: 'l', 13: 'm', 14: 'n', 15: 'o', 16: 'p', 17: 'q', 18: 'r', 19: 's', 20: 't', 21: 'u', 22: 'v', 23: 'w', 24: 'x', 25: 'y', 26: 'z', 0: '.'}\n"
     ]
    }
   ],
   "source": [
    "# let's only have one special token, and let's have it at index 0, offset others by 1\n",
    "chars = sorted(list(set(''.join(words))))\n",
    "stoi = {s:i+1 for i,s in enumerate(chars)}\n",
    "stoi['.'] = 0\n",
    "itos = {i:s for s,i in stoi.items()}\n",
    "num_classes = len(stoi)\n",
    "vocab_size = len(itos)\n",
    "print(vocab_size, itos)"
   ]
  },
  {
   "cell_type": "code",
   "execution_count": 5,
   "id": "dc7789bb-f552-4762-be51-aa6c34e612cf",
   "metadata": {},
   "outputs": [],
   "source": [
    "def build_dataset(words, block_size):\n",
    "    X, Y, = [], [] # X, input | Y, labels\n",
    "\n",
    "    for w in words:\n",
    "        context = [0] * block_size\n",
    "        for ch in w + '.':\n",
    "            ix = stoi[ch]\n",
    "            X.append(context)\n",
    "            Y.append(ix)\n",
    "            context = context[1:] + [ix] # crop and append moving window\n",
    "\n",
    "    X = torch.tensor(X)\n",
    "    Y = torch.tensor(Y)    \n",
    "    return X, Y"
   ]
  },
  {
   "cell_type": "code",
   "execution_count": 6,
   "id": "fc34bfb8-2f98-403e-b035-45888b93a7e0",
   "metadata": {},
   "outputs": [
    {
     "data": {
      "text/plain": [
       "(torch.Size([182625, 3]),\n",
       " torch.Size([182625]),\n",
       " torch.Size([22655, 3]),\n",
       " torch.Size([22655]),\n",
       " torch.Size([22866, 3]),\n",
       " torch.Size([22866]))"
      ]
     },
     "execution_count": 6,
     "metadata": {},
     "output_type": "execute_result"
    }
   ],
   "source": [
    "# Splits\n",
    "import random\n",
    "random.seed(42)\n",
    "random.shuffle(words)\n",
    "\n",
    "n1 = int(0.8*len(words))\n",
    "n2 = int(0.9*len(words))\n",
    "\n",
    "block_size = 3 # context length : How many characters do we take to predict the next one : 3 chars to predict the 4th\n",
    "\n",
    "Xtr, Ytr = build_dataset(words[:n1], block_size)\n",
    "Xva, Yva = build_dataset(words[n1:n2], block_size)\n",
    "Xte, Yte = build_dataset(words[n2:], block_size)\n",
    "\n",
    "Xtr.shape, Ytr.shape, Xva.shape, Yva.shape, Xte.shape, Yte.shape"
   ]
  },
  {
   "cell_type": "code",
   "execution_count": 7,
   "id": "52455b1c-8e0f-4a1d-aa4f-0f41e2fe32c6",
   "metadata": {},
   "outputs": [
    {
     "data": {
      "text/plain": [
       "11897"
      ]
     },
     "execution_count": 7,
     "metadata": {},
     "output_type": "execute_result"
    }
   ],
   "source": [
    "n_embed = 10   # dimensionality of characters in the embedding vector\n",
    "n_hidden = 200 # number of neurons in the hidden layer\n",
    "\n",
    "g = torch.Generator().manual_seed(2147483647)\n",
    "C = torch.randn((vocab_size, n_embed),             generator=g)\n",
    "W1 = torch.randn((block_size * n_embed, n_hidden), generator=g)\n",
    "b1 = torch.randn(n_hidden,                         generator=g)\n",
    "W2 = torch.randn((n_hidden, vocab_size),           generator=g) * 0.01\n",
    "b2 = torch.randn(vocab_size,                       generator=g) * 0\n",
    "parameters = [C, W1, b1, W2, b2]\n",
    "\n",
    "for p in parameters:\n",
    "    p.requires_grad = True\n",
    "\n",
    "sum(p.nelement() for p in parameters) # total number of parameters"
   ]
  },
  {
   "cell_type": "code",
   "execution_count": 8,
   "id": "f59b12d9-99ae-4a43-a3cf-49fc98be74b0",
   "metadata": {},
   "outputs": [],
   "source": [
    "max_steps = 200000\n",
    "batch_size = 32"
   ]
  },
  {
   "cell_type": "code",
   "execution_count": 9,
   "id": "f5998634-1415-4897-af9f-c842951dd0c9",
   "metadata": {},
   "outputs": [],
   "source": [
    "lossi = []\n",
    "losslog10i = []\n",
    "stepsi = []"
   ]
  },
  {
   "cell_type": "code",
   "execution_count": 10,
   "id": "ac49889a-356d-4dd9-92d9-70039ce2f91b",
   "metadata": {},
   "outputs": [
    {
     "name": "stdout",
     "output_type": "stream",
     "text": [
      "Loss 0/200000: 3.32205867767334\n"
     ]
    }
   ],
   "source": [
    "tot_steps = len(stepsi)\n",
    "\n",
    "for i in range(max_steps):\n",
    "    ix = torch.randint(0, Xtr.shape[0], (batch_size,), generator=g)\n",
    "    Xb, Yb = Xtr[ix], Ytr[ix] # batch X, Y\n",
    "    \n",
    "    # forward pass\n",
    "    emb = C[Xb]                         # embed the characters into vectors\n",
    "    embcat = emb.view(emb.shape[0], -1) # concatenate the vectors\n",
    "    hpreact = embcat @ W1 + b1          # hidden layer pre-activation\n",
    "    h = torch.tanh(hpreact)             # hidden layer\n",
    "    logits = h @ W2 + b2                # output layer\n",
    "    loss = F.cross_entropy(logits, Yb)  # loss function\n",
    "\n",
    "    # backward pass\n",
    "    for p in parameters:\n",
    "        p.grad = None\n",
    "    loss.backward()\n",
    "\n",
    "    # update\n",
    "    lr = 0.1 if i < 100000 else 0.01    # switch learning rate\n",
    "    for p in parameters:\n",
    "        p.data += -lr * p.grad\n",
    "    \n",
    "    # track stats\n",
    "    stepsi.append(tot_steps+i)\n",
    "    lossi.append(loss.item())\n",
    "    losslog10i.append(loss.log10().item())\n",
    "    \n",
    "    # Print loss \n",
    "    if (i)%(max_steps/10) == 0:\n",
    "        print(f\"Loss {i}/{max_steps}: {loss.item()}\")\n",
    "    \n",
    "    break"
   ]
  },
  {
   "cell_type": "code",
   "execution_count": 11,
   "id": "cd62468a-3b40-49da-beff-9eff18e2a875",
   "metadata": {},
   "outputs": [],
   "source": [
    "# We have broken right at the first iteration\n",
    "# Let's investigate a bit more"
   ]
  },
  {
   "cell_type": "code",
   "execution_count": 12,
   "id": "aa47390a-91aa-4927-8ba1-7e4db4d01690",
   "metadata": {},
   "outputs": [],
   "source": [
    "# This loss looks better now that we have init the W2 and b2 properly\n",
    "# but there's still a deeper problem lurking in here\n",
    "# logits are now okay, the problem now is the value of h, let's explore"
   ]
  },
  {
   "cell_type": "code",
   "execution_count": 13,
   "id": "e5eb02c0-d3bb-4e35-b8a5-3b70432fadfb",
   "metadata": {},
   "outputs": [
    {
     "data": {
      "text/plain": [
       "tensor([[ 0.8100, -0.8997, -0.9993,  ..., -0.9097, -1.0000,  1.0000],\n",
       "        [-1.0000, -0.9571, -0.7145,  ...,  0.4898,  0.9090,  0.9937],\n",
       "        [ 0.9983, -0.3340,  1.0000,  ...,  0.9443,  0.9905,  1.0000],\n",
       "        ...,\n",
       "        [-1.0000,  0.9604, -0.1418,  ..., -0.1266,  1.0000,  1.0000],\n",
       "        [-1.0000, -0.4385, -0.8882,  ..., -0.3316,  0.9995,  1.0000],\n",
       "        [-1.0000,  0.9604, -0.1418,  ..., -0.1266,  1.0000,  1.0000]],\n",
       "       grad_fn=<TanhBackward0>)"
      ]
     },
     "execution_count": 13,
     "metadata": {},
     "output_type": "execute_result"
    }
   ],
   "source": [
    "h"
   ]
  },
  {
   "cell_type": "code",
   "execution_count": 14,
   "id": "fb306560-dc31-492e-adad-824f6ec1a594",
   "metadata": {},
   "outputs": [],
   "source": [
    "# hard to see but many of the elements are 1 and -1.0\n",
    "# recall that tanh is a squashing function, takes arbitrary numbers and squashes between -1.0 and 1.0 smoothly\n",
    "# but the presence of many 1.0 and -1.0 tell us that we're squashing hardly right on the edge, they're getting chopped\n",
    "# let's look at a histogram"
   ]
  },
  {
   "cell_type": "code",
   "execution_count": 15,
   "id": "acc99576-cd5c-4c41-896d-7a28240846ac",
   "metadata": {},
   "outputs": [
    {
     "data": {
      "text/plain": [
       "torch.Size([32, 200])"
      ]
     },
     "execution_count": 15,
     "metadata": {},
     "output_type": "execute_result"
    }
   ],
   "source": [
    "h.shape # 32 examples with 200 activations each, remember it's 200 neuron layer"
   ]
  },
  {
   "cell_type": "code",
   "execution_count": 16,
   "id": "e2d8c94b-8d78-4b23-b491-661856c98f1e",
   "metadata": {},
   "outputs": [
    {
     "data": {
      "text/plain": [
       "(torch.Size([6400]), 6400)"
      ]
     },
     "execution_count": 16,
     "metadata": {},
     "output_type": "execute_result"
    }
   ],
   "source": [
    "h.view(-1).shape, len(h.view(-1).tolist()) # stretch out everything in one vector so we can build a histogram"
   ]
  },
  {
   "cell_type": "code",
   "execution_count": 17,
   "id": "45740014-f76d-4bfc-8367-74bbe8c60162",
   "metadata": {},
   "outputs": [
    {
     "data": {
      "image/png": "[encoded data removed]",
      "text/plain": [
       "<Figure size 640x480 with 1 Axes>"
      ]
     },
     "metadata": {},
     "output_type": "display_data"
    }
   ],
   "source": [
    "plt.hist(h.view(-1).tolist(), 50); # number of bins"
   ]
  },
  {
   "cell_type": "code",
   "execution_count": 18,
   "id": "44854058-2c95-4ec2-a9ef-05d2336e9b46",
   "metadata": {},
   "outputs": [],
   "source": [
    "# ZOMG, this looks really bad, you want most stuff inside the tanh range, not on the edges\n",
    "# cannot explan why, but hopefully we're getting there\n",
    "# most values are at the edges, tanh is highly activated, why is this happening\n",
    "# let's look at preact feeding into tanh"
   ]
  },
  {
   "cell_type": "code",
   "execution_count": 19,
   "id": "43cc8a55-f967-47b8-88ae-3502711e46e9",
   "metadata": {},
   "outputs": [
    {
     "data": {
      "image/png": "[encoded data removed]",
      "text/plain": [
       "<Figure size 640x480 with 1 Axes>"
      ]
     },
     "metadata": {},
     "output_type": "display_data"
    }
   ],
   "source": [
    "plt.hist(hpreact.view(-1).tolist(), 50); # number of bins"
   ]
  },
  {
   "cell_type": "code",
   "execution_count": 20,
   "id": "8837c3f4-1936-4071-aa8d-e8ebdadd9f9e",
   "metadata": {},
   "outputs": [],
   "source": [
    "# the pre activation range is very broad, that's why most of the values are getting squashed at the edge\n",
    "# this might seem innocuous, but once you've grokked* out backprop, gradients flowing and activations\n",
    "# this will be more clear on why it's a terrible thing"
   ]
  },
  {
   "cell_type": "code",
   "execution_count": 21,
   "id": "5f40696c-9964-49d4-b905-8dd8f6d932b5",
   "metadata": {},
   "outputs": [],
   "source": [
    "# You're looking at the tanh distribution above and YOU'RE SWEATING\n",
    "# Let's look at what's happening in the tanh in the backward pass\n",
    "\n",
    "# Looking at the micrograd code\n",
    "#    def tanh(self):\n",
    "#        x = self.data\n",
    "#        t = (math.exp(2*x) - 1)/(math.exp(2*x) + 1)\n",
    "#        out = Value(t, (self,), 'tanh')\n",
    "#        \n",
    "#        def _backward():\n",
    "#            self.grad += (1 - t**2) * out.grad       <---------- THIS IS THE LINE THAT WE CARE ABOUT\n",
    "#        \n",
    "#        out._backward = _backward\n",
    "#        return out\n",
    "#\n",
    "\n",
    "# t is tanh of x, betn. -1 and 1\n",
    "# in backward, we get the grad by multiplying with 1 - t**2\n",
    "# What happens when the output of tanh is very close to -1 or 1\n",
    "# The gradient turns out to be zero from the gradient update\n",
    "# No matter what the out.grad is, we kill it with the tanh backward\n",
    "# Effectively tanh acts like a stop gate for backpropagation\n",
    "\n",
    "# Intuitively : a tanh neuron\n",
    "# if the output is very close to 1 (or -1), we are at the tail of the tanh\n",
    "# changing the input a little bit is not going to change tanh output\n",
    "# because it's already at the edge, flat region of tanh, we can change the input however, but tho tanh output does not change\n",
    "# SO IT WILL HAVE NO EFFECT ON THE LOSS, AND THE GRADIENT VANISHES\n",
    "\n",
    "# Similarly when t is exactly 0, the out.grad is just passed through\n",
    "# tanh is inactive when t is zero, tanh fully blocks when t is [1, -1]\n",
    "# think of tanh like a faucet that can only decrease thing on backward"
   ]
  },
  {
   "cell_type": "code",
   "execution_count": 22,
   "id": "ffc5e5e3-51bd-45f0-9432-684b1a88c137",
   "metadata": {},
   "outputs": [],
   "source": [
    "# Let's see how often h is in the flat region (say > 0.99)"
   ]
  },
  {
   "cell_type": "code",
   "execution_count": 23,
   "id": "32554864-6cf0-4943-b61d-44d69ea4f880",
   "metadata": {},
   "outputs": [
    {
     "data": {
      "text/plain": [
       "torch.Size([32, 200])"
      ]
     },
     "execution_count": 23,
     "metadata": {},
     "output_type": "execute_result"
    }
   ],
   "source": [
    "h.abs().shape"
   ]
  },
  {
   "cell_type": "code",
   "execution_count": 24,
   "id": "b1b74302-9e56-4091-bf46-bb63d9005ef1",
   "metadata": {},
   "outputs": [
    {
     "data": {
      "image/png": "[encoded data removed]",
      "text/plain": [
       "<Figure size 2000x1000 with 1 Axes>"
      ]
     },
     "metadata": {},
     "output_type": "display_data"
    }
   ],
   "source": [
    "plt.figure(figsize=(20,10))\n",
    "plt.imshow(h.abs() > 0.99, cmap='gray', interpolation='nearest');"
   ]
  },
  {
   "cell_type": "code",
   "execution_count": 25,
   "id": "2fea6d5a-116c-4486-abe4-16a4fef8695c",
   "metadata": {},
   "outputs": [],
   "source": [
    "# In all the cases above where true(plotted white), the backward gradient will effectively not flow and/or vanish\n",
    "# Imagine the trouble we'd be in, if for any of the cases the entire column was white, that's effectively a dead neuron\n",
    "# That would effectively stop all backpropagation\n",
    "# Given the weights and biases, imagine that no single example ever activates this tanh\n",
    "# dead neuron that never learns\n",
    "\n",
    "# We can see that some gradients will flow for every neuron, there's no dead neuron\n",
    "# When dead neurons happens, no matter what data you plug in from your dataset, this neuron always fires 1 or -1, no learning happens"
   ]
  },
  {
   "cell_type": "code",
   "execution_count": 26,
   "id": "9f148f4b-4b80-43fd-aa21-8be171ee8e86",
   "metadata": {},
   "outputs": [],
   "source": [
    "# Not just for tanh, but a lot of other non linearities used in NNs\n",
    "# sigmoid will have the same issue since it's a squashing neuron, just a different range compared to tanh\n",
    "# same will also apply to relu (if preact is negative, it will effectively not learn) - careful during init\n",
    "# sometimes too high a learning rate can also get a neuron in a place where\n",
    "# it gets too much of a gradient, it gets knocked out of data manifold and it'll fire in the flat region, thus becoming dead\n",
    "# sort of a permanent brain damage"
   ]
  },
  {
   "cell_type": "code",
   "execution_count": 27,
   "id": "eaadfb27-f443-40eb-8d32-2e14b446eb43",
   "metadata": {},
   "outputs": [],
   "source": [
    "# Let's say you have a NN with Relu neurons, after the training is done, final loss\n",
    "# then you go through entire training set, forward your examples and find dead neurons that never fire for any examples\n",
    "# Imagine all the relu neurons learing and flowing in some data manifold\n",
    "# Because of high LR, they get knocked of this manifold and none of the examples ever get them activated\n",
    "# Leaky relu won't suffer from it as much (no flat tails)\n",
    "# ELU might also suffer from this issue as it has flat parts"
   ]
  },
  {
   "cell_type": "code",
   "execution_count": 28,
   "id": "7d8f7350-0601-4ac9-9f84-e5cb2621ef96",
   "metadata": {},
   "outputs": [],
   "source": [
    "# Back to the activation map, because there's no single column, we are okay, no dead neuron destroying gradients\n",
    "# but its not optimal and not something you want, def. not during init\n",
    "# how do we fix this ?"
   ]
  },
  {
   "cell_type": "code",
   "execution_count": 29,
   "id": "e7939dbb-0dbd-444f-bcca-fda43f9635b6",
   "metadata": {},
   "outputs": [],
   "source": [
    "#    emb = C[Xb]                         # embed the characters into vectors\n",
    "#    embcat = emb.view(emb.shape[0], -1) # concatenate the vectors\n",
    "#    hpreact = embcat @ W1 + b1          # hidden layer pre-activation\n",
    "\n",
    "# embcat comes from C which is gaussian, but then it's mult with W1 & b1\n",
    "# hpreact gets too far off from zero causing the issue\n",
    "\n",
    "# so we need to do the same thing for W1 and b1 as we did for W2 and b2\n",
    "# bias can be set to zero for init, but can also be multiplied by 0.001 etc. so there's some entropy, diversity\n",
    "\n",
    "# lets do that an inspect after the first iteration again"
   ]
  },
  {
   "cell_type": "code",
   "execution_count": 30,
   "id": "033b49f5-4cc3-4035-8513-a5da1af23d1f",
   "metadata": {},
   "outputs": [
    {
     "data": {
      "text/plain": [
       "11897"
      ]
     },
     "execution_count": 30,
     "metadata": {},
     "output_type": "execute_result"
    }
   ],
   "source": [
    "n_embed = 10   # dimensionality of characters in the embedding vector\n",
    "n_hidden = 200 # number of neurons in the hidden layer\n",
    "\n",
    "g = torch.Generator().manual_seed(2147483647)\n",
    "C = torch.randn((vocab_size, n_embed),             generator=g)\n",
    "W1 = torch.randn((block_size * n_embed, n_hidden), generator=g) * 0.2\n",
    "b1 = torch.randn(n_hidden,                         generator=g) * 0.01\n",
    "W2 = torch.randn((n_hidden, vocab_size),           generator=g) * 0.01\n",
    "b2 = torch.randn(vocab_size,                       generator=g) * 0\n",
    "parameters = [C, W1, b1, W2, b2]\n",
    "\n",
    "for p in parameters:\n",
    "    p.requires_grad = True\n",
    "\n",
    "sum(p.nelement() for p in parameters) # total number of parameters"
   ]
  },
  {
   "cell_type": "code",
   "execution_count": 31,
   "id": "a77af728-ea35-48db-9716-0489b1fb7ec4",
   "metadata": {},
   "outputs": [],
   "source": [
    "max_steps = 200000\n",
    "batch_size = 32"
   ]
  },
  {
   "cell_type": "code",
   "execution_count": 32,
   "id": "ed701c14-12ed-4d22-8f30-d2456e4e73a6",
   "metadata": {},
   "outputs": [],
   "source": [
    "lossi = []\n",
    "losslog10i = []\n",
    "stepsi = []"
   ]
  },
  {
   "cell_type": "code",
   "execution_count": 33,
   "id": "332f92b9-dba3-4362-a1df-2f98c9380d30",
   "metadata": {},
   "outputs": [
    {
     "name": "stdout",
     "output_type": "stream",
     "text": [
      "Loss 0/200000: 3.3134593963623047\n"
     ]
    }
   ],
   "source": [
    "tot_steps = len(stepsi)\n",
    "\n",
    "for i in range(max_steps):\n",
    "    ix = torch.randint(0, Xtr.shape[0], (batch_size,), generator=g)\n",
    "    Xb, Yb = Xtr[ix], Ytr[ix] # batch X, Y\n",
    "    \n",
    "    # forward pass\n",
    "    emb = C[Xb]                         # embed the characters into vectors\n",
    "    embcat = emb.view(emb.shape[0], -1) # concatenate the vectors\n",
    "    hpreact = embcat @ W1 + b1          # hidden layer pre-activation\n",
    "    h = torch.tanh(hpreact)             # hidden layer\n",
    "    logits = h @ W2 + b2                # output layer\n",
    "    loss = F.cross_entropy(logits, Yb)  # loss function\n",
    "\n",
    "    # backward pass\n",
    "    for p in parameters:\n",
    "        p.grad = None\n",
    "    loss.backward()\n",
    "\n",
    "    # update\n",
    "    lr = 0.1 if i < 100000 else 0.01    # switch learning rate\n",
    "    for p in parameters:\n",
    "        p.data += -lr * p.grad\n",
    "    \n",
    "    # track stats\n",
    "    stepsi.append(tot_steps+i)\n",
    "    lossi.append(loss.item())\n",
    "    losslog10i.append(loss.log10().item())\n",
    "    \n",
    "    # Print loss \n",
    "    if (i)%(max_steps/10) == 0:\n",
    "        print(f\"Loss {i}/{max_steps}: {loss.item()}\")\n",
    "    \n",
    "    break"
   ]
  },
  {
   "cell_type": "code",
   "execution_count": 34,
   "id": "dc25bd87-7cfc-4d7b-9d0f-9030ce06df2c",
   "metadata": {},
   "outputs": [
    {
     "data": {
      "image/png": "[encoded data removed]",
      "text/plain": [
       "<Figure size 640x480 with 1 Axes>"
      ]
     },
     "metadata": {},
     "output_type": "display_data"
    }
   ],
   "source": [
    "plt.hist(h.view(-1).tolist(), 50); # number of bins - this is not hpreact"
   ]
  },
  {
   "cell_type": "code",
   "execution_count": 35,
   "id": "e9112880-734a-4871-9a72-6d3ff13c38a7",
   "metadata": {},
   "outputs": [],
   "source": [
    "# Looks brilliant, this is what we want tanh output to look like"
   ]
  },
  {
   "cell_type": "code",
   "execution_count": 36,
   "id": "20ffe8fc-4d6b-4667-ba22-c21653ae2075",
   "metadata": {},
   "outputs": [
    {
     "data": {
      "image/png": "[encoded data removed]",
      "text/plain": [
       "<Figure size 640x480 with 1 Axes>"
      ]
     },
     "metadata": {},
     "output_type": "display_data"
    }
   ],
   "source": [
    "plt.hist(hpreact.view(-1).tolist(), 50); # number of bins"
   ]
  },
  {
   "cell_type": "code",
   "execution_count": 37,
   "id": "77e683e4-7060-42c4-b1ed-af21272cc764",
   "metadata": {},
   "outputs": [],
   "source": [
    "# and the preact values are well with a good range"
   ]
  },
  {
   "cell_type": "code",
   "execution_count": 38,
   "id": "9b8cc6c0-3a7e-490f-8eeb-aad2ccd87a24",
   "metadata": {},
   "outputs": [
    {
     "data": {
      "image/png": "[encoded data removed]",
      "text/plain": [
       "<Figure size 2000x1000 with 1 Axes>"
      ]
     },
     "metadata": {},
     "output_type": "display_data"
    }
   ],
   "source": [
    "plt.figure(figsize=(20,10))\n",
    "plt.imshow(h.abs() > 0.99, cmap='gray', interpolation='nearest');"
   ]
  },
  {
   "cell_type": "code",
   "execution_count": 39,
   "id": "c56280bf-74fa-46f0-8dca-e755dc1c53f5",
   "metadata": {},
   "outputs": [],
   "source": [
    "# only some white pixel\n",
    "# this is a pretty decent place to be\n",
    "\n",
    "# Let's run the full optimization"
   ]
  },
  {
   "cell_type": "code",
   "execution_count": 40,
   "id": "c3e41bcd-751e-4199-b037-2a6807b933ad",
   "metadata": {},
   "outputs": [
    {
     "data": {
      "text/plain": [
       "11897"
      ]
     },
     "execution_count": 40,
     "metadata": {},
     "output_type": "execute_result"
    }
   ],
   "source": [
    "n_embed = 10   # dimensionality of characters in the embedding vector\n",
    "n_hidden = 200 # number of neurons in the hidden layer\n",
    "\n",
    "g = torch.Generator().manual_seed(2147483647)\n",
    "C = torch.randn((vocab_size, n_embed),             generator=g)\n",
    "W1 = torch.randn((block_size * n_embed, n_hidden), generator=g) * 0.2\n",
    "b1 = torch.randn(n_hidden,                         generator=g) * 0.01\n",
    "W2 = torch.randn((n_hidden, vocab_size),           generator=g) * 0.01\n",
    "b2 = torch.randn(vocab_size,                       generator=g) * 0\n",
    "parameters = [C, W1, b1, W2, b2]\n",
    "\n",
    "for p in parameters:\n",
    "    p.requires_grad = True\n",
    "\n",
    "sum(p.nelement() for p in parameters) # total number of parameters"
   ]
  },
  {
   "cell_type": "code",
   "execution_count": 41,
   "id": "f19813ba-1b9c-408e-87e2-61d193d1963f",
   "metadata": {},
   "outputs": [],
   "source": [
    "max_steps = 200000\n",
    "batch_size = 32"
   ]
  },
  {
   "cell_type": "code",
   "execution_count": 42,
   "id": "a43ee295-62ba-477e-b1c8-8cfb0dac2b41",
   "metadata": {},
   "outputs": [],
   "source": [
    "lossi = []\n",
    "losslog10i = []\n",
    "stepsi = []"
   ]
  },
  {
   "cell_type": "code",
   "execution_count": 43,
   "id": "e7cfa13e-35af-49dc-a8e4-571c4fc3ef2a",
   "metadata": {},
   "outputs": [
    {
     "name": "stdout",
     "output_type": "stream",
     "text": [
      "Loss 0/200000: 3.3134593963623047\n",
      "Loss 20000/200000: 2.3060874938964844\n",
      "Loss 40000/200000: 1.9786770343780518\n",
      "Loss 60000/200000: 2.4232332706451416\n",
      "Loss 80000/200000: 2.3095450401306152\n",
      "Loss 100000/200000: 1.8268601894378662\n",
      "Loss 120000/200000: 1.9796521663665771\n",
      "Loss 140000/200000: 2.1000454425811768\n",
      "Loss 160000/200000: 1.8619437217712402\n",
      "Loss 180000/200000: 1.9672837257385254\n"
     ]
    }
   ],
   "source": [
    "tot_steps = len(stepsi)\n",
    "\n",
    "for i in range(max_steps):\n",
    "    ix = torch.randint(0, Xtr.shape[0], (batch_size,), generator=g)\n",
    "    Xb, Yb = Xtr[ix], Ytr[ix] # batch X, Y\n",
    "    \n",
    "    # forward pass\n",
    "    emb = C[Xb]                         # embed the characters into vectors\n",
    "    embcat = emb.view(emb.shape[0], -1) # concatenate the vectors\n",
    "    hpreact = embcat @ W1 + b1          # hidden layer pre-activation\n",
    "    h = torch.tanh(hpreact)             # hidden layer\n",
    "    logits = h @ W2 + b2                # output layer\n",
    "    loss = F.cross_entropy(logits, Yb)  # loss function\n",
    "\n",
    "    # backward pass\n",
    "    for p in parameters:\n",
    "        p.grad = None\n",
    "    loss.backward()\n",
    "\n",
    "    # update\n",
    "    lr = 0.1 if i < 100000 else 0.01    # switch learning rate\n",
    "    for p in parameters:\n",
    "        p.data += -lr * p.grad\n",
    "    \n",
    "    # track stats\n",
    "    stepsi.append(tot_steps+i)\n",
    "    lossi.append(loss.item())\n",
    "    losslog10i.append(loss.log10().item())\n",
    "    \n",
    "    # Print loss \n",
    "    if (i)%(max_steps/10) == 0:\n",
    "        print(f\"Loss {i}/{max_steps}: {loss.item()}\")"
   ]
  },
  {
   "cell_type": "code",
   "execution_count": 44,
   "id": "7493128a-7431-4228-ae98-4471a8cf7df1",
   "metadata": {},
   "outputs": [
    {
     "data": {
      "text/plain": [
       "[<matplotlib.lines.Line2D at 0x7f41ad55b9a0>]"
      ]
     },
     "execution_count": 44,
     "metadata": {},
     "output_type": "execute_result"
    },
    {
     "data": {
      "image/png": "[encoded data removed]",
      "text/plain": [
       "<Figure size 640x480 with 1 Axes>"
      ]
     },
     "metadata": {},
     "output_type": "display_data"
    }
   ],
   "source": [
    "plt.plot(stepsi, losslog10i)"
   ]
  },
  {
   "cell_type": "code",
   "execution_count": 45,
   "id": "b13aa917-91f7-4841-af48-a0b2cb3a2a3e",
   "metadata": {},
   "outputs": [
    {
     "name": "stdout",
     "output_type": "stream",
     "text": [
      "train loss : 2.0355963706970215\n",
      "val loss : 2.1026782989501953\n"
     ]
    }
   ],
   "source": [
    "@torch.no_grad() # this decorator disables gradient tracking, can also the context manager instead\n",
    "def split_loss(split):\n",
    "    ds = {\n",
    "        'train': (Xtr, Ytr),\n",
    "        'val':   (Xva, Yva),\n",
    "        'test':  (Xte, Yte),\n",
    "    }\n",
    "    x,y = ds[split]\n",
    "    emb = C[x]\n",
    "    embcat = emb.view(emb.shape[0], -1)\n",
    "    h = torch.tanh(embcat @ W1 + b1)\n",
    "    logits = h @ W2 + b2\n",
    "    loss = F.cross_entropy(logits, y)\n",
    "    print(f'{split} loss : {loss.item()}')\n",
    "\n",
    "split_loss('train')\n",
    "split_loss('val')"
   ]
  },
  {
   "cell_type": "code",
   "execution_count": 46,
   "id": "2aaf13f6-fa34-4162-a60f-ced92e10068f",
   "metadata": {},
   "outputs": [],
   "source": [
    "# And the losses have improved even a bit further after fixing the tanh saturation"
   ]
  },
  {
   "cell_type": "code",
   "execution_count": 47,
   "id": "b6e2fa65-fecd-483e-8b6a-cb09699f115d",
   "metadata": {},
   "outputs": [
    {
     "name": "stdout",
     "output_type": "stream",
     "text": [
      "carmahzauri.\n",
      "jai.\n",
      "kimri.\n",
      "reh.\n",
      "casparsha.\n",
      "jazhith.\n",
      "deliah.\n",
      "jareei.\n",
      "nellara.\n",
      "chaily.\n"
     ]
    }
   ],
   "source": [
    "g = torch.Generator().manual_seed(2147483647 + 10)\n",
    "\n",
    "for _ in range(10):\n",
    "    out = []\n",
    "    block_size = 3\n",
    "    context = [0] * block_size # initialize all with ...\n",
    "    while True:\n",
    "        # forward pass\n",
    "        emb = C[torch.tensor([context])] # (1, block_size, d)\n",
    "        h = torch.tanh(emb.view(1, -1) @ W1 + b1)\n",
    "        logits = h @ W2 + b2\n",
    "        probs = F.softmax(logits, dim=1) # exponentiates the logits and then softmaxes them, similar to cross entroy no overflows\n",
    "        # sample from the distribution\n",
    "        ix = torch.multinomial(probs, num_samples=1, generator=g).item()\n",
    "        # shift the context window and track the samples\n",
    "        context = context[1:] + [ix]\n",
    "        out.append(ix)\n",
    "        # break if we reach the special token '.'\n",
    "        if ix == 0:\n",
    "            break\n",
    "    \n",
    "    print(''.join(itos[i] for i in out))"
   ]
  },
  {
   "cell_type": "code",
   "execution_count": 48,
   "id": "737b67e3-1687-45b2-9797-d4c49196178c",
   "metadata": {},
   "outputs": [],
   "source": [
    "# Note our losses going down with tricks\n",
    "\n",
    "# Train test validation split - in the beginning\n",
    "# Train Loss : 2.2589\n",
    "# Val Loss   : 2.2702\n",
    "\n",
    "# After increasing NN capacity and embedding size\n",
    "# Train Loss : 2.1190\n",
    "# Val Loss   : 2.1711\n",
    "\n",
    "# After fixing init weight bias softmax confidently wrong\n",
    "# Train loss : 2.0695\n",
    "# Val loss : 2.1310\n",
    "\n",
    "# Now, after fixing tanh saturation\n",
    "# train loss : 2.0355\n",
    "# val loss : 2.1026"
   ]
  },
  {
   "cell_type": "code",
   "execution_count": 49,
   "id": "d1f84121-dbb2-47d6-910e-e561bcaae58e",
   "metadata": {},
   "outputs": [],
   "source": [
    "# Since it's the same number of iterations exactly from the beginning of training\n",
    "# We can see that we are spending more time training to get better\n",
    "# rather than spend time squashing weights"
   ]
  },
  {
   "cell_type": "code",
   "execution_count": 50,
   "id": "298cb83f-750e-4794-b0df-dfcdc6715504",
   "metadata": {},
   "outputs": [],
   "source": [
    "# This illustrates initialization and its impact on performance\n",
    "# just by being aware of internal states of the NN, the activations and the gradients"
   ]
  },
  {
   "cell_type": "code",
   "execution_count": 51,
   "id": "7c9ded37-48c8-4576-83b2-6ea2faf03a0d",
   "metadata": {},
   "outputs": [],
   "source": [
    "# this is a shallow network, so the optimisation problem is easy and forgiving\n",
    "# even though our init was terrible, the network eventually learnt\n",
    "# but this is not the case in general\n",
    "# once we start working with much deeper networks (say 50 layers), things can get much more complicated\n",
    "# these problems stack up and you can get into a place where the network doesn't train at all\n",
    "# the deeper your network and the more complex it is, the less forgiving it is to some of these init issues"
   ]
  },
  {
   "cell_type": "code",
   "execution_count": 52,
   "id": "fe8d8e81-9a8b-40f5-8c0b-b43019244b9d",
   "metadata": {},
   "outputs": [],
   "source": [
    "# Something to scrutinize, plot and be careful"
   ]
  }
 ],
 "metadata": {
  "kernelspec": {
   "display_name": "Python 3 (ipykernel)",
   "language": "python",
   "name": "python3"
  },
  "language_info": {
   "codemirror_mode": {
    "name": "ipython",
    "version": 3
   },
   "file_extension": ".py",
   "mimetype": "text/x-python",
   "name": "python",
   "nbconvert_exporter": "python",
   "pygments_lexer": "ipython3",
   "version": "3.10.4"
  }
 },
 "nbformat": 4,
 "nbformat_minor": 5
}
