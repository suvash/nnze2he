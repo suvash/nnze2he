{
 "cells": [
  {
   "cell_type": "code",
   "execution_count": 1,
   "id": "6912fe95-e748-434d-8b46-b74948486564",
   "metadata": {},
   "outputs": [],
   "source": [
    "import matplotlib.pyplot as plt\n",
    "%matplotlib inline"
   ]
  },
  {
   "cell_type": "code",
   "execution_count": 2,
   "id": "ac6299d6-c7ae-4032-a0ee-7223bde0bde8",
   "metadata": {},
   "outputs": [],
   "source": [
    "import torch\n",
    "import torch.nn.functional as F"
   ]
  },
  {
   "cell_type": "code",
   "execution_count": 3,
   "id": "84e765f4-b077-4988-8361-53dbc31b4896",
   "metadata": {},
   "outputs": [
    {
     "data": {
      "text/plain": [
       "(32033,\n",
       " ['emma', 'olivia', 'ava', 'isabella', 'sophia', 'charlotte', 'mia', 'amelia'])"
      ]
     },
     "execution_count": 3,
     "metadata": {},
     "output_type": "execute_result"
    }
   ],
   "source": [
    "words = open('names.txt').read().splitlines()\n",
    "len(words), words[:8]"
   ]
  },
  {
   "cell_type": "code",
   "execution_count": 4,
   "id": "749ad72a-9e36-4f63-848f-0d6ddc49600c",
   "metadata": {},
   "outputs": [],
   "source": [
    "# let's only have one special token, and let's have it at index 0, offset others by 1\n",
    "chars = sorted(list(set(''.join(words))))\n",
    "stoi = {s:i+1 for i,s in enumerate(chars)}\n",
    "stoi['.'] = 0\n",
    "itos = {i:s for s,i in stoi.items()}\n",
    "num_classes = len(stoi)"
   ]
  },
  {
   "cell_type": "code",
   "execution_count": 5,
   "id": "7d9ba170-262e-44ca-9683-d9a9a96adb16",
   "metadata": {},
   "outputs": [
    {
     "data": {
      "text/plain": [
       "(torch.Size([228146, 3]), torch.int64, torch.Size([228146]), torch.int64)"
      ]
     },
     "execution_count": 5,
     "metadata": {},
     "output_type": "execute_result"
    }
   ],
   "source": [
    "# Whole dataset\n",
    "\n",
    "block_size = 3 # How many characters do we take to predict the next one : 3 chars to predict the 4th\n",
    "X, Y, = [], [] # X, input | Y, labels\n",
    "\n",
    "for w in words:\n",
    "    context = [0] * block_size\n",
    "    for ch in w + '.':\n",
    "        ix = stoi[ch]\n",
    "        X.append(context)\n",
    "        Y.append(ix)\n",
    "        context = context[1:] + [ix] # crop and append moving window\n",
    "\n",
    "X = torch.tensor(X)\n",
    "Y = torch.tensor(Y)\n",
    "\n",
    "X.shape, X.dtype, Y.shape, Y.dtype"
   ]
  },
  {
   "cell_type": "code",
   "execution_count": 6,
   "id": "52455b1c-8e0f-4a1d-aa4f-0f41e2fe32c6",
   "metadata": {},
   "outputs": [
    {
     "data": {
      "text/plain": [
       "3481"
      ]
     },
     "execution_count": 6,
     "metadata": {},
     "output_type": "execute_result"
    }
   ],
   "source": [
    "g = torch.Generator().manual_seed(2147483647)\n",
    "C = torch.randn((27, 2), generator=g)\n",
    "W1 = torch.randn((3*2, 100), generator=g)\n",
    "b1 = torch.randn(100, generator=g)\n",
    "W2 = torch.randn((100, 27), generator=g)\n",
    "b2 = torch.randn(27, generator=g)\n",
    "parameters = [C, W1, b1, W2, b2]\n",
    "\n",
    "\n",
    "sum(p.nelement() for p in parameters) # total number of parameters"
   ]
  },
  {
   "cell_type": "code",
   "execution_count": 7,
   "id": "b9e37fdb-baf5-49ac-9cce-8ef090c78246",
   "metadata": {},
   "outputs": [],
   "source": [
    "# parameters learnable\n",
    "for p in parameters:\n",
    "    p.requires_grad = True"
   ]
  },
  {
   "cell_type": "code",
   "execution_count": 8,
   "id": "477a676a-e914-480d-b044-f8ea338c39e1",
   "metadata": {},
   "outputs": [],
   "source": [
    "steps = 1000"
   ]
  },
  {
   "cell_type": "code",
   "execution_count": 9,
   "id": "d6d8e915-9193-4a9f-aefd-aea455d0c6f3",
   "metadata": {},
   "outputs": [],
   "source": [
    "# A good learning rate is between 0.0001 and 1.0\n",
    "# One can try that and see how the loss goes up/down\n",
    "# get lrs spaced exponentially in the interval\n",
    "# we would like to search over these lrs\n",
    "lre = torch.linspace(-3, 0, steps)\n",
    "lrs = 10**lre"
   ]
  },
  {
   "cell_type": "code",
   "execution_count": 10,
   "id": "77f247b7-d95c-4900-a9ea-f97424cb3ac3",
   "metadata": {},
   "outputs": [],
   "source": [
    "# use the lrs in the steps\n",
    "# keep track of the losses\n",
    "# and see how it gets better or worse"
   ]
  },
  {
   "cell_type": "code",
   "execution_count": 11,
   "id": "ac49889a-356d-4dd9-92d9-70039ce2f91b",
   "metadata": {},
   "outputs": [],
   "source": [
    "lri = []\n",
    "lrei = []\n",
    "lossi = []\n",
    "\n",
    "for i in range(steps):\n",
    "    # minibatches\n",
    "    bs = 32\n",
    "    ix = torch.randint(0, X.shape[0], (bs,))\n",
    "    \n",
    "    # forward pass\n",
    "    emb = C[X[ix]] # [32, 3, 2]\n",
    "    h = torch.tanh(emb.view(-1, W1.shape[0]) @ W1 + b1) # [32, 100]\n",
    "    logits = h @ W2 + b2 # [32, 27]\n",
    "    loss = F.cross_entropy(logits, Y[ix]) # also Ys have to be at the same index\n",
    "    # if (i+1)%100 == 0:\n",
    "        # print(f\"Iteration {i}: Minibatch loss : {loss.item()}\")\n",
    "\n",
    "    # backward pass\n",
    "    for p in parameters:\n",
    "        p.grad = None\n",
    "    loss.backward()\n",
    "\n",
    "    # update\n",
    "    lr = lrs[i]\n",
    "    for p in parameters:\n",
    "        p.data += -lr * p.grad\n",
    "        \n",
    "    # track stats\n",
    "    lrei.append(lre[i])\n",
    "    lossi.append(loss.item())"
   ]
  },
  {
   "cell_type": "code",
   "execution_count": 12,
   "id": "f40c4703-04aa-414c-9b34-281a9c500ac5",
   "metadata": {},
   "outputs": [
    {
     "data": {
      "text/plain": [
       "[<matplotlib.lines.Line2D at 0x7f1f123f9510>]"
      ]
     },
     "execution_count": 12,
     "metadata": {},
     "output_type": "execute_result"
    },
    {
     "data": {
      "image/png": "[encoded data removed]",
      "text/plain": [
       "<Figure size 640x480 with 1 Axes>"
      ]
     },
     "metadata": {},
     "output_type": "display_data"
    }
   ],
   "source": [
    "plt.plot(lrei, lossi)"
   ]
  },
  {
   "cell_type": "code",
   "execution_count": 13,
   "id": "d6b10ce1-266c-4d92-8593-7cd5cb4eafd6",
   "metadata": {},
   "outputs": [],
   "source": [
    "# above we are plotting the exponent of the learning rate vs. loss\n",
    "# you can see the stable point is around -1.0\n",
    "# 10**-1.0 = 0.1, that was the pretty good stable lr"
   ]
  },
  {
   "cell_type": "code",
   "execution_count": 14,
   "id": "e834192b-aa04-4f2e-bc87-164f3d2153bb",
   "metadata": {},
   "outputs": [],
   "source": [
    "# now that we have a good learning rate we can use that to train properly"
   ]
  }
 ],
 "metadata": {
  "kernelspec": {
   "display_name": "Python 3 (ipykernel)",
   "language": "python",
   "name": "python3"
  },
  "language_info": {
   "codemirror_mode": {
    "name": "ipython",
    "version": 3
   },
   "file_extension": ".py",
   "mimetype": "text/x-python",
   "name": "python",
   "nbconvert_exporter": "python",
   "pygments_lexer": "ipython3",
   "version": "3.10.4"
  }
 },
 "nbformat": 4,
 "nbformat_minor": 5
}
