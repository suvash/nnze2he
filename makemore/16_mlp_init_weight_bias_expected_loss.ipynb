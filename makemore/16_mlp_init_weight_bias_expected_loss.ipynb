{
 "cells": [
  {
   "cell_type": "code",
   "execution_count": 1,
   "id": "6912fe95-e748-434d-8b46-b74948486564",
   "metadata": {},
   "outputs": [],
   "source": [
    "import matplotlib.pyplot as plt\n",
    "%matplotlib inline"
   ]
  },
  {
   "cell_type": "code",
   "execution_count": 2,
   "id": "ac6299d6-c7ae-4032-a0ee-7223bde0bde8",
   "metadata": {},
   "outputs": [],
   "source": [
    "import torch\n",
    "import torch.nn.functional as F"
   ]
  },
  {
   "cell_type": "code",
   "execution_count": 3,
   "id": "84e765f4-b077-4988-8361-53dbc31b4896",
   "metadata": {},
   "outputs": [
    {
     "data": {
      "text/plain": [
       "(32033,\n",
       " ['emma', 'olivia', 'ava', 'isabella', 'sophia', 'charlotte', 'mia', 'amelia'])"
      ]
     },
     "execution_count": 3,
     "metadata": {},
     "output_type": "execute_result"
    }
   ],
   "source": [
    "words = open('names.txt').read().splitlines()\n",
    "len(words), words[:8]"
   ]
  },
  {
   "cell_type": "code",
   "execution_count": 4,
   "id": "749ad72a-9e36-4f63-848f-0d6ddc49600c",
   "metadata": {},
   "outputs": [
    {
     "name": "stdout",
     "output_type": "stream",
     "text": [
      "27 {1: 'a', 2: 'b', 3: 'c', 4: 'd', 5: 'e', 6: 'f', 7: 'g', 8: 'h', 9: 'i', 10: 'j', 11: 'k', 12: 'l', 13: 'm', 14: 'n', 15: 'o', 16: 'p', 17: 'q', 18: 'r', 19: 's', 20: 't', 21: 'u', 22: 'v', 23: 'w', 24: 'x', 25: 'y', 26: 'z', 0: '.'}\n"
     ]
    }
   ],
   "source": [
    "# let's only have one special token, and let's have it at index 0, offset others by 1\n",
    "chars = sorted(list(set(''.join(words))))\n",
    "stoi = {s:i+1 for i,s in enumerate(chars)}\n",
    "stoi['.'] = 0\n",
    "itos = {i:s for s,i in stoi.items()}\n",
    "num_classes = len(stoi)\n",
    "vocab_size = len(itos)\n",
    "print(vocab_size, itos)"
   ]
  },
  {
   "cell_type": "code",
   "execution_count": 5,
   "id": "dc7789bb-f552-4762-be51-aa6c34e612cf",
   "metadata": {},
   "outputs": [],
   "source": [
    "def build_dataset(words, block_size):\n",
    "    X, Y, = [], [] # X, input | Y, labels\n",
    "\n",
    "    for w in words:\n",
    "        context = [0] * block_size\n",
    "        for ch in w + '.':\n",
    "            ix = stoi[ch]\n",
    "            X.append(context)\n",
    "            Y.append(ix)\n",
    "            context = context[1:] + [ix] # crop and append moving window\n",
    "\n",
    "    X = torch.tensor(X)\n",
    "    Y = torch.tensor(Y)    \n",
    "    return X, Y"
   ]
  },
  {
   "cell_type": "code",
   "execution_count": 6,
   "id": "fc34bfb8-2f98-403e-b035-45888b93a7e0",
   "metadata": {},
   "outputs": [
    {
     "data": {
      "text/plain": [
       "(torch.Size([182625, 3]),\n",
       " torch.Size([182625]),\n",
       " torch.Size([22655, 3]),\n",
       " torch.Size([22655]),\n",
       " torch.Size([22866, 3]),\n",
       " torch.Size([22866]))"
      ]
     },
     "execution_count": 6,
     "metadata": {},
     "output_type": "execute_result"
    }
   ],
   "source": [
    "# Splits\n",
    "import random\n",
    "random.seed(42)\n",
    "random.shuffle(words)\n",
    "\n",
    "n1 = int(0.8*len(words))\n",
    "n2 = int(0.9*len(words))\n",
    "\n",
    "block_size = 3 # context length : How many characters do we take to predict the next one : 3 chars to predict the 4th\n",
    "\n",
    "Xtr, Ytr = build_dataset(words[:n1], block_size)\n",
    "Xva, Yva = build_dataset(words[n1:n2], block_size)\n",
    "Xte, Yte = build_dataset(words[n2:], block_size)\n",
    "\n",
    "Xtr.shape, Ytr.shape, Xva.shape, Yva.shape, Xte.shape, Yte.shape"
   ]
  },
  {
   "cell_type": "code",
   "execution_count": 7,
   "id": "52455b1c-8e0f-4a1d-aa4f-0f41e2fe32c6",
   "metadata": {},
   "outputs": [
    {
     "data": {
      "text/plain": [
       "11897"
      ]
     },
     "execution_count": 7,
     "metadata": {},
     "output_type": "execute_result"
    }
   ],
   "source": [
    "n_embed = 10   # dimensionality of characters in the embedding vector\n",
    "n_hidden = 200 # number of neurons in the hidden layer\n",
    "\n",
    "g = torch.Generator().manual_seed(2147483647)\n",
    "C = torch.randn((vocab_size, n_embed),             generator=g)\n",
    "W1 = torch.randn((block_size * n_embed, n_hidden), generator=g)\n",
    "b1 = torch.randn(n_hidden,                         generator=g)\n",
    "W2 = torch.randn((n_hidden, vocab_size),           generator=g)\n",
    "b2 = torch.randn(vocab_size,                       generator=g)\n",
    "parameters = [C, W1, b1, W2, b2]\n",
    "\n",
    "for p in parameters:\n",
    "    p.requires_grad = True\n",
    "\n",
    "sum(p.nelement() for p in parameters) # total number of parameters"
   ]
  },
  {
   "cell_type": "code",
   "execution_count": 8,
   "id": "f59b12d9-99ae-4a43-a3cf-49fc98be74b0",
   "metadata": {},
   "outputs": [],
   "source": [
    "max_steps = 200000\n",
    "batch_size = 32"
   ]
  },
  {
   "cell_type": "code",
   "execution_count": 9,
   "id": "f5998634-1415-4897-af9f-c842951dd0c9",
   "metadata": {},
   "outputs": [],
   "source": [
    "lossi = []\n",
    "losslog10i = []\n",
    "stepsi = []"
   ]
  },
  {
   "cell_type": "code",
   "execution_count": 10,
   "id": "ac49889a-356d-4dd9-92d9-70039ce2f91b",
   "metadata": {},
   "outputs": [
    {
     "name": "stdout",
     "output_type": "stream",
     "text": [
      "Loss 0/200000: 27.881732940673828\n"
     ]
    }
   ],
   "source": [
    "tot_steps = len(stepsi)\n",
    "\n",
    "for i in range(max_steps):\n",
    "    ix = torch.randint(0, Xtr.shape[0], (batch_size,), generator=g)\n",
    "    Xb, Yb = Xtr[ix], Ytr[ix] # batch X, Y\n",
    "    \n",
    "    # forward pass\n",
    "    emb = C[Xb]                         # embed the characters into vectors\n",
    "    embcat = emb.view(emb.shape[0], -1) # concatenate the vectors\n",
    "    hpreact = embcat @ W1 + b1          # hidden layer pre-activation\n",
    "    h = torch.tanh(hpreact)             # hidden layer\n",
    "    logits = h @ W2 + b2                # output layer\n",
    "    loss = F.cross_entropy(logits, Yb)  # loss function\n",
    "\n",
    "    # backward pass\n",
    "    for p in parameters:\n",
    "        p.grad = None\n",
    "    loss.backward()\n",
    "\n",
    "    # update\n",
    "    lr = 0.1 if i < 100000 else 0.01    # switch learning rate\n",
    "    for p in parameters:\n",
    "        p.data += -lr * p.grad\n",
    "    \n",
    "    # track stats\n",
    "    stepsi.append(tot_steps+i)\n",
    "    lossi.append(loss.item())\n",
    "    losslog10i.append(loss.log10().item())\n",
    "    \n",
    "    # Print loss \n",
    "    if (i)%(max_steps/10) == 0:\n",
    "        print(f\"Loss {i}/{max_steps}: {loss.item()}\")\n",
    "    \n",
    "    break"
   ]
  },
  {
   "cell_type": "code",
   "execution_count": 11,
   "id": "cd62468a-3b40-49da-beff-9eff18e2a875",
   "metadata": {},
   "outputs": [],
   "source": [
    "# We have broken right at the first iteration\n",
    "# Let's investigate a bit more"
   ]
  },
  {
   "cell_type": "code",
   "execution_count": 12,
   "id": "0dec66a5-58dd-4dbf-b008-912291c08fae",
   "metadata": {},
   "outputs": [],
   "source": [
    "# We can see above in the loss for 0th iteration that the loss is very high (27.)\n",
    "# When training neural nets it's always the case that you have an idea of what loss to expect at initilisation\n",
    "# Depends on the loss function and problem setup\n",
    "# In this case we expect a much lower number"
   ]
  },
  {
   "cell_type": "code",
   "execution_count": 13,
   "id": "7150d53e-2a7e-477a-ad6b-4980b5143300",
   "metadata": {},
   "outputs": [],
   "source": [
    "# 27 possible characters that can be output\n",
    "# At init, no reason to believe that any character is much more likely to be than others\n",
    "# we'd expect the prob distribution that comes out initially to be a uniform distribution\n",
    "# assigning about equal probability to all the 27 characters\n",
    "# prob for any character to be 1/27\n",
    "# loss is negative log prob"
   ]
  },
  {
   "cell_type": "code",
   "execution_count": 14,
   "id": "8b045d0a-3ab9-4d2f-ae13-84b1a4ea3338",
   "metadata": {},
   "outputs": [
    {
     "data": {
      "text/plain": [
       "tensor(3.2958)"
      ]
     },
     "execution_count": 14,
     "metadata": {},
     "output_type": "execute_result"
    }
   ],
   "source": [
    "-torch.tensor(1.0/27.0).log()"
   ]
  },
  {
   "cell_type": "code",
   "execution_count": 15,
   "id": "098adace-45e5-479b-a1a0-be3f19a89d08",
   "metadata": {},
   "outputs": [],
   "source": [
    "# so we can see that the expected loss for uniform distribution should have been around 3.29, much much lower than 27\n",
    "# what's happening at init is that the prob. distributions are all messed up\n",
    "# some characters very confident and some characters not at all\n",
    "# the network is very confidently wrong, so we get a high loss"
   ]
  },
  {
   "cell_type": "code",
   "execution_count": 16,
   "id": "74b55b6f-aa91-4f68-9323-faccac75cb6c",
   "metadata": {},
   "outputs": [],
   "source": [
    "# look at some examples, say we want the probability on the index i = 2"
   ]
  },
  {
   "cell_type": "code",
   "execution_count": 17,
   "id": "a98f8e4d-01e0-44ce-9db6-258ca00a765b",
   "metadata": {},
   "outputs": [
    {
     "data": {
      "text/plain": [
       "(tensor([0., 0., 0., 0.]),\n",
       " tensor([0.2500, 0.2500, 0.2500, 0.2500]),\n",
       " tensor(0.2500),\n",
       " tensor(1.3863))"
      ]
     },
     "execution_count": 17,
     "metadata": {},
     "output_type": "execute_result"
    }
   ],
   "source": [
    "# first a uniform distribution\n",
    "logits = torch.tensor([0.0, 0.0, 0.0, 0.0])\n",
    "probs = torch.softmax(logits, dim=0)\n",
    "loss = -probs[2].log()\n",
    "logits, probs, probs[2], loss"
   ]
  },
  {
   "cell_type": "code",
   "execution_count": 18,
   "id": "eed49e13-2115-4c42-9cfb-255390865839",
   "metadata": {},
   "outputs": [
    {
     "data": {
      "text/plain": [
       "(tensor([0., 0., 9., 0.]),\n",
       " tensor([1.2336e-04, 1.2336e-04, 9.9963e-01, 1.2336e-04]),\n",
       " tensor(0.9996),\n",
       " tensor(0.0004))"
      ]
     },
     "execution_count": 18,
     "metadata": {},
     "output_type": "execute_result"
    }
   ],
   "source": [
    "# next if it's correct\n",
    "logits = torch.tensor([0.0, 0.0, 9.0, 0.0])\n",
    "probs = torch.softmax(logits, dim=0)\n",
    "loss = -probs[2].log()\n",
    "logits, probs, probs[2], loss"
   ]
  },
  {
   "cell_type": "code",
   "execution_count": 19,
   "id": "b04f9a63-aeff-4bb8-a325-742f21ca91d7",
   "metadata": {},
   "outputs": [
    {
     "data": {
      "text/plain": [
       "(tensor([10., 10.,  0.,  0.]),\n",
       " tensor([4.9998e-01, 4.9998e-01, 2.2699e-05, 2.2699e-05]),\n",
       " tensor(2.2699e-05),\n",
       " tensor(10.6932))"
      ]
     },
     "execution_count": 19,
     "metadata": {},
     "output_type": "execute_result"
    }
   ],
   "source": [
    "# next if it's wrong, if some other indexes are correct\n",
    "logits = torch.tensor([10.0, 10.0, 0.0, 0.0])\n",
    "probs = torch.softmax(logits, dim=0)\n",
    "loss = -probs[2].log()\n",
    "logits, probs, probs[2], loss"
   ]
  },
  {
   "cell_type": "code",
   "execution_count": 20,
   "id": "9ae2ba35-3f51-461c-a50a-aa6be9c86537",
   "metadata": {},
   "outputs": [],
   "source": [
    "# So basically when the logits take on extreme values we record really high loss"
   ]
  },
  {
   "cell_type": "code",
   "execution_count": 21,
   "id": "77c8f76e-cd73-45c4-ae60-a807850731bd",
   "metadata": {},
   "outputs": [
    {
     "data": {
      "text/plain": [
       "(tensor([ 1.5616, -0.1178,  0.7796, -0.0252]),\n",
       " tensor([0.5410, 0.1009, 0.2475, 0.1107]),\n",
       " tensor(0.2475),\n",
       " tensor(1.3964))"
      ]
     },
     "execution_count": 21,
     "metadata": {},
     "output_type": "execute_result"
    }
   ],
   "source": [
    "# now lets take some uniformly distributed random numbers\n",
    "logits = torch.randn(4)\n",
    "probs = torch.softmax(logits, dim=0)\n",
    "loss = -probs[2].log()\n",
    "logits, probs, probs[2], loss"
   ]
  },
  {
   "cell_type": "code",
   "execution_count": 22,
   "id": "c1b59da3-49e3-445b-9737-2cb04e27a2bb",
   "metadata": {},
   "outputs": [
    {
     "data": {
      "text/plain": [
       "(tensor([  0.8477, -17.5825,  29.2880,  20.6880]),\n",
       " tensor([4.4508e-13, 4.4088e-21, 9.9982e-01, 1.8406e-04]),\n",
       " tensor(0.9998),\n",
       " tensor(0.0002))"
      ]
     },
     "execution_count": 22,
     "metadata": {},
     "output_type": "execute_result"
    }
   ],
   "source": [
    "# but what if those numbers are not near zero\n",
    "logits = torch.randn(4) * 30\n",
    "probs = torch.softmax(logits, dim=0)\n",
    "loss = -probs[2].log()\n",
    "logits, probs, probs[2], loss"
   ]
  },
  {
   "cell_type": "code",
   "execution_count": 23,
   "id": "a1dcdf53-2de4-4d55-bca6-1b544e8009a1",
   "metadata": {},
   "outputs": [],
   "source": [
    "# confidently wrong and therefore recording high loss"
   ]
  },
  {
   "cell_type": "code",
   "execution_count": 24,
   "id": "1031ee42-ba21-4463-b9da-113689b25b55",
   "metadata": {},
   "outputs": [],
   "source": [
    "# WE want the logits to be roughly around zero when the network is first initialised\n",
    "# what we did in the first example\n",
    "# In fact they don't have to be all zero, they just have to be all equal\n",
    "# everything is equally likely"
   ]
  },
  {
   "cell_type": "code",
   "execution_count": 25,
   "id": "c6068907-9f4c-40d2-9123-bfec9db6ecce",
   "metadata": {},
   "outputs": [
    {
     "data": {
      "text/plain": [
       "tensor(0.8477)"
      ]
     },
     "execution_count": 25,
     "metadata": {},
     "output_type": "execute_result"
    }
   ],
   "source": [
    "logits[0]"
   ]
  },
  {
   "cell_type": "code",
   "execution_count": 26,
   "id": "d709e4a6-97fb-48c4-87cc-9b56bfd2416f",
   "metadata": {},
   "outputs": [],
   "source": [
    "# the logits take on quite extreme values, that's what's creating the fake confidence and making loss high\n",
    "# how can we make these logits coming out of the NN more close to zero\n",
    "\n",
    "# Notice logits = h @ W2 + b2\n",
    "# we init b2 as random values, but since we want logits to come out close to zero, lets just zero the biases out to start with\n",
    "# b2 = torch.randn(vocab_size,                       generator=g) * 0.0\n",
    "# the other component is h @ W2, if we want logits to be small, we can scale down those values\n",
    "# W2 = torch.randn((n_hidden, vocab_size),           generator=g) * 0.01\n",
    "# the loss that we want to start with for this network is\n",
    "# -torch.tensor(1.0/27.0).log() = tensor(3.2958)\n",
    "\n",
    "# But why not just set W2 to 0, that way we get exactly 3.2958\n",
    "# you want it to be small numbers instead of exactly zero, you want some entropy\n",
    "# the entropy is used for symmetry breaking (explained further)\n",
    "\n",
    "# so let's try to reinit and run the training again"
   ]
  },
  {
   "cell_type": "code",
   "execution_count": 27,
   "id": "5969bf1a-a29c-4099-9dac-1fc78f089058",
   "metadata": {},
   "outputs": [
    {
     "data": {
      "text/plain": [
       "11897"
      ]
     },
     "execution_count": 27,
     "metadata": {},
     "output_type": "execute_result"
    }
   ],
   "source": [
    "n_embed = 10   # dimensionality of characters in the embedding vector\n",
    "n_hidden = 200 # number of neurons in the hidden layer\n",
    "\n",
    "g = torch.Generator().manual_seed(2147483647)\n",
    "C = torch.randn((vocab_size, n_embed),             generator=g)\n",
    "W1 = torch.randn((block_size * n_embed, n_hidden), generator=g)\n",
    "b1 = torch.randn(n_hidden,                         generator=g)\n",
    "W2 = torch.randn((n_hidden, vocab_size),           generator=g) * 0.01\n",
    "b2 = torch.randn(vocab_size,                       generator=g) * 0.0\n",
    "parameters = [C, W1, b1, W2, b2]\n",
    "\n",
    "for p in parameters:\n",
    "    p.requires_grad = True\n",
    "\n",
    "sum(p.nelement() for p in parameters) # total number of parameters"
   ]
  },
  {
   "cell_type": "code",
   "execution_count": 28,
   "id": "0d8860c6-c2fc-4328-ab81-aa8960e570a5",
   "metadata": {},
   "outputs": [],
   "source": [
    "max_steps = 200000\n",
    "batch_size = 32"
   ]
  },
  {
   "cell_type": "code",
   "execution_count": 29,
   "id": "0d20df2c-d9d5-4676-b4ef-da3918b2e906",
   "metadata": {},
   "outputs": [],
   "source": [
    "lossi = []\n",
    "losslog10i = []\n",
    "stepsi = []"
   ]
  },
  {
   "cell_type": "code",
   "execution_count": 30,
   "id": "ddbe1709-6274-4cc5-86f0-cd6b5d1c400e",
   "metadata": {},
   "outputs": [
    {
     "name": "stdout",
     "output_type": "stream",
     "text": [
      "Loss 0/200000: 3.32205867767334\n",
      "Loss 20000/200000: 2.4195706844329834\n",
      "Loss 40000/200000: 2.0601015090942383\n",
      "Loss 60000/200000: 2.3902440071105957\n",
      "Loss 80000/200000: 2.336879253387451\n",
      "Loss 100000/200000: 1.8328931331634521\n",
      "Loss 120000/200000: 1.8539730310440063\n",
      "Loss 140000/200000: 2.1878631114959717\n",
      "Loss 160000/200000: 1.8955609798431396\n",
      "Loss 180000/200000: 2.0325779914855957\n"
     ]
    }
   ],
   "source": [
    "tot_steps = len(stepsi)\n",
    "\n",
    "for i in range(max_steps):\n",
    "    ix = torch.randint(0, Xtr.shape[0], (batch_size,), generator=g)\n",
    "    Xb, Yb = Xtr[ix], Ytr[ix] # batch X, Y\n",
    "    \n",
    "    # forward pass\n",
    "    emb = C[Xb]                         # embed the characters into vectors\n",
    "    embcat = emb.view(emb.shape[0], -1) # concatenate the vectors\n",
    "    hpreact = embcat @ W1 + b1          # hidden layer pre-activation\n",
    "    h = torch.tanh(hpreact)             # hidden layer\n",
    "    logits = h @ W2 + b2                # output layer\n",
    "    loss = F.cross_entropy(logits, Yb)  # loss function\n",
    "\n",
    "    # backward pass\n",
    "    for p in parameters:\n",
    "        p.grad = None\n",
    "    loss.backward()\n",
    "\n",
    "    # update\n",
    "    lr = 0.1 if i < 100000 else 0.01    # switch learning rate\n",
    "    for p in parameters:\n",
    "        p.data += -lr * p.grad\n",
    "    \n",
    "    # track stats\n",
    "    stepsi.append(tot_steps+i)\n",
    "    lossi.append(loss.item())\n",
    "    losslog10i.append(loss.log10().item())\n",
    "    \n",
    "    # Print loss \n",
    "    if (i)%(max_steps/10) == 0:\n",
    "        print(f\"Loss {i}/{max_steps}: {loss.item()}\")"
   ]
  },
  {
   "cell_type": "code",
   "execution_count": 31,
   "id": "7493128a-7431-4228-ae98-4471a8cf7df1",
   "metadata": {},
   "outputs": [
    {
     "data": {
      "text/plain": [
       "[<matplotlib.lines.Line2D at 0x7ff73067b700>]"
      ]
     },
     "execution_count": 31,
     "metadata": {},
     "output_type": "execute_result"
    },
    {
     "data": {
      "image/png": "[encoded data removed]",
      "text/plain": [
       "<Figure size 640x480 with 1 Axes>"
      ]
     },
     "metadata": {},
     "output_type": "display_data"
    }
   ],
   "source": [
    "plt.plot(stepsi, losslog10i)"
   ]
  },
  {
   "cell_type": "code",
   "execution_count": 32,
   "id": "3699377d-24ff-42d4-9354-bf0824c21b85",
   "metadata": {},
   "outputs": [],
   "source": [
    "# you can see that the training started at a much stable/expected loss\n",
    "# LOSS Curve DOES NOT look like hockey stick either\n",
    "# right in the beginning, the logits are being squashed immediately, and then being rearranged\n",
    "# we don't get easy gains in the beginning, instead we can use the compute to focus on the hard gain\n",
    "# think of it as letting the NN start from a better place"
   ]
  },
  {
   "cell_type": "code",
   "execution_count": 33,
   "id": "b13aa917-91f7-4841-af48-a0b2cb3a2a3e",
   "metadata": {},
   "outputs": [
    {
     "name": "stdout",
     "output_type": "stream",
     "text": [
      "train loss : 2.069589138031006\n",
      "val loss : 2.1310744285583496\n"
     ]
    }
   ],
   "source": [
    "@torch.no_grad() # this decorator disables gradient tracking, can also the context manager instead\n",
    "def split_loss(split):\n",
    "    ds = {\n",
    "        'train': (Xtr, Ytr),\n",
    "        'val':   (Xva, Yva),\n",
    "        'test':  (Xte, Yte),\n",
    "    }\n",
    "    x,y = ds[split]\n",
    "    emb = C[x]\n",
    "    embcat = emb.view(emb.shape[0], -1)\n",
    "    h = torch.tanh(embcat @ W1 + b1)\n",
    "    logits = h @ W2 + b2\n",
    "    loss = F.cross_entropy(logits, y)\n",
    "    print(f'{split} loss : {loss.item()}')\n",
    "\n",
    "split_loss('train')\n",
    "split_loss('val')"
   ]
  },
  {
   "cell_type": "code",
   "execution_count": 34,
   "id": "2aaf13f6-fa34-4162-a60f-ced92e10068f",
   "metadata": {},
   "outputs": [],
   "source": [
    "# And the losses have improved quite a bit\n",
    "# already much better than previous nb if you go back and compare\n",
    "\n",
    "# We are spending more cycles optimizing the NN actually\n",
    "# instead of spending lots of iterations just squashing the randomness in logits(via weights and biases) down to be around zero"
   ]
  },
  {
   "cell_type": "code",
   "execution_count": 35,
   "id": "b6e2fa65-fecd-483e-8b6a-cb09699f115d",
   "metadata": {},
   "outputs": [
    {
     "name": "stdout",
     "output_type": "stream",
     "text": [
      "carman.\n",
      "amille.\n",
      "khyrmyn.\n",
      "reet.\n",
      "khalayane.\n",
      "mahnen.\n",
      "deliah.\n",
      "jareei.\n",
      "nellara.\n",
      "chaiivon.\n"
     ]
    }
   ],
   "source": [
    "g = torch.Generator().manual_seed(2147483647 + 10)\n",
    "\n",
    "for _ in range(10):\n",
    "    out = []\n",
    "    block_size = 3\n",
    "    context = [0] * block_size # initialize all with ...\n",
    "    while True:\n",
    "        # forward pass\n",
    "        emb = C[torch.tensor([context])] # (1, block_size, d)\n",
    "        h = torch.tanh(emb.view(1, -1) @ W1 + b1)\n",
    "        logits = h @ W2 + b2\n",
    "        probs = F.softmax(logits, dim=1) # exponentiates the logits and then softmaxes them, similar to cross entroy no overflows\n",
    "        # sample from the distribution\n",
    "        ix = torch.multinomial(probs, num_samples=1, generator=g).item()\n",
    "        # shift the context window and track the samples\n",
    "        context = context[1:] + [ix]\n",
    "        out.append(ix)\n",
    "        # break if we reach the special token '.'\n",
    "        if ix == 0:\n",
    "            break\n",
    "    \n",
    "    print(''.join(itos[i] for i in out))"
   ]
  }
 ],
 "metadata": {
  "kernelspec": {
   "display_name": "Python 3 (ipykernel)",
   "language": "python",
   "name": "python3"
  },
  "language_info": {
   "codemirror_mode": {
    "name": "ipython",
    "version": 3
   },
   "file_extension": ".py",
   "mimetype": "text/x-python",
   "name": "python",
   "nbconvert_exporter": "python",
   "pygments_lexer": "ipython3",
   "version": "3.10.4"
  }
 },
 "nbformat": 4,
 "nbformat_minor": 5
}
