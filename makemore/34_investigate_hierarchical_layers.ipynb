{
 "cells": [
  {
   "cell_type": "code",
   "execution_count": 1,
   "id": "d9d2ca92-9360-4865-a265-22940227c279",
   "metadata": {},
   "outputs": [],
   "source": [
    "# Given the training loss and val loss from before\n",
    "# train loss : 2.0583250522613525\n",
    "# val loss : 2.1065292358398438\n",
    "#\n",
    "# we can see that the losses are very similar\n",
    "# so we can see that we are not overfitting too much\n",
    "#\n",
    "# so we can try to get better performance by scaling up the size of the NN\n",
    "# bigger and deeper\n",
    "#\n",
    "# the model we are using is a simple 1 hidden layer MLP\n",
    "# we don't have a naive way of making it bigger in a productive way\n",
    "# of course we can make the model deeper\n",
    "# but it doesn't take way from the fact that we are forcing\n",
    "# all our examples to be crammed into the first layer right in the beginning\n",
    "# It's kind silly to squash all that information SO FAST even if we increase the size of the first layer\n",
    "#\n",
    "# What we want our network to look like is Wavenet\n",
    "# In wavenet the inputs are not all crushed directly to one layer\n",
    "# Instead they are crushed lot more slowly\n",
    "# 2 characters are fused in one layers, the next fused the ones from the other 2*2, and so on\n",
    "# dilated causal convolutional layers\n",
    "# the basic idea is progressive fusion\n"
   ]
  },
  {
   "cell_type": "code",
   "execution_count": 2,
   "id": "e1aaf233-a13d-4718-b59b-7b40831cb8f9",
   "metadata": {},
   "outputs": [],
   "source": [
    "import matplotlib.pyplot as plt\n",
    "%matplotlib inline"
   ]
  },
  {
   "cell_type": "code",
   "execution_count": 3,
   "id": "29abc82d-2696-40eb-9efd-80feae9026bc",
   "metadata": {},
   "outputs": [],
   "source": [
    "import torch\n",
    "import torch.nn.functional as F"
   ]
  },
  {
   "cell_type": "code",
   "execution_count": 4,
   "id": "9294abdc-9806-490f-8e38-560d76cce2a9",
   "metadata": {},
   "outputs": [
    {
     "data": {
      "text/plain": [
       "(32033,\n",
       " ['emma', 'olivia', 'ava', 'isabella', 'sophia', 'charlotte', 'mia', 'amelia'])"
      ]
     },
     "execution_count": 4,
     "metadata": {},
     "output_type": "execute_result"
    }
   ],
   "source": [
    "words = open('names.txt').read().splitlines()\n",
    "len(words), words[:8]"
   ]
  },
  {
   "cell_type": "code",
   "execution_count": 5,
   "id": "c464ce16-4980-4b57-b068-ee221f9e77c0",
   "metadata": {},
   "outputs": [
    {
     "name": "stdout",
     "output_type": "stream",
     "text": [
      "27 {1: 'a', 2: 'b', 3: 'c', 4: 'd', 5: 'e', 6: 'f', 7: 'g', 8: 'h', 9: 'i', 10: 'j', 11: 'k', 12: 'l', 13: 'm', 14: 'n', 15: 'o', 16: 'p', 17: 'q', 18: 'r', 19: 's', 20: 't', 21: 'u', 22: 'v', 23: 'w', 24: 'x', 25: 'y', 26: 'z', 0: '.'}\n"
     ]
    }
   ],
   "source": [
    "# let's only have one special token, and let's have it at index 0, offset others by 1\n",
    "chars = sorted(list(set(''.join(words))))\n",
    "stoi = {s:i+1 for i,s in enumerate(chars)}\n",
    "stoi['.'] = 0\n",
    "itos = {i:s for s,i in stoi.items()}\n",
    "num_classes = len(stoi)\n",
    "vocab_size = len(itos)\n",
    "print(vocab_size, itos)"
   ]
  },
  {
   "cell_type": "code",
   "execution_count": 6,
   "id": "bd595fae-6d43-4302-9abf-3332c356c949",
   "metadata": {},
   "outputs": [],
   "source": [
    "def build_dataset(words, block_size):\n",
    "    X, Y, = [], [] # X, input | Y, labels\n",
    "\n",
    "    for w in words:\n",
    "        context = [0] * block_size\n",
    "        for ch in w + '.':\n",
    "            ix = stoi[ch]\n",
    "            X.append(context)\n",
    "            Y.append(ix)\n",
    "            context = context[1:] + [ix] # crop and append moving window\n",
    "\n",
    "    X = torch.tensor(X)\n",
    "    Y = torch.tensor(Y)    \n",
    "    return X, Y"
   ]
  },
  {
   "cell_type": "code",
   "execution_count": 7,
   "id": "cc3a2fed-ca81-4339-8878-80e4b7086740",
   "metadata": {},
   "outputs": [
    {
     "data": {
      "text/plain": [
       "(torch.Size([182625, 8]),\n",
       " torch.Size([182625]),\n",
       " torch.Size([22655, 8]),\n",
       " torch.Size([22655]),\n",
       " torch.Size([22866, 8]),\n",
       " torch.Size([22866]))"
      ]
     },
     "execution_count": 7,
     "metadata": {},
     "output_type": "execute_result"
    }
   ],
   "source": [
    "# Splits\n",
    "import random\n",
    "random.seed(42)\n",
    "random.shuffle(words)\n",
    "\n",
    "n1 = int(0.8*len(words))\n",
    "n2 = int(0.9*len(words))\n",
    "\n",
    "block_size = 8 # context length : How many characters do we take to predict the next one : 3 chars to predict the 4th\n",
    "\n",
    "Xtr, Ytr = build_dataset(words[:n1], block_size)\n",
    "Xva, Yva = build_dataset(words[n1:n2], block_size)\n",
    "Xte, Yte = build_dataset(words[n2:], block_size)\n",
    "\n",
    "Xtr.shape, Ytr.shape, Xva.shape, Yva.shape, Xte.shape, Yte.shape"
   ]
  },
  {
   "cell_type": "code",
   "execution_count": 8,
   "id": "76879026-86df-4e66-9086-647de9c2d511",
   "metadata": {},
   "outputs": [
    {
     "name": "stdout",
     "output_type": "stream",
     "text": [
      "........ ---> y\n",
      ".......y ---> u\n",
      "......yu ---> h\n",
      ".....yuh ---> e\n",
      "....yuhe ---> n\n",
      "...yuhen ---> g\n",
      "..yuheng ---> .\n",
      "........ ---> d\n",
      ".......d ---> i\n",
      "......di ---> o\n",
      ".....dio ---> n\n",
      "....dion ---> d\n",
      "...diond ---> r\n",
      "..diondr ---> e\n",
      ".diondre ---> .\n",
      "........ ---> x\n",
      ".......x ---> a\n",
      "......xa ---> v\n",
      ".....xav ---> i\n",
      "....xavi ---> e\n"
     ]
    }
   ],
   "source": [
    "for x,y in zip(Xtr[:20], Ytr[:20]):\n",
    "    print(''.join(itos[ix.item()] for ix in x), '--->', itos[y.item()])"
   ]
  },
  {
   "cell_type": "code",
   "execution_count": 9,
   "id": "24442015-c3fd-4a24-85b7-04a73691d217",
   "metadata": {},
   "outputs": [],
   "source": [
    "class Linear:\n",
    "    \n",
    "    def __init__(self, fan_in, fan_out, bias=True):\n",
    "        self.weight = torch.randn((fan_in, fan_out)) / fan_in**0.5\n",
    "        self.bias = torch.zeros(fan_out) if bias else None\n",
    "        \n",
    "    def __call__(self, x):\n",
    "        self.out = x @ self.weight\n",
    "        if self.bias is not None:\n",
    "            self.out += self.bias\n",
    "        return self.out\n",
    "    \n",
    "    def parameters(self):\n",
    "        return [self.weight] + ([] if self.bias is None else [self.bias])\n",
    "\n",
    "class BatchNorm1D:\n",
    "    \n",
    "    def __init__(self, dim, eps=1e-5, momentum=0.1):\n",
    "        self.eps = eps\n",
    "        self.momentum = momentum\n",
    "        self.training = True\n",
    "        # learnable parameters\n",
    "        self.gamma = torch.ones(dim)  # gain\n",
    "        self.beta  = torch.zeros(dim) # bias\n",
    "        # buffers (calculated with a running 'momentum update')\n",
    "        self.running_mean = torch.zeros(dim)\n",
    "        self.running_var  = torch.ones(dim)\n",
    "        \n",
    "    def __call__(self, x):\n",
    "        # forward pass\n",
    "        if self.training:\n",
    "            xmean = x.mean(dim=0, keepdim=True)\n",
    "            xvar  = x.var(dim=0, keepdim=True)\n",
    "        else:\n",
    "            xmean = self.running_mean\n",
    "            xvar  = self.running_var\n",
    "        xhat = (x - xmean) / torch.sqrt(xvar + self.eps)\n",
    "        self.out = self.gamma * xhat + self.beta\n",
    "\n",
    "        # updating running buffers\n",
    "        if self.training:\n",
    "            with torch.no_grad():\n",
    "                self.running_mean = (1 - self.momentum) * self.running_mean + self.momentum * xmean\n",
    "                self.running_var  = (1 - self.momentum) * self.running_var + self.momentum * xvar\n",
    "                \n",
    "        return self.out\n",
    "    \n",
    "    def parameters(self):\n",
    "        return [self.gamma, self.beta]\n",
    "\n",
    "class Tanh:\n",
    "    def __call__(self, x):\n",
    "        self.out = torch.tanh(x)\n",
    "        return self.out\n",
    "    \n",
    "    def parameters(self):\n",
    "        return []\n",
    "\n",
    "\n",
    "class Embedding:\n",
    "    def __init__(self, num_embeddings, embeddings_dim):\n",
    "        self.weight = torch.randn((num_embeddings, embeddings_dim))\n",
    "    \n",
    "    def __call__(self, IX):\n",
    "        self.out = self.weight[IX]\n",
    "        return self.out\n",
    "    \n",
    "    def parameters(self):\n",
    "        return [self.weight]\n",
    "    \n",
    "\n",
    "class Flatten:\n",
    "    def __call__(self, x):\n",
    "        self.out = x.view(x.shape[0], -1)\n",
    "        return self.out\n",
    "    \n",
    "    def parameters(self):\n",
    "        return []\n",
    "\n",
    "class Sequential:\n",
    "    def __init__(self, layers):\n",
    "        self.layers = layers\n",
    "    \n",
    "    def __call__(self, x):\n",
    "        for layer in self.layers:\n",
    "            x = layer(x)\n",
    "        self.out = x\n",
    "        return self.out\n",
    "    \n",
    "    def parameters(self):\n",
    "        return [p for layer in self.layers for p in layer.parameters()]"
   ]
  },
  {
   "cell_type": "code",
   "execution_count": 10,
   "id": "ea01c1ee-4219-49e1-81b9-27b45c211c4b",
   "metadata": {},
   "outputs": [],
   "source": [
    "torch.manual_seed(42);"
   ]
  },
  {
   "cell_type": "code",
   "execution_count": 11,
   "id": "c4547f6f-a22c-48d0-b9fa-31f738a1e03d",
   "metadata": {},
   "outputs": [
    {
     "name": "stdout",
     "output_type": "stream",
     "text": [
      "22097\n"
     ]
    }
   ],
   "source": [
    "n_embed = 10   # dimensionality of characters in the embedding vector\n",
    "n_hidden = 200 # number of neurons in the hidden layer\n",
    "\n",
    "# stack up the layers\n",
    "model = Sequential([\n",
    "    Embedding(vocab_size, n_embed),\n",
    "    Flatten(),\n",
    "    Linear(n_embed * block_size, n_hidden, bias=False), BatchNorm1D(n_hidden), Tanh(),\n",
    "    Linear(n_hidden, vocab_size),\n",
    "])\n",
    "\n",
    "# initialisation\n",
    "with torch.no_grad():\n",
    "    # make last layer less confident\n",
    "    model.layers[-1].weight *= 0.1\n",
    "\n",
    "# prepare parameters, no need to check for C and the concat\n",
    "parameters = model.parameters()\n",
    "print(sum(p.nelement() for p in parameters))\n",
    "\n",
    "for p in parameters:\n",
    "    p.requires_grad = True"
   ]
  },
  {
   "cell_type": "code",
   "execution_count": 12,
   "id": "14799a69-f5e6-4ef7-a48e-8c1b059eea80",
   "metadata": {},
   "outputs": [
    {
     "name": "stdout",
     "output_type": "stream",
     "text": [
      "torch.Size([4, 8])\n"
     ]
    },
    {
     "data": {
      "text/plain": [
       "tensor([[ 0,  0,  0,  0,  0,  0, 12, 15],\n",
       "        [ 0,  0,  0,  0,  0,  0, 20,  1],\n",
       "        [ 0,  0,  0,  0,  0,  0,  0,  0],\n",
       "        [ 0,  0,  0,  0,  0,  0,  0, 11]])"
      ]
     },
     "execution_count": 12,
     "metadata": {},
     "output_type": "execute_result"
    }
   ],
   "source": [
    "# Let's look at a batch of just 4 examples\n",
    "ix = torch.randint(0, Xtr.shape[0], (4,))\n",
    "Xb, Yb = Xtr[ix], Ytr[ix]\n",
    "logits = model(Xb)\n",
    "print(Xb.shape)\n",
    "Xb"
   ]
  },
  {
   "cell_type": "code",
   "execution_count": 13,
   "id": "fadb08cd-64ce-42e6-8c88-13fcfe31bea4",
   "metadata": {},
   "outputs": [
    {
     "data": {
      "text/plain": [
       "torch.Size([4, 8, 10])"
      ]
     },
     "execution_count": 13,
     "metadata": {},
     "output_type": "execute_result"
    }
   ],
   "source": [
    "model.layers[0].out.shape # Embedding layer out shape, remember the embedding vector is 10 dims"
   ]
  },
  {
   "cell_type": "code",
   "execution_count": 14,
   "id": "99d8acd6-7973-4973-850b-354a617a6104",
   "metadata": {},
   "outputs": [
    {
     "data": {
      "text/plain": [
       "torch.Size([4, 80])"
      ]
     },
     "execution_count": 14,
     "metadata": {},
     "output_type": "execute_result"
    }
   ],
   "source": [
    "model.layers[1].out.shape # Flatten layer"
   ]
  },
  {
   "cell_type": "code",
   "execution_count": 15,
   "id": "ea8520eb-c611-4750-bed2-0ef6622fcba2",
   "metadata": {},
   "outputs": [
    {
     "data": {
      "text/plain": [
       "torch.Size([4, 200])"
      ]
     },
     "execution_count": 15,
     "metadata": {},
     "output_type": "execute_result"
    }
   ],
   "source": [
    "model.layers[2].out.shape # Linear layer"
   ]
  },
  {
   "cell_type": "code",
   "execution_count": 16,
   "id": "2f9604a7-69ef-4386-aef2-6faa70650685",
   "metadata": {},
   "outputs": [
    {
     "data": {
      "text/plain": [
       "torch.Size([4, 200])"
      ]
     },
     "execution_count": 16,
     "metadata": {},
     "output_type": "execute_result"
    }
   ],
   "source": [
    "# what's happening\n",
    "(torch.randn((4, 80)) @ torch.randn((80, 200)) + torch.randn(200)).shape"
   ]
  },
  {
   "cell_type": "code",
   "execution_count": 17,
   "id": "3ccabb1a-dadb-40a4-aef7-5b3b09cfa558",
   "metadata": {},
   "outputs": [
    {
     "data": {
      "text/plain": [
       "torch.Size([20, 30, 40, 4, 200])"
      ]
     },
     "execution_count": 17,
     "metadata": {},
     "output_type": "execute_result"
    }
   ],
   "source": [
    "# pytorch matmul works only on last dimension, everything before is left untouched, pretty neat\n",
    "(torch.randn((20, 30, 40, 4, 80)) @ torch.randn((80, 200)) + torch.randn(200)).shape"
   ]
  },
  {
   "cell_type": "code",
   "execution_count": 18,
   "id": "09070839-38b7-461c-8f9a-ec84bdc73911",
   "metadata": {},
   "outputs": [
    {
     "data": {
      "text/plain": [
       "torch.Size([4, 4, 200])"
      ]
     },
     "execution_count": 18,
     "metadata": {},
     "output_type": "execute_result"
    }
   ],
   "source": [
    "# more tricks lets fuse two characters ( 4 groups of 2 chars, each of them 10 dimensional vector)\n",
    "(torch.randn((4, 4, 20)) @ torch.randn((20, 200)) + torch.randn(200)).shape"
   ]
  },
  {
   "cell_type": "code",
   "execution_count": 19,
   "id": "2b41b77b-f58f-498e-bb97-70bd634d83e7",
   "metadata": {},
   "outputs": [],
   "source": [
    "# Before\n",
    "# (1, 2, 3, 4, 5, 6, 7, 8)\n",
    "\n",
    "# After\n",
    "# ((1, 2), (3, 4), (5, 6), (7, 8))"
   ]
  },
  {
   "cell_type": "code",
   "execution_count": 20,
   "id": "9ef0c30b-8fd3-433f-85fb-8d8f906bf645",
   "metadata": {},
   "outputs": [],
   "source": [
    "# Lets see how to implement this"
   ]
  },
  {
   "cell_type": "code",
   "execution_count": 21,
   "id": "4474cbc4-e4fd-46e4-b267-32dece475f22",
   "metadata": {},
   "outputs": [
    {
     "data": {
      "text/plain": [
       "(torch.Size([4, 8, 10]), torch.Size([4, 80]))"
      ]
     },
     "execution_count": 21,
     "metadata": {},
     "output_type": "execute_result"
    }
   ],
   "source": [
    "# Right now our input to the flatten layer is (4, 8, 10) - straight out of embedding layer\n",
    "e = torch.randn((4, 8, 10))\n",
    "e.shape, e.view(e.shape[0], -1).shape"
   ]
  },
  {
   "cell_type": "code",
   "execution_count": 22,
   "id": "5db2be2e-e512-46a4-9754-107372b98f01",
   "metadata": {},
   "outputs": [
    {
     "data": {
      "text/plain": [
       "([0, 1, 2, 3, 4, 5, 6, 7, 8, 9], [0, 2, 4, 6, 8], [1, 3, 5, 7, 9])"
      ]
     },
     "execution_count": 22,
     "metadata": {},
     "output_type": "execute_result"
    }
   ],
   "source": [
    "# In python we can pull out even odd from lists\n",
    "list(range(10)), list(range(10))[::2], list(range(10))[1::2]"
   ]
  },
  {
   "cell_type": "code",
   "execution_count": 23,
   "id": "621501aa-728a-4ff3-84df-5413ae5fde71",
   "metadata": {},
   "outputs": [
    {
     "data": {
      "text/plain": [
       "(torch.Size([4, 4, 10]), torch.Size([4, 4, 10]), torch.Size([4, 4, 20]))"
      ]
     },
     "execution_count": 23,
     "metadata": {},
     "output_type": "execute_result"
    }
   ],
   "source": [
    "e = torch.randn((4, 8, 10))\n",
    "e[:, ::2, :].shape, e[:, 1::2, :].shape, torch.cat([e[:, ::2, :], e[:, 1::2, :]], dim=2).shape"
   ]
  },
  {
   "cell_type": "code",
   "execution_count": 24,
   "id": "6a40438b-23a0-44f7-bcb7-8959f236810b",
   "metadata": {},
   "outputs": [
    {
     "data": {
      "text/plain": [
       "tensor(True)"
      ]
     },
     "execution_count": 24,
     "metadata": {},
     "output_type": "execute_result"
    }
   ],
   "source": [
    "(e.view(4, 4, 20) == torch.cat([e[:, ::2, :], e[:, 1::2, :]], dim=2)).all()"
   ]
  },
  {
   "cell_type": "code",
   "execution_count": 25,
   "id": "a94a0e16-259f-40af-abf2-b5c247069129",
   "metadata": {},
   "outputs": [],
   "source": [
    "# Lets implement all this in flatten"
   ]
  },
  {
   "cell_type": "code",
   "execution_count": 26,
   "id": "a08f34c3-9254-45fb-9fa8-55f3da67afd2",
   "metadata": {},
   "outputs": [],
   "source": [
    "class FlattenConsecutive:\n",
    "    def __init__(self, n):\n",
    "        self.n = n\n",
    "        \n",
    "    def __call__(self, x):\n",
    "        B, T, C = x.shape # batch,  ....., embedding\n",
    "        x = x.view(B, T//self.n, C*self.n)\n",
    "        if x.shape[1] == 1:  # squeeze out spurious dimension\n",
    "            x = x.squeeze(1)\n",
    "        self.out = x\n",
    "        return self.out\n",
    "    \n",
    "    def parameters(self):\n",
    "        return []"
   ]
  },
  {
   "cell_type": "code",
   "execution_count": 27,
   "id": "7a651dc1-bb0a-4cd2-93bf-c5d0b8850983",
   "metadata": {},
   "outputs": [],
   "source": [
    "# Use the new layer"
   ]
  },
  {
   "cell_type": "code",
   "execution_count": 28,
   "id": "de3472ec-2deb-498c-8fe6-0ea94fda736c",
   "metadata": {},
   "outputs": [
    {
     "name": "stdout",
     "output_type": "stream",
     "text": [
      "22097\n"
     ]
    }
   ],
   "source": [
    "n_embed = 10   # dimensionality of characters in the embedding vector\n",
    "n_hidden = 200 # number of neurons in the hidden layer\n",
    "\n",
    "# stack up the layers\n",
    "model = Sequential([\n",
    "    Embedding(vocab_size, n_embed),\n",
    "    FlattenConsecutive(block_size),\n",
    "    Linear(n_embed * block_size, n_hidden, bias=False), BatchNorm1D(n_hidden), Tanh(),\n",
    "    Linear(n_hidden, vocab_size),\n",
    "])\n",
    "\n",
    "# initialisation\n",
    "with torch.no_grad():\n",
    "    # make last layer less confident\n",
    "    model.layers[-1].weight *= 0.1\n",
    "\n",
    "# prepare parameters, no need to check for C and the concat\n",
    "parameters = model.parameters()\n",
    "print(sum(p.nelement() for p in parameters))\n",
    "\n",
    "for p in parameters:\n",
    "    p.requires_grad = True"
   ]
  },
  {
   "cell_type": "code",
   "execution_count": 29,
   "id": "11d3c82c-085c-4797-8107-4352c83bfd1b",
   "metadata": {},
   "outputs": [
    {
     "name": "stdout",
     "output_type": "stream",
     "text": [
      "torch.Size([4, 8])\n"
     ]
    },
    {
     "data": {
      "text/plain": [
       "tensor([[ 0,  0,  0,  0,  0,  0,  0,  0],\n",
       "        [ 0,  0,  0, 10,  1, 11, 15, 18],\n",
       "        [ 0,  0,  0,  0,  0,  0,  0,  0],\n",
       "        [ 0,  0,  0,  0,  0, 13,  1, 11]])"
      ]
     },
     "execution_count": 29,
     "metadata": {},
     "output_type": "execute_result"
    }
   ],
   "source": [
    "# Let's look at a batch of just 4 examples\n",
    "ix = torch.randint(0, Xtr.shape[0], (4,))\n",
    "Xb, Yb = Xtr[ix], Ytr[ix]\n",
    "logits = model(Xb)\n",
    "print(Xb.shape)\n",
    "Xb"
   ]
  },
  {
   "cell_type": "code",
   "execution_count": 30,
   "id": "a5737455-533c-474b-a397-2dcee5402fc9",
   "metadata": {},
   "outputs": [
    {
     "name": "stdout",
     "output_type": "stream",
     "text": [
      "Embedding : (4, 8, 10)\n",
      "FlattenConsecutive : (4, 80)\n",
      "Linear : (4, 200)\n",
      "BatchNorm1D : (4, 200)\n",
      "Tanh : (4, 200)\n",
      "Linear : (4, 27)\n"
     ]
    }
   ],
   "source": [
    "for layer in model.layers:\n",
    "    print(layer.__class__.__name__, ':', tuple(layer.out.shape))"
   ]
  },
  {
   "cell_type": "code",
   "execution_count": 31,
   "id": "86811211-76a1-4358-954f-60ab89ad4dc2",
   "metadata": {},
   "outputs": [],
   "source": [
    "# Time to try this with new shape of flattening"
   ]
  },
  {
   "cell_type": "code",
   "execution_count": 32,
   "id": "83b4cb6e-3769-4452-a350-0ad971601aa8",
   "metadata": {},
   "outputs": [
    {
     "name": "stdout",
     "output_type": "stream",
     "text": [
      "10097\n"
     ]
    }
   ],
   "source": [
    "n_embed = 10   # dimensionality of characters in the embedding vector\n",
    "n_hidden = 200 # number of neurons in the hidden layer\n",
    "\n",
    "# stack up the layers\n",
    "model = Sequential([\n",
    "    Embedding(vocab_size, n_embed),\n",
    "    FlattenConsecutive(2), Linear(n_embed * 2, n_hidden, bias=False), BatchNorm1D(n_hidden), Tanh(),\n",
    "    Linear(n_hidden, vocab_size),\n",
    "])\n",
    "\n",
    "# initialisation\n",
    "with torch.no_grad():\n",
    "    # make last layer less confident\n",
    "    model.layers[-1].weight *= 0.1\n",
    "\n",
    "# prepare parameters, no need to check for C and the concat\n",
    "parameters = model.parameters()\n",
    "print(sum(p.nelement() for p in parameters))\n",
    "\n",
    "for p in parameters:\n",
    "    p.requires_grad = True"
   ]
  },
  {
   "cell_type": "code",
   "execution_count": 33,
   "id": "63b6225c-8d4d-48d6-8937-558c8aee2859",
   "metadata": {},
   "outputs": [
    {
     "name": "stdout",
     "output_type": "stream",
     "text": [
      "torch.Size([4, 8])\n"
     ]
    },
    {
     "data": {
      "text/plain": [
       "tensor([[ 0,  0,  0,  0,  0,  0, 13,  9],\n",
       "        [ 0,  0,  0, 19, 21, 18,  9, 14],\n",
       "        [ 0,  0,  0,  0,  0,  0,  0,  0],\n",
       "        [ 0,  0,  0,  0,  0,  0,  0,  0]])"
      ]
     },
     "execution_count": 33,
     "metadata": {},
     "output_type": "execute_result"
    }
   ],
   "source": [
    "# Let's look at a batch of just 4 examples\n",
    "ix = torch.randint(0, Xtr.shape[0], (4,))\n",
    "Xb, Yb = Xtr[ix], Ytr[ix]\n",
    "logits = model(Xb)\n",
    "print(Xb.shape)\n",
    "Xb"
   ]
  },
  {
   "cell_type": "code",
   "execution_count": 34,
   "id": "1715fbcd-1524-4173-b9a9-49fcc6263b2e",
   "metadata": {},
   "outputs": [
    {
     "name": "stdout",
     "output_type": "stream",
     "text": [
      "Embedding : (4, 8, 10)\n",
      "FlattenConsecutive : (4, 4, 20)\n",
      "Linear : (4, 4, 200)\n",
      "BatchNorm1D : (4, 4, 200)\n",
      "Tanh : (4, 4, 200)\n",
      "Linear : (4, 4, 27)\n"
     ]
    }
   ],
   "source": [
    "for layer in model.layers:\n",
    "    print(layer.__class__.__name__, ':', tuple(layer.out.shape))"
   ]
  },
  {
   "cell_type": "code",
   "execution_count": 35,
   "id": "2d1ab3a4-9428-4647-9705-47114e17760c",
   "metadata": {},
   "outputs": [],
   "source": [
    "# That's looking good, not let's layer up the flattens and linears to get that wavenet like shape"
   ]
  },
  {
   "cell_type": "code",
   "execution_count": 36,
   "id": "2de680de-2545-48d5-a627-6847f6143661",
   "metadata": {},
   "outputs": [
    {
     "name": "stdout",
     "output_type": "stream",
     "text": [
      "170897\n"
     ]
    }
   ],
   "source": [
    "n_embed = 10   # dimensionality of characters in the embedding vector\n",
    "n_hidden = 200  # number of neurons in the hidden layer\n",
    "\n",
    "# stack up the layers\n",
    "model = Sequential([\n",
    "    Embedding(vocab_size, n_embed),\n",
    "    FlattenConsecutive(2), Linear(n_embed * 2, n_hidden, bias=False), BatchNorm1D(n_hidden), Tanh(),\n",
    "    FlattenConsecutive(2), Linear(n_hidden * 2, n_hidden, bias=False), BatchNorm1D(n_hidden), Tanh(),\n",
    "    FlattenConsecutive(2), Linear(n_hidden * 2, n_hidden, bias=False), BatchNorm1D(n_hidden), Tanh(),\n",
    "    Linear(n_hidden, vocab_size),\n",
    "])\n",
    "\n",
    "# initialisation\n",
    "with torch.no_grad():\n",
    "    # make last layer less confident\n",
    "    model.layers[-1].weight *= 0.1\n",
    "\n",
    "# prepare parameters, no need to check for C and the concat\n",
    "parameters = model.parameters()\n",
    "print(sum(p.nelement() for p in parameters))\n",
    "\n",
    "for p in parameters:\n",
    "    p.requires_grad = True"
   ]
  },
  {
   "cell_type": "code",
   "execution_count": 37,
   "id": "a84f99b6-b3fa-4f3d-a0b4-61cb8726330b",
   "metadata": {},
   "outputs": [
    {
     "name": "stdout",
     "output_type": "stream",
     "text": [
      "torch.Size([4, 8])\n"
     ]
    },
    {
     "data": {
      "text/plain": [
       "tensor([[ 0,  0,  0,  0,  0,  0,  0,  0],\n",
       "        [ 0,  0,  0, 26,  9,  4,  1, 14],\n",
       "        [ 0,  0,  0, 18,  1,  6,  9,  4],\n",
       "        [ 0,  0,  0,  0,  0,  0,  0,  0]])"
      ]
     },
     "execution_count": 37,
     "metadata": {},
     "output_type": "execute_result"
    }
   ],
   "source": [
    "# Let's look at a batch of just 4 examples\n",
    "ix = torch.randint(0, Xtr.shape[0], (4,))\n",
    "Xb, Yb = Xtr[ix], Ytr[ix]\n",
    "logits = model(Xb)\n",
    "print(Xb.shape)\n",
    "Xb"
   ]
  },
  {
   "cell_type": "code",
   "execution_count": 38,
   "id": "dde8d7af-f3b2-46e1-9ee5-dfd4b0b52359",
   "metadata": {},
   "outputs": [
    {
     "name": "stdout",
     "output_type": "stream",
     "text": [
      "Embedding : (4, 8, 10)\n",
      "FlattenConsecutive : (4, 4, 20)\n",
      "Linear : (4, 4, 200)\n",
      "BatchNorm1D : (4, 4, 200)\n",
      "Tanh : (4, 4, 200)\n",
      "FlattenConsecutive : (4, 2, 400)\n",
      "Linear : (4, 2, 200)\n",
      "BatchNorm1D : (4, 2, 200)\n",
      "Tanh : (4, 2, 200)\n",
      "FlattenConsecutive : (4, 400)\n",
      "Linear : (4, 200)\n",
      "BatchNorm1D : (4, 200)\n",
      "Tanh : (4, 200)\n",
      "Linear : (4, 27)\n"
     ]
    }
   ],
   "source": [
    "for layer in model.layers:\n",
    "    print(layer.__class__.__name__, ':', tuple(layer.out.shape))"
   ]
  },
  {
   "cell_type": "code",
   "execution_count": 39,
   "id": "e6115a82-762f-4208-a62b-c792403bb66e",
   "metadata": {},
   "outputs": [],
   "source": [
    "# shapes looks good\n",
    "# lets change the number of hidden layers, so we have same number of parameters as previous model ~22000\n",
    "# will be easier to compare same capacity with different network arch."
   ]
  },
  {
   "cell_type": "code",
   "execution_count": 40,
   "id": "143fd8d4-4cf8-47ff-8923-8874bce110de",
   "metadata": {},
   "outputs": [
    {
     "name": "stdout",
     "output_type": "stream",
     "text": [
      "22397\n"
     ]
    }
   ],
   "source": [
    "n_embed = 10   # dimensionality of characters in the embedding vector\n",
    "n_hidden = 68  # number of neurons in the hidden layer\n",
    "\n",
    "# stack up the layers\n",
    "model = Sequential([\n",
    "    Embedding(vocab_size, n_embed),\n",
    "    FlattenConsecutive(2), Linear(n_embed * 2, n_hidden, bias=False), BatchNorm1D(n_hidden), Tanh(),\n",
    "    FlattenConsecutive(2), Linear(n_hidden * 2, n_hidden, bias=False), BatchNorm1D(n_hidden), Tanh(),\n",
    "    FlattenConsecutive(2), Linear(n_hidden * 2, n_hidden, bias=False), BatchNorm1D(n_hidden), Tanh(),\n",
    "    Linear(n_hidden, vocab_size),\n",
    "])\n",
    "\n",
    "# initialisation\n",
    "with torch.no_grad():\n",
    "    # make last layer less confident\n",
    "    model.layers[-1].weight *= 0.1\n",
    "\n",
    "# prepare parameters, no need to check for C and the concat\n",
    "parameters = model.parameters()\n",
    "print(sum(p.nelement() for p in parameters))\n",
    "\n",
    "for p in parameters:\n",
    "    p.requires_grad = True"
   ]
  },
  {
   "cell_type": "code",
   "execution_count": 41,
   "id": "1994a5ee-5b39-4f23-8113-ffa34dd6dd2a",
   "metadata": {},
   "outputs": [],
   "source": [
    "# the module weights seems to be comparable\n",
    "# lets run it in the next nb"
   ]
  }
 ],
 "metadata": {
  "kernelspec": {
   "display_name": "Python 3 (ipykernel)",
   "language": "python",
   "name": "python3"
  },
  "language_info": {
   "codemirror_mode": {
    "name": "ipython",
    "version": 3
   },
   "file_extension": ".py",
   "mimetype": "text/x-python",
   "name": "python",
   "nbconvert_exporter": "python",
   "pygments_lexer": "ipython3",
   "version": "3.10.4"
  }
 },
 "nbformat": 4,
 "nbformat_minor": 5
}
