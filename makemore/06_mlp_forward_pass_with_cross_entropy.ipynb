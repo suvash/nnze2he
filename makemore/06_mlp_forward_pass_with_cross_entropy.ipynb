{
 "cells": [
  {
   "cell_type": "code",
   "execution_count": 1,
   "id": "6912fe95-e748-434d-8b46-b74948486564",
   "metadata": {},
   "outputs": [],
   "source": [
    "import matplotlib.pyplot as plt\n",
    "%matplotlib inline"
   ]
  },
  {
   "cell_type": "code",
   "execution_count": 2,
   "id": "ac6299d6-c7ae-4032-a0ee-7223bde0bde8",
   "metadata": {},
   "outputs": [],
   "source": [
    "import torch\n",
    "import torch.nn.functional as F"
   ]
  },
  {
   "cell_type": "code",
   "execution_count": 3,
   "id": "84e765f4-b077-4988-8361-53dbc31b4896",
   "metadata": {},
   "outputs": [
    {
     "data": {
      "text/plain": [
       "(32033,\n",
       " ['emma', 'olivia', 'ava', 'isabella', 'sophia', 'charlotte', 'mia', 'amelia'])"
      ]
     },
     "execution_count": 3,
     "metadata": {},
     "output_type": "execute_result"
    }
   ],
   "source": [
    "words = open('names.txt').read().splitlines()\n",
    "len(words), words[:8]"
   ]
  },
  {
   "cell_type": "code",
   "execution_count": 4,
   "id": "749ad72a-9e36-4f63-848f-0d6ddc49600c",
   "metadata": {},
   "outputs": [],
   "source": [
    "# let's only have one special token, and let's have it at index 0, offset others by 1\n",
    "chars = sorted(list(set(''.join(words))))\n",
    "stoi = {s:i+1 for i,s in enumerate(chars)}\n",
    "stoi['.'] = 0\n",
    "itos = {i:s for s,i in stoi.items()}\n",
    "num_classes = len(stoi)"
   ]
  },
  {
   "cell_type": "code",
   "execution_count": 5,
   "id": "7d9ba170-262e-44ca-9683-d9a9a96adb16",
   "metadata": {},
   "outputs": [
    {
     "data": {
      "text/plain": [
       "(torch.Size([32, 3]), torch.int64, torch.Size([32]), torch.int64)"
      ]
     },
     "execution_count": 5,
     "metadata": {},
     "output_type": "execute_result"
    }
   ],
   "source": [
    "# build the dataset (only for N words right now)\n",
    "\n",
    "block_size = 3 # How many characters do we take to predict the next one : 3 chars to predict the 4th\n",
    "X, Y, = [], [] # X, input | Y, labels\n",
    "\n",
    "for w in words[:5]:\n",
    "    context = [0] * block_size\n",
    "    for ch in w + '.':\n",
    "        ix = stoi[ch]\n",
    "        X.append(context)\n",
    "        Y.append(ix)\n",
    "        context = context[1:] + [ix] # crop and append moving window\n",
    "\n",
    "X = torch.tensor(X)\n",
    "Y = torch.tensor(Y)\n",
    "\n",
    "X.shape, X.dtype, Y.shape, Y.dtype"
   ]
  },
  {
   "cell_type": "code",
   "execution_count": 6,
   "id": "52455b1c-8e0f-4a1d-aa4f-0f41e2fe32c6",
   "metadata": {},
   "outputs": [
    {
     "data": {
      "text/plain": [
       "3481"
      ]
     },
     "execution_count": 6,
     "metadata": {},
     "output_type": "execute_result"
    }
   ],
   "source": [
    "g = torch.Generator().manual_seed(2147483647)\n",
    "C = torch.randn((27, 2), generator=g)\n",
    "W1 = torch.randn((3*2, 100), generator=g)\n",
    "b1 = torch.randn(100, generator=g)\n",
    "W2 = torch.randn((100, 27), generator=g)\n",
    "b2 = torch.randn(27, generator=g)\n",
    "parameters = [C, W1, b1, W2, b2]\n",
    "\n",
    "\n",
    "sum(p.nelement() for p in parameters) # total number of parameters"
   ]
  },
  {
   "cell_type": "code",
   "execution_count": 7,
   "id": "54a264c3-072f-4934-b4ad-468947916301",
   "metadata": {},
   "outputs": [
    {
     "data": {
      "text/plain": [
       "tensor(17.7697)"
      ]
     },
     "execution_count": 7,
     "metadata": {},
     "output_type": "execute_result"
    }
   ],
   "source": [
    "emb = C[X] # [32, 3, 2]\n",
    "h = torch.tanh(emb.view(-1, W1.shape[0]) @ W1 + b1) # [32, 100]\n",
    "logits = h @ W2 + b2 # [32, 27]\n",
    "counts = logits.exp()\n",
    "probs = counts / counts.sum(dim=1, keepdims=True)\n",
    "loss = -probs[torch.arange(len(Y)), Y].log().mean()\n",
    "loss"
   ]
  },
  {
   "cell_type": "code",
   "execution_count": 8,
   "id": "c091384d-cd45-45d3-9994-f9f3842bbb4e",
   "metadata": {},
   "outputs": [
    {
     "data": {
      "text/plain": [
       "tensor(17.7697)"
      ]
     },
     "execution_count": 8,
     "metadata": {},
     "output_type": "execute_result"
    }
   ],
   "source": [
    "# BUT WAIT - Time to bring out the Cross Entropy guns\n",
    "F.cross_entropy(logits, Y)"
   ]
  },
  {
   "cell_type": "code",
   "execution_count": 9,
   "id": "5e2173bc-c382-44f7-bdc3-bb11d92b6da6",
   "metadata": {},
   "outputs": [],
   "source": [
    "# So, once you get the logits\n",
    "# JUST use cross entropy loss directly\n",
    "# Don't roll your own\n",
    "# No intermediate tensors when using cross entropy directly\n",
    "# Fused kernels are used\n",
    "# Backward pass is simpler - because backward pass can have simpler expression derived analytically\n",
    "# Another reason is that cross entropy loss is numerically well behaved"
   ]
  },
  {
   "cell_type": "code",
   "execution_count": 10,
   "id": "d752cad9-de61-4473-8966-18d8b428e027",
   "metadata": {},
   "outputs": [
    {
     "data": {
      "text/plain": [
       "(tensor([3.7835e-44, 4.9787e-02, 1.0000e+00, 2.7183e+00]),\n",
       " tensor([9.8091e-45, 1.3213e-02, 2.6539e-01, 7.2140e-01]))"
      ]
     },
     "execution_count": 10,
     "metadata": {},
     "output_type": "execute_result"
    }
   ],
   "source": [
    "logits = torch.tensor([-100, -3, 0, 1])\n",
    "counts = logits.exp()\n",
    "probs = counts / counts.sum()\n",
    "counts, probs"
   ]
  },
  {
   "cell_type": "code",
   "execution_count": 11,
   "id": "04d28a0e-263f-4b5d-a322-aff7c8a4682f",
   "metadata": {},
   "outputs": [],
   "source": [
    "# when logits are large positive numbers, the exp. operation can go up to inf, ruining the probs"
   ]
  },
  {
   "cell_type": "code",
   "execution_count": 12,
   "id": "cf17b176-f063-4df6-91bf-57d83d9fa901",
   "metadata": {},
   "outputs": [
    {
     "data": {
      "text/plain": [
       "(tensor([3.7835e-44, 4.9787e-02, 1.0000e+00,        inf]),\n",
       " tensor([0., 0., 0., nan]))"
      ]
     },
     "execution_count": 12,
     "metadata": {},
     "output_type": "execute_result"
    }
   ],
   "source": [
    "logits = torch.tensor([-100, -3, 0, 100])\n",
    "counts = logits.exp()\n",
    "probs = counts / counts.sum()\n",
    "counts, probs"
   ]
  },
  {
   "cell_type": "code",
   "execution_count": 13,
   "id": "78709df6-2d5f-410f-bff4-c139e06bbb31",
   "metadata": {},
   "outputs": [],
   "source": [
    "# but what if we subtracted the max value from the logits, then we have it stable again\n",
    "# which is what's done in the cross entropy implementation"
   ]
  },
  {
   "cell_type": "code",
   "execution_count": 14,
   "id": "cf106162-0d1e-4084-aa38-2057c57c6be3",
   "metadata": {},
   "outputs": [
    {
     "data": {
      "text/plain": [
       "(tensor([0.0000e+00, 1.4013e-45, 3.7835e-44, 1.0000e+00]),\n",
       " tensor([0.0000e+00, 1.4013e-45, 3.7835e-44, 1.0000e+00]))"
      ]
     },
     "execution_count": 14,
     "metadata": {},
     "output_type": "execute_result"
    }
   ],
   "source": [
    "_logits = torch.tensor([-100, -3, 0, 100])\n",
    "logits = logits - _logits.max()\n",
    "counts = logits.exp()\n",
    "probs = counts / counts.sum()\n",
    "counts, probs"
   ]
  },
  {
   "cell_type": "code",
   "execution_count": 15,
   "id": "f360feea-3860-4345-8e27-e8fb5271d187",
   "metadata": {},
   "outputs": [
    {
     "data": {
      "text/plain": [
       "tensor(100)"
      ]
     },
     "execution_count": 15,
     "metadata": {},
     "output_type": "execute_result"
    }
   ],
   "source": [
    "torch.tensor([-100, -3, 0, 100]).max()"
   ]
  },
  {
   "cell_type": "code",
   "execution_count": 16,
   "id": "43dcda43-ea55-4284-a0a1-e3e5c3031c9a",
   "metadata": {},
   "outputs": [],
   "source": [
    "# REASONS for using cross entropy\n",
    "# Forward pass efficient : fused kernels\n",
    "# Backward pass efficient : simpler expression derived analytically in the implementation\n",
    "# Numerically well behaved (stable)"
   ]
  }
 ],
 "metadata": {
  "kernelspec": {
   "display_name": "Python 3 (ipykernel)",
   "language": "python",
   "name": "python3"
  },
  "language_info": {
   "codemirror_mode": {
    "name": "ipython",
    "version": 3
   },
   "file_extension": ".py",
   "mimetype": "text/x-python",
   "name": "python",
   "nbconvert_exporter": "python",
   "pygments_lexer": "ipython3",
   "version": "3.10.4"
  }
 },
 "nbformat": 4,
 "nbformat_minor": 5
}
