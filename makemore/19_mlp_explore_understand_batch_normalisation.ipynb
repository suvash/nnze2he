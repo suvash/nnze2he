{
 "cells": [
  {
   "cell_type": "code",
   "execution_count": 1,
   "id": "6912fe95-e748-434d-8b46-b74948486564",
   "metadata": {},
   "outputs": [],
   "source": [
    "import matplotlib.pyplot as plt\n",
    "%matplotlib inline"
   ]
  },
  {
   "cell_type": "code",
   "execution_count": 2,
   "id": "ac6299d6-c7ae-4032-a0ee-7223bde0bde8",
   "metadata": {},
   "outputs": [],
   "source": [
    "import torch\n",
    "import torch.nn.functional as F"
   ]
  },
  {
   "cell_type": "code",
   "execution_count": 3,
   "id": "b3922de0-a741-4f97-876d-b544642b206b",
   "metadata": {},
   "outputs": [],
   "source": [
    "# A lot of the initialization does not matter so much anymore because of modern innovations\n",
    "# One of such innovations is batch normalisation\n",
    "# Came out in 2015 from Google\n",
    "# Made it possibly to train deep neural networks quiet reliably\n",
    "# It made the training process JUST WORK"
   ]
  },
  {
   "cell_type": "code",
   "execution_count": 4,
   "id": "84e765f4-b077-4988-8361-53dbc31b4896",
   "metadata": {},
   "outputs": [
    {
     "data": {
      "text/plain": [
       "(32033,\n",
       " ['emma', 'olivia', 'ava', 'isabella', 'sophia', 'charlotte', 'mia', 'amelia'])"
      ]
     },
     "execution_count": 4,
     "metadata": {},
     "output_type": "execute_result"
    }
   ],
   "source": [
    "words = open('names.txt').read().splitlines()\n",
    "len(words), words[:8]"
   ]
  },
  {
   "cell_type": "code",
   "execution_count": 5,
   "id": "749ad72a-9e36-4f63-848f-0d6ddc49600c",
   "metadata": {},
   "outputs": [
    {
     "name": "stdout",
     "output_type": "stream",
     "text": [
      "27 {1: 'a', 2: 'b', 3: 'c', 4: 'd', 5: 'e', 6: 'f', 7: 'g', 8: 'h', 9: 'i', 10: 'j', 11: 'k', 12: 'l', 13: 'm', 14: 'n', 15: 'o', 16: 'p', 17: 'q', 18: 'r', 19: 's', 20: 't', 21: 'u', 22: 'v', 23: 'w', 24: 'x', 25: 'y', 26: 'z', 0: '.'}\n"
     ]
    }
   ],
   "source": [
    "# let's only have one special token, and let's have it at index 0, offset others by 1\n",
    "chars = sorted(list(set(''.join(words))))\n",
    "stoi = {s:i+1 for i,s in enumerate(chars)}\n",
    "stoi['.'] = 0\n",
    "itos = {i:s for s,i in stoi.items()}\n",
    "num_classes = len(stoi)\n",
    "vocab_size = len(itos)\n",
    "print(vocab_size, itos)"
   ]
  },
  {
   "cell_type": "code",
   "execution_count": 6,
   "id": "dc7789bb-f552-4762-be51-aa6c34e612cf",
   "metadata": {},
   "outputs": [],
   "source": [
    "def build_dataset(words, block_size):\n",
    "    X, Y, = [], [] # X, input | Y, labels\n",
    "\n",
    "    for w in words:\n",
    "        context = [0] * block_size\n",
    "        for ch in w + '.':\n",
    "            ix = stoi[ch]\n",
    "            X.append(context)\n",
    "            Y.append(ix)\n",
    "            context = context[1:] + [ix] # crop and append moving window\n",
    "\n",
    "    X = torch.tensor(X)\n",
    "    Y = torch.tensor(Y)    \n",
    "    return X, Y"
   ]
  },
  {
   "cell_type": "code",
   "execution_count": 7,
   "id": "fc34bfb8-2f98-403e-b035-45888b93a7e0",
   "metadata": {},
   "outputs": [
    {
     "data": {
      "text/plain": [
       "(torch.Size([182625, 3]),\n",
       " torch.Size([182625]),\n",
       " torch.Size([22655, 3]),\n",
       " torch.Size([22655]),\n",
       " torch.Size([22866, 3]),\n",
       " torch.Size([22866]))"
      ]
     },
     "execution_count": 7,
     "metadata": {},
     "output_type": "execute_result"
    }
   ],
   "source": [
    "# Splits\n",
    "import random\n",
    "random.seed(42)\n",
    "random.shuffle(words)\n",
    "\n",
    "n1 = int(0.8*len(words))\n",
    "n2 = int(0.9*len(words))\n",
    "\n",
    "block_size = 3 # context length : How many characters do we take to predict the next one : 3 chars to predict the 4th\n",
    "\n",
    "Xtr, Ytr = build_dataset(words[:n1], block_size)\n",
    "Xva, Yva = build_dataset(words[n1:n2], block_size)\n",
    "Xte, Yte = build_dataset(words[n2:], block_size)\n",
    "\n",
    "Xtr.shape, Ytr.shape, Xva.shape, Yva.shape, Xte.shape, Yte.shape"
   ]
  },
  {
   "cell_type": "code",
   "execution_count": 8,
   "id": "d4a0bfd5-a560-45c3-9892-dc414a1a4e2d",
   "metadata": {},
   "outputs": [],
   "source": [
    "# In the training loop below we have the hidden state h pre activations\n",
    "# we don't want hpreact to be way to small -> then the tanh doesn't do anything\n",
    "#                    or to be way to big   -> then the tanh is saturated and no gradients flow back\n",
    "# we want them to be rougly gaussian\n",
    "# the insight from batch norm. paper is\n",
    "# you have the hidden states that you want to be gaussian\n",
    "# so WHY NOT TAKE THE HIDDEN STATES and NORMALISE THEM TO BE GAUSSIAN\n",
    "# YOU CAN JUST DO THAT because normalising the hidden states is perfectly differentiable operation\n",
    "# So let's just do that\n",
    "# In the following training loop we are trying to roughly make hpreact gaussian\n",
    "# Since we want to normalise in the batch\n",
    "# we are going to calculate the mean and std. dev across the batch and then use that to normalize the batch\n",
    "# while calculating the mean we also want to keep the dimension so we can broadcast it\n",
    "# the normalisation ensures that every single neuron and it's firing rate will be unit gaussian across this batch\n",
    "# hence call batch normalisation, since we are normalising the pre non linearities across the whole batch"
   ]
  },
  {
   "cell_type": "code",
   "execution_count": 9,
   "id": "2ad6e7ec-686d-4d03-ab28-1c7878a1d42d",
   "metadata": {},
   "outputs": [],
   "source": [
    "# Now the problem with this is that\n",
    "# we want these to be roughly gaussian but only at init\n",
    "# we don't want them to forced to be gaussian always\n",
    "# we want the neural network to let the distribution move around a bit depending on how it needs to be optimised\n",
    "# we want the backprop to optimize how to move it around\n",
    "\n",
    "# so in addition to the idea of this normalisation, we also need the idea of scale and shift as mentioned in the paper\n",
    "# we take the normalised input, additionally scale them by some gain and and offset by some bias to get final output from the layers\n",
    "# this means we need to add these learnable parameters to the network"
   ]
  },
  {
   "cell_type": "code",
   "execution_count": 10,
   "id": "c3e41bcd-751e-4199-b037-2a6807b933ad",
   "metadata": {},
   "outputs": [
    {
     "data": {
      "text/plain": [
       "12297"
      ]
     },
     "execution_count": 10,
     "metadata": {},
     "output_type": "execute_result"
    }
   ],
   "source": [
    "n_embed = 10   # dimensionality of characters in the embedding vector\n",
    "n_hidden = 200 # number of neurons in the hidden layer\n",
    "\n",
    "g = torch.Generator().manual_seed(2147483647)\n",
    "C = torch.randn((vocab_size, n_embed),             generator=g)\n",
    "W1 = torch.randn((block_size * n_embed, n_hidden), generator=g) * (5/3/(block_size*n_embed)**0.5)\n",
    "b1 = torch.randn(n_hidden,                         generator=g) * 0.01\n",
    "W2 = torch.randn((n_hidden, vocab_size),           generator=g) * 0.01\n",
    "b2 = torch.randn(vocab_size,                       generator=g) * 0\n",
    "\n",
    "bngain = torch.ones((1, n_hidden))  # we want the initial values to affect the hpreact in a nice gaussian\n",
    "bnbias = torch.zeros((1, n_hidden)) # we want the initial values to affect the hpreact in a nice gaussian\n",
    "\n",
    "parameters = [C, W1, b1, W2, b2, bngain, bnbias]\n",
    "\n",
    "for p in parameters:\n",
    "    p.requires_grad = True\n",
    "\n",
    "sum(p.nelement() for p in parameters) # total number of parameters"
   ]
  },
  {
   "cell_type": "code",
   "execution_count": 11,
   "id": "f19813ba-1b9c-408e-87e2-61d193d1963f",
   "metadata": {},
   "outputs": [],
   "source": [
    "max_steps = 200000\n",
    "batch_size = 32"
   ]
  },
  {
   "cell_type": "code",
   "execution_count": 12,
   "id": "a43ee295-62ba-477e-b1c8-8cfb0dac2b41",
   "metadata": {},
   "outputs": [],
   "source": [
    "lossi = []\n",
    "losslog10i = []\n",
    "stepsi = []"
   ]
  },
  {
   "cell_type": "code",
   "execution_count": 13,
   "id": "e7cfa13e-35af-49dc-a8e4-571c4fc3ef2a",
   "metadata": {},
   "outputs": [
    {
     "name": "stdout",
     "output_type": "stream",
     "text": [
      "Loss 0/200000: 3.3146889209747314\n",
      "Loss 20000/200000: 2.3374552726745605\n",
      "Loss 40000/200000: 2.011928081512451\n",
      "Loss 60000/200000: 2.4775009155273438\n",
      "Loss 80000/200000: 2.278811454772949\n",
      "Loss 100000/200000: 1.9473825693130493\n",
      "Loss 120000/200000: 1.9836552143096924\n",
      "Loss 140000/200000: 2.3839313983917236\n",
      "Loss 160000/200000: 1.9733015298843384\n",
      "Loss 180000/200000: 1.9972705841064453\n"
     ]
    }
   ],
   "source": [
    "tot_steps = len(stepsi)\n",
    "\n",
    "for i in range(max_steps):\n",
    "    ix = torch.randint(0, Xtr.shape[0], (batch_size,), generator=g)\n",
    "    Xb, Yb = Xtr[ix], Ytr[ix] # batch X, Y\n",
    "    \n",
    "    # forward pass\n",
    "    emb = C[Xb]                         # embed the characters into vectors\n",
    "    embcat = emb.view(emb.shape[0], -1) # concatenate the vectors\n",
    "    hpreact = embcat @ W1 + b1          # hidden layer pre-activation\n",
    "    hpreact_mean = hpreact.mean(dim=0, keepdim=True)  # hpreact mean\n",
    "    hpreact_std  = hpreact.std(dim=0, keepdim=True)   # hpreact std dev\n",
    "    hpreact = bngain * (hpreact - hpreact_mean)/hpreact_std + bnbias     # normalize hpreact, also scale and shift\n",
    "    \n",
    "    h = torch.tanh(hpreact)             # hidden layer\n",
    "    logits = h @ W2 + b2                # output layer\n",
    "    loss = F.cross_entropy(logits, Yb)  # loss function\n",
    "\n",
    "    # backward pass\n",
    "    for p in parameters:\n",
    "        p.grad = None\n",
    "    loss.backward()\n",
    "\n",
    "    # update\n",
    "    lr = 0.1 if i < 100000 else 0.01    # switch learning rate\n",
    "    for p in parameters:\n",
    "        p.data += -lr * p.grad\n",
    "    \n",
    "    # track stats\n",
    "    stepsi.append(tot_steps+i)\n",
    "    lossi.append(loss.item())\n",
    "    losslog10i.append(loss.log10().item())\n",
    "    \n",
    "    # Print loss \n",
    "    if (i)%(max_steps/10) == 0:\n",
    "        print(f\"Loss {i}/{max_steps}: {loss.item()}\")"
   ]
  },
  {
   "cell_type": "code",
   "execution_count": 14,
   "id": "7493128a-7431-4228-ae98-4471a8cf7df1",
   "metadata": {},
   "outputs": [
    {
     "data": {
      "text/plain": [
       "[<matplotlib.lines.Line2D at 0x7f2201be6f50>]"
      ]
     },
     "execution_count": 14,
     "metadata": {},
     "output_type": "execute_result"
    },
    {
     "data": {
      "image/png": "[encoded data removed]",
      "text/plain": [
       "<Figure size 640x480 with 1 Axes>"
      ]
     },
     "metadata": {},
     "output_type": "display_data"
    }
   ],
   "source": [
    "plt.plot(stepsi, losslog10i)"
   ]
  },
  {
   "cell_type": "code",
   "execution_count": 15,
   "id": "920ba531-9e33-4f00-9a12-9e8529b8a9b6",
   "metadata": {},
   "outputs": [],
   "source": [
    "# Need to do the same thing for test time"
   ]
  },
  {
   "cell_type": "code",
   "execution_count": 16,
   "id": "b13aa917-91f7-4841-af48-a0b2cb3a2a3e",
   "metadata": {},
   "outputs": [
    {
     "name": "stdout",
     "output_type": "stream",
     "text": [
      "train loss : 2.0668270587921143\n",
      "val loss : 2.104844808578491\n"
     ]
    }
   ],
   "source": [
    "@torch.no_grad() # this decorator disables gradient tracking, can also the context manager instead\n",
    "def split_loss(split):\n",
    "    ds = {\n",
    "        'train': (Xtr, Ytr),\n",
    "        'val':   (Xva, Yva),\n",
    "        'test':  (Xte, Yte),\n",
    "    }\n",
    "    x,y = ds[split]\n",
    "    emb = C[x]\n",
    "    embcat = emb.view(emb.shape[0], -1)\n",
    "    hpreact = embcat @ W1 + b1\n",
    "    hpreact_mean = hpreact.mean(dim=0, keepdim=True)\n",
    "    hpreact_std  = hpreact.std(dim=0, keepdim=True)\n",
    "    hpreact = bngain * (hpreact - hpreact_mean)/hpreact_std + bnbias\n",
    "    h = torch.tanh(hpreact)\n",
    "    logits = h @ W2 + b2\n",
    "    loss = F.cross_entropy(logits, y)\n",
    "    print(f'{split} loss : {loss.item()}')\n",
    "\n",
    "split_loss('train')\n",
    "split_loss('val')"
   ]
  },
  {
   "cell_type": "code",
   "execution_count": 17,
   "id": "d8be2a03-36fe-448d-9839-684c695b5b93",
   "metadata": {},
   "outputs": [],
   "source": [
    "# Batch norm is not doing much here, since we have already initialised properly and the network is shallow\n",
    "# but with deeper neural nets, different types of connections, for eg. residual connections\n",
    "# it'll be very difficult to tune the scales of weight matrices so all activations throughout the NN is roughly gaussian\n",
    "# but it'll be very easy to sprinkle batch norm throughout the NN\n",
    "# in particular it's common to look at every single linear layer (or convolutions, linear arithmetic)\n",
    "# and append a batch norm layer right after it to control the scale of these activations that flows out of it the linear/conv. layer\n",
    "# we do this throughout the neural net, and this controls the activations throughout the neural net\n",
    "# we don't have to hand tune the mathematics and significantly stabilizes the training\n",
    "\n",
    "# The stability offered by batch norm COMES AT A TERRIBLE COST\n",
    "# Something terribly strange and unnatural is happening\n",
    "# Used to be that we used one example at a time\n",
    "# Because of efficiency of training we started to use batches of examples, but they were processed in parallel\n",
    "# But now with batch norm, because of norm. in a batch we introduce a coupling across these examples\n",
    "# mathematically in the forward and backward pass\n",
    "# So now, the hpreact and logits are not just a function of one example\n",
    "# but a function of all the other examples that happen to come for a ride in that batch, and they're sample randomly\n",
    "# Depending on what other samples come for a ride, h is going to change suddenly and jitter, if one can imagine sampling diff. examples\n",
    "# because the statistics of mean and std. dev are going to be affected\n",
    "# Jitter for h, jitter for logits\n",
    "# One would assume that this is bug, or undesired, but turns out this actually helps out with the NN training as a side effect\n",
    "# You could think of it as a regularizer based on other examples, sort of like padding with data augmentation\n",
    "\n",
    "# With this second order effect of regularizer, it has becomes harder to remove batch norm. \n",
    "# No one like the property that examples in the property are coupled mathematically and in the forward pass\n",
    "# People have tried to deprecate use of batch norm and move to other norm techniques that do not couple examples with batch\n",
    "# Examples are layer normalisation, instance normalisation, group normalisation and so on\n",
    "\n",
    "# But, batch norm was the first kind of normalisation to be introduced\n",
    "# works extremely well, happened to have this regularization effect, stablized the training\n",
    "# people have tried to move to other techniques, but it's been hard because it just works quiet well\n",
    "# quite effective at controlling activations, their distributions and the reg. effect\n",
    "\n",
    "# Another strange outcomes\n",
    "# Once we've trained a NN we'd like to be able to deploy it somewhere\n",
    "# feed it a single example and get a prediction out from our neural net\n",
    "# but how do we do that when the NN expects batches ??\n",
    "# proposal in the paper\n",
    "# have a step after training that calculates and sets the batch norm mean and std dev a single time over the training set"
   ]
  },
  {
   "cell_type": "code",
   "execution_count": 18,
   "id": "a6afd3ed-e276-4dcb-bae2-326587c2dd47",
   "metadata": {},
   "outputs": [],
   "source": [
    "# calibrate batch norm mean and std dev at the end of training\n",
    "\n",
    "with torch.no_grad():\n",
    "    # pass the training set through\n",
    "    emb = C[Xtr]\n",
    "    embcat = emb.view(emb.shape[0], -1)\n",
    "    hpreact = embcat @ W1 + b1\n",
    "    # calculate the bnmean bnstd\n",
    "    bnmean = hpreact.mean(dim=0, keepdim=True)\n",
    "    bnstd = hpreact.std(dim=0, keepdim=True)"
   ]
  },
  {
   "cell_type": "code",
   "execution_count": 19,
   "id": "668174ca-0343-46dd-aa80-2b67304ca453",
   "metadata": {},
   "outputs": [],
   "source": [
    "# now lets use it at test time"
   ]
  },
  {
   "cell_type": "code",
   "execution_count": 20,
   "id": "a46cc9f2-b893-4623-a34d-01c6cab80baf",
   "metadata": {},
   "outputs": [
    {
     "name": "stdout",
     "output_type": "stream",
     "text": [
      "train loss : 2.0668270587921143\n",
      "val loss : 2.1049270629882812\n"
     ]
    }
   ],
   "source": [
    "@torch.no_grad() # this decorator disables gradient tracking, can also the context manager instead\n",
    "def split_loss(split):\n",
    "    ds = {\n",
    "        'train': (Xtr, Ytr),\n",
    "        'val':   (Xva, Yva),\n",
    "        'test':  (Xte, Yte),\n",
    "    }\n",
    "    x,y = ds[split]\n",
    "    emb = C[x]\n",
    "    embcat = emb.view(emb.shape[0], -1)\n",
    "    hpreact = embcat @ W1 + b1\n",
    "    #hpreact_mean = hpreact.mean(dim=0, keepdim=True)\n",
    "    #hpreact_std  = hpreact.std(dim=0, keepdim=True)\n",
    "    hpreact = bngain * (hpreact - bnmean)/bnstd + bnbias\n",
    "    h = torch.tanh(hpreact)\n",
    "    logits = h @ W2 + b2\n",
    "    loss = F.cross_entropy(logits, y)\n",
    "    print(f'{split} loss : {loss.item()}')\n",
    "\n",
    "split_loss('train')\n",
    "split_loss('val')"
   ]
  },
  {
   "cell_type": "code",
   "execution_count": 21,
   "id": "393de0f7-e7ce-4152-9885-6e0761e58f26",
   "metadata": {},
   "outputs": [],
   "source": [
    "# Which means that now we can forward a single example\n",
    "# because the batch norm mean and std dev are fixed"
   ]
  },
  {
   "cell_type": "code",
   "execution_count": 22,
   "id": "66c4799e-e80d-435a-bbf9-49ca576ffd1f",
   "metadata": {},
   "outputs": [],
   "source": [
    "# Having said that nobody wants to estimate these after the NN training is complete\n",
    "# One more idea introduced by the batch norm paper\n",
    "# we can estimate the mean and std dev in a running manner during training of NN\n",
    "# we estimate on the side while training\n",
    "# let's see what that looks like"
   ]
  },
  {
   "cell_type": "code",
   "execution_count": 23,
   "id": "6bbc1cac-c1d8-4baa-a94d-e7f0424fd784",
   "metadata": {},
   "outputs": [
    {
     "data": {
      "text/plain": [
       "12297"
      ]
     },
     "execution_count": 23,
     "metadata": {},
     "output_type": "execute_result"
    }
   ],
   "source": [
    "n_embed = 10   # dimensionality of characters in the embedding vector\n",
    "n_hidden = 200 # number of neurons in the hidden layer\n",
    "\n",
    "g = torch.Generator().manual_seed(2147483647)\n",
    "C = torch.randn((vocab_size, n_embed),             generator=g)\n",
    "W1 = torch.randn((block_size * n_embed, n_hidden), generator=g) * (5/3/(block_size*n_embed)**0.5)\n",
    "b1 = torch.randn(n_hidden,                         generator=g) * 0.01\n",
    "W2 = torch.randn((n_hidden, vocab_size),           generator=g) * 0.01\n",
    "b2 = torch.randn(vocab_size,                       generator=g) * 0\n",
    "\n",
    "bngain = torch.ones((1, n_hidden))  # we want the initial values to affect the hpreact in a nice gaussian\n",
    "bnbias = torch.zeros((1, n_hidden)) # we want the initial values to affect the hpreact in a nice gaussian\n",
    "\n",
    "bnmean_running = torch.zeros((1, n_hidden)) # the way we init W1 and b1, hpreact will be roughly unit gaussian, mean roughly zero\n",
    "bnstd_running = torch.ones((1, n_hidden))   # std dev roughly one\n",
    "\n",
    "parameters = [C, W1, b1, W2, b2, bngain, bnbias]\n",
    "\n",
    "for p in parameters:\n",
    "    p.requires_grad = True\n",
    "\n",
    "sum(p.nelement() for p in parameters) # total number of parameters"
   ]
  },
  {
   "cell_type": "code",
   "execution_count": 24,
   "id": "043c05c0-a7de-4de7-8121-41c38c693252",
   "metadata": {},
   "outputs": [],
   "source": [
    "max_steps = 200000\n",
    "batch_size = 32"
   ]
  },
  {
   "cell_type": "code",
   "execution_count": 25,
   "id": "94da9bb8-dd99-47d0-bb8b-5297107dfa37",
   "metadata": {},
   "outputs": [],
   "source": [
    "lossi = []\n",
    "losslog10i = []\n",
    "stepsi = []"
   ]
  },
  {
   "cell_type": "code",
   "execution_count": 26,
   "id": "c9d251d4-4f07-4df8-bb2e-06dfa1a7ca43",
   "metadata": {},
   "outputs": [
    {
     "name": "stdout",
     "output_type": "stream",
     "text": [
      "Loss 0/200000: 3.3146889209747314\n",
      "Loss 20000/200000: 2.3374552726745605\n",
      "Loss 40000/200000: 2.011928081512451\n",
      "Loss 60000/200000: 2.4775009155273438\n",
      "Loss 80000/200000: 2.278811454772949\n",
      "Loss 100000/200000: 1.9473825693130493\n",
      "Loss 120000/200000: 1.9836552143096924\n",
      "Loss 140000/200000: 2.3839313983917236\n",
      "Loss 160000/200000: 1.9733015298843384\n",
      "Loss 180000/200000: 1.9972705841064453\n"
     ]
    }
   ],
   "source": [
    "tot_steps = len(stepsi)\n",
    "\n",
    "for i in range(max_steps):\n",
    "    ix = torch.randint(0, Xtr.shape[0], (batch_size,), generator=g)\n",
    "    Xb, Yb = Xtr[ix], Ytr[ix] # batch X, Y\n",
    "    \n",
    "    # forward pass\n",
    "    emb = C[Xb]                         # embed the characters into vectors\n",
    "    embcat = emb.view(emb.shape[0], -1) # concatenate the vectors\n",
    "    hpreact = embcat @ W1 + b1          # hidden layer pre-activation\n",
    "    bnmeani = hpreact.mean(dim=0, keepdim=True)  # bn mean for ith iter        <-----\n",
    "    bnstdi  = hpreact.std(dim=0, keepdim=True)   # bn std  for ith iter        <----- \n",
    "    hpreact = bngain * (hpreact - bnmeani)/bnstdi + bnbias     # normalize hpreact, also scale and shift\n",
    "    \n",
    "    # not a part of gradient optimisation, keeping track of running values\n",
    "    with torch.no_grad():\n",
    "        # mostly what it used to be, a little of where it is headed right now\n",
    "        \n",
    "        bnmean_running = 0.999 * bnmean_running + 0.001 * bnmeani\n",
    "        bnstd_running  = 0.999 * bnstd_running + 0.001 * bnstdi\n",
    "    \n",
    "    h = torch.tanh(hpreact)             # hidden layer\n",
    "    logits = h @ W2 + b2                # output layer\n",
    "    loss = F.cross_entropy(logits, Yb)  # loss function\n",
    "\n",
    "    # backward pass\n",
    "    for p in parameters:\n",
    "        p.grad = None\n",
    "    loss.backward()\n",
    "\n",
    "    # update\n",
    "    lr = 0.1 if i < 100000 else 0.01    # switch learning rate\n",
    "    for p in parameters:\n",
    "        p.data += -lr * p.grad\n",
    "    \n",
    "    # track stats\n",
    "    stepsi.append(tot_steps+i)\n",
    "    lossi.append(loss.item())\n",
    "    losslog10i.append(loss.log10().item())\n",
    "    \n",
    "    # Print loss \n",
    "    if (i)%(max_steps/10) == 0:\n",
    "        print(f\"Loss {i}/{max_steps}: {loss.item()}\")"
   ]
  },
  {
   "cell_type": "code",
   "execution_count": 27,
   "id": "650c0a2c-ea36-4adc-b827-79dbe6890588",
   "metadata": {},
   "outputs": [],
   "source": [
    "# Lets use it at test time"
   ]
  },
  {
   "cell_type": "code",
   "execution_count": 28,
   "id": "7e355d54-67b7-4e48-9763-5654b9f99ee6",
   "metadata": {},
   "outputs": [
    {
     "name": "stdout",
     "output_type": "stream",
     "text": [
      "train loss : 2.06659197807312\n",
      "val loss : 2.1050572395324707\n"
     ]
    }
   ],
   "source": [
    "@torch.no_grad() # this decorator disables gradient tracking, can also the context manager instead\n",
    "def split_loss(split):\n",
    "    ds = {\n",
    "        'train': (Xtr, Ytr),\n",
    "        'val':   (Xva, Yva),\n",
    "        'test':  (Xte, Yte),\n",
    "    }\n",
    "    x,y = ds[split]\n",
    "    emb = C[x]\n",
    "    embcat = emb.view(emb.shape[0], -1)\n",
    "    hpreact = embcat @ W1 + b1\n",
    "    hpreact = bngain * (hpreact - bnmean_running)/bnstd_running + bnbias\n",
    "    h = torch.tanh(hpreact)\n",
    "    logits = h @ W2 + b2\n",
    "    loss = F.cross_entropy(logits, y)\n",
    "    print(f'{split} loss : {loss.item()}')\n",
    "\n",
    "split_loss('train')\n",
    "split_loss('val')"
   ]
  },
  {
   "cell_type": "code",
   "execution_count": 29,
   "id": "c8519731-cfd6-4a9c-b55b-f52390c4638e",
   "metadata": {},
   "outputs": [],
   "source": [
    "# Batch norm discussion more or less done, two more things\n",
    "# epsilon in the batch norm normalize equation is a tiny number that prevent division by zero, in case the variance is exactly zero\n",
    "# second thing we are being a bit wasteful\n",
    "#    hpreact = embcat @ W1 + b1          <------ CHECK THIS BIAS ADDED HERE\n",
    "#    bnmeani = hpreact.mean(dim=0, keepdim=True)\n",
    "#    bnstdi  = hpreact.std(dim=0, keepdim=True)\n",
    "#    hpreact = bngain * (hpreact - bnmeani)/bnstdi + bnbias     <--- BUT SUBTRACTED HERE\n",
    "# those biases are not doing anything\n",
    "# if you look at b1.grad it's going to be zero\n",
    "\n",
    "# Whenver you're using batch normalisation layer\n",
    "# if you have weight layers before (linear or conv)\n",
    "# better off not using bias at all for those layers\n",
    "# its the bnbias that's in charge of the bias instead of the b1\n",
    "# batch norm has it own bias, so there's no need to add bias to the weight layers before a bn layer"
   ]
  },
  {
   "cell_type": "code",
   "execution_count": 30,
   "id": "4b4a7df9-97bd-40a4-8510-0ca65c9df67d",
   "metadata": {},
   "outputs": [
    {
     "data": {
      "text/plain": [
       "12097"
      ]
     },
     "execution_count": 30,
     "metadata": {},
     "output_type": "execute_result"
    }
   ],
   "source": [
    "n_embed = 10   # dimensionality of characters in the embedding vector\n",
    "n_hidden = 200 # number of neurons in the hidden layer\n",
    "\n",
    "g = torch.Generator().manual_seed(2147483647)\n",
    "C = torch.randn((vocab_size, n_embed),             generator=g)\n",
    "W1 = torch.randn((block_size * n_embed, n_hidden), generator=g) * (5/3/(block_size*n_embed)**0.5)\n",
    "# b1 = torch.randn(n_hidden,                         generator=g) * 0.01\n",
    "W2 = torch.randn((n_hidden, vocab_size),           generator=g) * 0.01\n",
    "b2 = torch.randn(vocab_size,                       generator=g) * 0\n",
    "\n",
    "bngain = torch.ones((1, n_hidden))  # we want the initial values to affect the hpreact in a nice gaussian\n",
    "bnbias = torch.zeros((1, n_hidden)) # we want the initial values to affect the hpreact in a nice gaussian\n",
    "\n",
    "bnmean_running = torch.zeros((1, n_hidden)) # the way we init W1 and b1, hpreact will be roughly unit gaussian, mean roughly zero\n",
    "bnstd_running = torch.ones((1, n_hidden))   # std dev roughly one\n",
    "\n",
    "parameters = [C, W1, W2, b2, bngain, bnbias]\n",
    "\n",
    "for p in parameters:\n",
    "    p.requires_grad = True\n",
    "\n",
    "sum(p.nelement() for p in parameters) # total number of parameters"
   ]
  },
  {
   "cell_type": "code",
   "execution_count": 31,
   "id": "6011a112-1803-469e-9dd8-6e310230bc23",
   "metadata": {},
   "outputs": [],
   "source": [
    "max_steps = 200000\n",
    "batch_size = 32"
   ]
  },
  {
   "cell_type": "code",
   "execution_count": 32,
   "id": "799cec60-f545-44ff-a5e0-b766a1e4683c",
   "metadata": {},
   "outputs": [],
   "source": [
    "lossi = []\n",
    "losslog10i = []\n",
    "stepsi = []"
   ]
  },
  {
   "cell_type": "code",
   "execution_count": 33,
   "id": "2ab0ad99-15eb-483b-a649-ef974891352a",
   "metadata": {},
   "outputs": [
    {
     "name": "stdout",
     "output_type": "stream",
     "text": [
      "Loss 0/200000: 3.3238625526428223\n",
      "Loss 20000/200000: 2.567518711090088\n",
      "Loss 40000/200000: 2.2446329593658447\n",
      "Loss 60000/200000: 2.0785391330718994\n",
      "Loss 80000/200000: 2.291823148727417\n",
      "Loss 100000/200000: 2.367293357849121\n",
      "Loss 120000/200000: 1.6413521766662598\n",
      "Loss 140000/200000: 2.2231295108795166\n",
      "Loss 160000/200000: 2.0996553897857666\n",
      "Loss 180000/200000: 2.0198497772216797\n"
     ]
    }
   ],
   "source": [
    "tot_steps = len(stepsi)\n",
    "\n",
    "for i in range(max_steps):\n",
    "    ix = torch.randint(0, Xtr.shape[0], (batch_size,), generator=g)\n",
    "    Xb, Yb = Xtr[ix], Ytr[ix] # batch X, Y\n",
    "    \n",
    "    # forward pass\n",
    "    emb = C[Xb]                         # embed the characters into vectors\n",
    "    embcat = emb.view(emb.shape[0], -1) # concatenate the vectors\n",
    "    hpreact = embcat @ W1 # + b1          # hidden layer pre-activation\n",
    "    bnmeani = hpreact.mean(dim=0, keepdim=True)  # bn mean for ith iter        <-----\n",
    "    bnstdi  = hpreact.std(dim=0, keepdim=True)   # bn std  for ith iter        <----- \n",
    "    hpreact = bngain * (hpreact - bnmeani)/bnstdi + bnbias     # normalize hpreact, also scale and shift\n",
    "    \n",
    "    # not a part of gradient optimisation, keeping track of running values\n",
    "    with torch.no_grad():\n",
    "        # mostly what it used to be, a little of where it is headed right now\n",
    "        \n",
    "        bnmean_running = 0.999 * bnmean_running + 0.001 * bnmeani\n",
    "        bnstd_running  = 0.999 * bnstd_running + 0.001 * bnstdi\n",
    "    \n",
    "    h = torch.tanh(hpreact)             # hidden layer\n",
    "    logits = h @ W2 + b2                # output layer\n",
    "    loss = F.cross_entropy(logits, Yb)  # loss function\n",
    "\n",
    "    # backward pass\n",
    "    for p in parameters:\n",
    "        p.grad = None\n",
    "    loss.backward()\n",
    "\n",
    "    # update\n",
    "    lr = 0.1 if i < 100000 else 0.01    # switch learning rate\n",
    "    for p in parameters:\n",
    "        p.data += -lr * p.grad\n",
    "    \n",
    "    # track stats\n",
    "    stepsi.append(tot_steps+i)\n",
    "    lossi.append(loss.item())\n",
    "    losslog10i.append(loss.log10().item())\n",
    "    \n",
    "    # Print loss \n",
    "    if (i)%(max_steps/10) == 0:\n",
    "        print(f\"Loss {i}/{max_steps}: {loss.item()}\")"
   ]
  },
  {
   "cell_type": "code",
   "execution_count": 34,
   "id": "21b6f39e-e849-47b5-8d41-e40e08b0428b",
   "metadata": {},
   "outputs": [],
   "source": [
    "# Finally ets use it at test time without the bias b1"
   ]
  },
  {
   "cell_type": "code",
   "execution_count": 35,
   "id": "f3cc9294-5d49-4b89-a165-1d549911c4af",
   "metadata": {},
   "outputs": [
    {
     "name": "stdout",
     "output_type": "stream",
     "text": [
      "train loss : 2.0674147605895996\n",
      "val loss : 2.1056840419769287\n"
     ]
    }
   ],
   "source": [
    "@torch.no_grad() # this decorator disables gradient tracking, can also the context manager instead\n",
    "def split_loss(split):\n",
    "    ds = {\n",
    "        'train': (Xtr, Ytr),\n",
    "        'val':   (Xva, Yva),\n",
    "        'test':  (Xte, Yte),\n",
    "    }\n",
    "    x,y = ds[split]\n",
    "    emb = C[x]\n",
    "    embcat = emb.view(emb.shape[0], -1)\n",
    "    hpreact = embcat @ W1 # + b1\n",
    "    hpreact = bngain * (hpreact - bnmean_running)/bnstd_running + bnbias\n",
    "    h = torch.tanh(hpreact)\n",
    "    logits = h @ W2 + b2\n",
    "    loss = F.cross_entropy(logits, y)\n",
    "    print(f'{split} loss : {loss.item()}')\n",
    "\n",
    "split_loss('train')\n",
    "split_loss('val')"
   ]
  },
  {
   "cell_type": "code",
   "execution_count": 36,
   "id": "6e9c7b15-4c1b-4a32-9ec0-7dd212fb73c3",
   "metadata": {},
   "outputs": [],
   "source": [
    "# Let's just sample for fun"
   ]
  },
  {
   "cell_type": "code",
   "execution_count": 37,
   "id": "759443ac-8860-40d8-8c05-7b60f7a2d097",
   "metadata": {},
   "outputs": [
    {
     "name": "stdout",
     "output_type": "stream",
     "text": [
      "carlah.\n",
      "amorie.\n",
      "khi.\n",
      "mri.\n",
      "reity.\n",
      "salaysie.\n",
      "mahnen.\n",
      "delynn.\n",
      "jareei.\n",
      "ner.\n"
     ]
    }
   ],
   "source": [
    "g = torch.Generator().manual_seed(2147483647 + 10)\n",
    "\n",
    "for _ in range(10):\n",
    "    out = []\n",
    "    block_size = 3\n",
    "    context = [0] * block_size # initialize all with ...\n",
    "    while True:\n",
    "        # forward pass\n",
    "        emb = C[torch.tensor([context])] # (1, block_size, d)\n",
    "        embcat = emb.view(1, -1)\n",
    "        hpreact = embcat @ W1\n",
    "        hpreact = bngain * (hpreact - bnmean_running)/bnstd_running + bnbias\n",
    "        h = torch.tanh(hpreact)\n",
    "        logits = h @ W2 + b2\n",
    "        probs = F.softmax(logits, dim=1) # exponentiates the logits and then softmaxes them, similar to cross entroy no overflows\n",
    "        # sample from the distribution\n",
    "        ix = torch.multinomial(probs, num_samples=1, generator=g).item()\n",
    "        # shift the context window and track the samples\n",
    "        context = context[1:] + [ix]\n",
    "        out.append(ix)\n",
    "        # break if we reach the special token '.'\n",
    "        if ix == 0:\n",
    "            break\n",
    "    \n",
    "    print(''.join(itos[i] for i in out))"
   ]
  },
  {
   "cell_type": "code",
   "execution_count": 38,
   "id": "737b67e3-1687-45b2-9797-d4c49196178c",
   "metadata": {},
   "outputs": [],
   "source": [
    "# Note our losses going down with tricks\n",
    "\n",
    "# Train test validation split - in the beginning\n",
    "# Train Loss : 2.2589\n",
    "# Val Loss   : 2.2702\n",
    "\n",
    "# After increasing NN capacity and embedding size\n",
    "# Train Loss : 2.1190\n",
    "# Val Loss   : 2.1711\n",
    "\n",
    "# After fixing init weight bias softmax confidently wrong\n",
    "# Train loss : 2.0695\n",
    "# Val loss   : 2.1310\n",
    "\n",
    "# After fixing tanh saturation\n",
    "# train loss : 2.0355\n",
    "# val loss   : 2.1026\n",
    "\n",
    "# Now, with kaiming init and not using magic numbers for tanh saturation\n",
    "# train loss : 2.0376\n",
    "# val loss   : 2.1069\n",
    "\n",
    "# With batch norm\n",
    "# train loss : 2.0668\n",
    "# val loss   : 2.1048"
   ]
  }
 ],
 "metadata": {
  "kernelspec": {
   "display_name": "Python 3 (ipykernel)",
   "language": "python",
   "name": "python3"
  },
  "language_info": {
   "codemirror_mode": {
    "name": "ipython",
    "version": 3
   },
   "file_extension": ".py",
   "mimetype": "text/x-python",
   "name": "python",
   "nbconvert_exporter": "python",
   "pygments_lexer": "ipython3",
   "version": "3.10.4"
  }
 },
 "nbformat": 4,
 "nbformat_minor": 5
}
