{
 "cells": [
  {
   "cell_type": "code",
   "execution_count": 1,
   "id": "e1aaf233-a13d-4718-b59b-7b40831cb8f9",
   "metadata": {},
   "outputs": [],
   "source": [
    "import matplotlib.pyplot as plt\n",
    "%matplotlib inline"
   ]
  },
  {
   "cell_type": "code",
   "execution_count": 2,
   "id": "29abc82d-2696-40eb-9efd-80feae9026bc",
   "metadata": {},
   "outputs": [],
   "source": [
    "import torch\n",
    "import torch.nn.functional as F"
   ]
  },
  {
   "cell_type": "code",
   "execution_count": 3,
   "id": "9294abdc-9806-490f-8e38-560d76cce2a9",
   "metadata": {},
   "outputs": [
    {
     "data": {
      "text/plain": [
       "(32033,\n",
       " ['emma', 'olivia', 'ava', 'isabella', 'sophia', 'charlotte', 'mia', 'amelia'])"
      ]
     },
     "execution_count": 3,
     "metadata": {},
     "output_type": "execute_result"
    }
   ],
   "source": [
    "words = open('names.txt').read().splitlines()\n",
    "len(words), words[:8]"
   ]
  },
  {
   "cell_type": "code",
   "execution_count": 4,
   "id": "c464ce16-4980-4b57-b068-ee221f9e77c0",
   "metadata": {},
   "outputs": [
    {
     "name": "stdout",
     "output_type": "stream",
     "text": [
      "27 {1: 'a', 2: 'b', 3: 'c', 4: 'd', 5: 'e', 6: 'f', 7: 'g', 8: 'h', 9: 'i', 10: 'j', 11: 'k', 12: 'l', 13: 'm', 14: 'n', 15: 'o', 16: 'p', 17: 'q', 18: 'r', 19: 's', 20: 't', 21: 'u', 22: 'v', 23: 'w', 24: 'x', 25: 'y', 26: 'z', 0: '.'}\n"
     ]
    }
   ],
   "source": [
    "# let's only have one special token, and let's have it at index 0, offset others by 1\n",
    "chars = sorted(list(set(''.join(words))))\n",
    "stoi = {s:i+1 for i,s in enumerate(chars)}\n",
    "stoi['.'] = 0\n",
    "itos = {i:s for s,i in stoi.items()}\n",
    "num_classes = len(stoi)\n",
    "vocab_size = len(itos)\n",
    "print(vocab_size, itos)"
   ]
  },
  {
   "cell_type": "code",
   "execution_count": 5,
   "id": "bd595fae-6d43-4302-9abf-3332c356c949",
   "metadata": {},
   "outputs": [],
   "source": [
    "def build_dataset(words, block_size):\n",
    "    X, Y, = [], [] # X, input | Y, labels\n",
    "\n",
    "    for w in words:\n",
    "        context = [0] * block_size\n",
    "        for ch in w + '.':\n",
    "            ix = stoi[ch]\n",
    "            X.append(context)\n",
    "            Y.append(ix)\n",
    "            context = context[1:] + [ix] # crop and append moving window\n",
    "\n",
    "    X = torch.tensor(X)\n",
    "    Y = torch.tensor(Y)    \n",
    "    return X, Y"
   ]
  },
  {
   "cell_type": "code",
   "execution_count": 6,
   "id": "cc3a2fed-ca81-4339-8878-80e4b7086740",
   "metadata": {},
   "outputs": [
    {
     "data": {
      "text/plain": [
       "(torch.Size([182625, 3]),\n",
       " torch.Size([182625]),\n",
       " torch.Size([22655, 3]),\n",
       " torch.Size([22655]),\n",
       " torch.Size([22866, 3]),\n",
       " torch.Size([22866]))"
      ]
     },
     "execution_count": 6,
     "metadata": {},
     "output_type": "execute_result"
    }
   ],
   "source": [
    "# Splits\n",
    "import random\n",
    "random.seed(42)\n",
    "random.shuffle(words)\n",
    "\n",
    "n1 = int(0.8*len(words))\n",
    "n2 = int(0.9*len(words))\n",
    "\n",
    "block_size = 3 # context length : How many characters do we take to predict the next one : 3 chars to predict the 4th\n",
    "\n",
    "Xtr, Ytr = build_dataset(words[:n1], block_size)\n",
    "Xva, Yva = build_dataset(words[n1:n2], block_size)\n",
    "Xte, Yte = build_dataset(words[n2:], block_size)\n",
    "\n",
    "Xtr.shape, Ytr.shape, Xva.shape, Yva.shape, Xte.shape, Yte.shape"
   ]
  },
  {
   "cell_type": "code",
   "execution_count": 7,
   "id": "76879026-86df-4e66-9086-647de9c2d511",
   "metadata": {},
   "outputs": [
    {
     "name": "stdout",
     "output_type": "stream",
     "text": [
      "... ---> y\n",
      "..y ---> u\n",
      ".yu ---> h\n",
      "yuh ---> e\n",
      "uhe ---> n\n",
      "hen ---> g\n",
      "eng ---> .\n",
      "... ---> d\n",
      "..d ---> i\n",
      ".di ---> o\n",
      "dio ---> n\n",
      "ion ---> d\n",
      "ond ---> r\n",
      "ndr ---> e\n",
      "dre ---> .\n",
      "... ---> x\n",
      "..x ---> a\n",
      ".xa ---> v\n",
      "xav ---> i\n",
      "avi ---> e\n"
     ]
    }
   ],
   "source": [
    "for x,y in zip(Xtr[:20], Ytr[:20]):\n",
    "    print(''.join(itos[ix.item()] for ix in x), '--->', itos[y.item()])"
   ]
  },
  {
   "cell_type": "code",
   "execution_count": 8,
   "id": "0674d7bf-bfed-431c-882c-16f3f5221dd1",
   "metadata": {},
   "outputs": [],
   "source": [
    "class Linear:\n",
    "    \n",
    "    def __init__(self, fan_in, fan_out, bias=True):\n",
    "        self.weight = torch.randn((fan_in, fan_out)) / fan_in**0.5\n",
    "        self.bias = torch.zeros(fan_out) if bias else None\n",
    "        \n",
    "    def __call__(self, x):\n",
    "        self.out = x @ self.weight\n",
    "        if self.bias is not None:\n",
    "            self.out += self.bias\n",
    "        return self.out\n",
    "    \n",
    "    def parameters(self):\n",
    "        return [self.weight] + ([] if self.bias is None else [self.bias])\n",
    "\n",
    "class BatchNorm1D:\n",
    "    \n",
    "    def __init__(self, dim, eps=1e-5, momentum=0.1):\n",
    "        self.eps = eps\n",
    "        self.momentum = momentum\n",
    "        self.training = True\n",
    "        # learnable parameters\n",
    "        self.gamma = torch.ones(dim)  # gain\n",
    "        self.beta  = torch.zeros(dim) # bias\n",
    "        # buffers (calculated with a running 'momentum update')\n",
    "        self.running_mean = torch.zeros(dim)\n",
    "        self.running_var  = torch.ones(dim)\n",
    "        \n",
    "    def __call__(self, x):\n",
    "        # forward pass\n",
    "        if self.training:\n",
    "            xmean = x.mean(dim=0, keepdim=True)\n",
    "            xvar  = x.var(dim=0, keepdim=True)\n",
    "        else:\n",
    "            xmean = self.running_mean\n",
    "            xvar  = self.running_var\n",
    "        xhat = (x - xmean) / torch.sqrt(xvar + self.eps)\n",
    "        self.out = self.gamma * xhat + self.beta\n",
    "\n",
    "        # updating running buffers\n",
    "        if self.training:\n",
    "            with torch.no_grad():\n",
    "                self.running_mean = (1 - self.momentum) * self.running_mean + self.momentum * xmean\n",
    "                self.running_var  = (1 - self.momentum) * self.running_var + self.momentum * xvar\n",
    "                \n",
    "        return self.out\n",
    "    \n",
    "    def parameters(self):\n",
    "        return [self.gamma, self.beta]\n",
    "\n",
    "class Tanh:\n",
    "    def __call__(self, x):\n",
    "        self.out = torch.tanh(x)\n",
    "        return self.out\n",
    "    \n",
    "    def parameters(self):\n",
    "        return []"
   ]
  },
  {
   "cell_type": "code",
   "execution_count": 9,
   "id": "ea01c1ee-4219-49e1-81b9-27b45c211c4b",
   "metadata": {},
   "outputs": [],
   "source": [
    "torch.manual_seed(42);"
   ]
  },
  {
   "cell_type": "code",
   "execution_count": 10,
   "id": "d81a4a2d-5182-4443-878a-6f47250086ed",
   "metadata": {},
   "outputs": [],
   "source": [
    "n_embed = 10   # dimensionality of characters in the embedding vector\n",
    "n_hidden = 200 # number of neurons in the hidden layer\n",
    "\n",
    "C = torch.randn((vocab_size, n_embed)) # embedding matrix\n",
    "\n",
    "# stack up the layers\n",
    "layers = [\n",
    "    Linear(n_embed * block_size, n_hidden, bias=False), BatchNorm1D(n_hidden), Tanh(),\n",
    "    Linear(n_hidden, vocab_size),\n",
    "]"
   ]
  },
  {
   "cell_type": "code",
   "execution_count": 11,
   "id": "09d7b7ab-d6a6-4d0a-aec3-4a12af5af598",
   "metadata": {},
   "outputs": [],
   "source": [
    "# initialisation\n",
    "with torch.no_grad():\n",
    "    # make last layer less confident\n",
    "    layers[-1].weight *= 0.1\n",
    "\n",
    "    # all other layers, apply gain (in prep for tanh)\n",
    "    # for layer in layers[:-1]:\n",
    "    #     if isinstance(layer, Linear):\n",
    "    #         layer.weight *= 5/3"
   ]
  },
  {
   "cell_type": "code",
   "execution_count": 12,
   "id": "ab129127-5d67-4f4e-9dcb-a2518550529a",
   "metadata": {},
   "outputs": [
    {
     "name": "stdout",
     "output_type": "stream",
     "text": [
      "12097\n"
     ]
    }
   ],
   "source": [
    "# prepare parameters\n",
    "parameters = [C] + [p for layer in layers for p in layer.parameters()]\n",
    "print(sum(p.nelement() for p in parameters))\n",
    "\n",
    "for p in parameters:\n",
    "    p.requires_grad = True"
   ]
  },
  {
   "cell_type": "code",
   "execution_count": 13,
   "id": "c91bfffa-1ba9-4222-afe7-1963b2ca715b",
   "metadata": {},
   "outputs": [],
   "source": [
    "max_steps = 200000\n",
    "batch_size = 32"
   ]
  },
  {
   "cell_type": "code",
   "execution_count": 14,
   "id": "10b9b9c5-a3c4-437d-9ceb-51f287fa9f00",
   "metadata": {},
   "outputs": [
    {
     "name": "stdout",
     "output_type": "stream",
     "text": [
      "Loss 0/200000: 3.2966108322143555\n",
      "Loss 20000/200000: 2.41111159324646\n",
      "Loss 40000/200000: 2.3156578540802\n",
      "Loss 60000/200000: 1.9652727842330933\n",
      "Loss 80000/200000: 2.6737937927246094\n",
      "Loss 100000/200000: 2.27299165725708\n",
      "Loss 120000/200000: 2.2890946865081787\n",
      "Loss 140000/200000: 2.173128128051758\n",
      "Loss 160000/200000: 1.7613697052001953\n",
      "Loss 180000/200000: 2.080348014831543\n"
     ]
    }
   ],
   "source": [
    "lossi = []\n",
    "stepsi = []\n",
    "tot_steps = len(stepsi)\n",
    "\n",
    "for i in range(max_steps):\n",
    "    # construct minibatch\n",
    "    ix = torch.randint(0, Xtr.shape[0], (batch_size,))\n",
    "    Xb, Yb = Xtr[ix], Ytr[ix] # batch X, Y\n",
    "    \n",
    "    # forward pass\n",
    "    emb = C[Xb]                    # embed the characters into vectors\n",
    "    x = emb.view(emb.shape[0], -1) # concatenate the vectors\n",
    "    for layer in layers:\n",
    "        x = layer(x)\n",
    "    loss = F.cross_entropy(x, Yb)  # loss function\n",
    "    \n",
    "    # backward pass\n",
    "    for p in parameters:\n",
    "        p.grad = None\n",
    "    loss.backward()\n",
    "    \n",
    "    # update\n",
    "    lr = 0.1 if i < 150000 else 0.01    # switch learning rate\n",
    "    for p in parameters:\n",
    "        p.data += -lr * p.grad\n",
    "\n",
    "    # track stats\n",
    "    stepsi.append(tot_steps+i)\n",
    "    lossi.append(loss.item())\n",
    "    \n",
    "    # Print loss \n",
    "    if (i)%(max_steps/10) == 0:\n",
    "        print(f\"Loss {i}/{max_steps}: {loss.item()}\")"
   ]
  },
  {
   "cell_type": "code",
   "execution_count": 15,
   "id": "4a49a4eb-c88b-4605-bc8b-32009713dc2f",
   "metadata": {},
   "outputs": [
    {
     "data": {
      "text/plain": [
       "[<matplotlib.lines.Line2D at 0x7f1a94e245e0>]"
      ]
     },
     "execution_count": 15,
     "metadata": {},
     "output_type": "execute_result"
    },
    {
     "data": {
      "image/png": "[encoded data removed]",
      "text/plain": [
       "<Figure size 640x480 with 1 Axes>"
      ]
     },
     "metadata": {},
     "output_type": "display_data"
    }
   ],
   "source": [
    "plt.plot(lossi)"
   ]
  },
  {
   "cell_type": "code",
   "execution_count": 16,
   "id": "9ebb6d13-dae0-456f-9b88-2367ff3ff5b3",
   "metadata": {},
   "outputs": [
    {
     "data": {
      "image/png": "[encoded data removed]",
      "text/plain": [
       "<Figure size 640x480 with 1 Axes>"
      ]
     },
     "metadata": {},
     "output_type": "display_data"
    }
   ],
   "source": [
    "# loss is thrashing a lot\n",
    "# bs 32 is very few, so can get lucky or unlucky\n",
    "\n",
    "# Let's fix this thrashing so we can get a better representation fo the loss\n",
    "# let's create a tensor out of the list of floats\n",
    "# view it as rows of 1000 consecutive element\n",
    "# torch.tensor(lossi).view(-1, 1000).shape\n",
    "\n",
    "# we can now get a mean of along the rows to get mean of 1000 consecutive elements\n",
    "# torch.tensor(lossi).view(-1, 1000).mean(1).shape\n",
    "\n",
    "plt.plot(torch.tensor(lossi).view(-1, 1000).mean(1));"
   ]
  },
  {
   "cell_type": "code",
   "execution_count": 17,
   "id": "e78b7114-aebc-4b9d-9a9e-060a78286321",
   "metadata": {},
   "outputs": [],
   "source": [
    "# Set model in eval mode (mostly to be able to use batchnorm)\n",
    "for layer in layers:\n",
    "    layer.training = False"
   ]
  },
  {
   "cell_type": "code",
   "execution_count": 18,
   "id": "f3cc9294-5d49-4b89-a165-1d549911c4af",
   "metadata": {},
   "outputs": [
    {
     "name": "stdout",
     "output_type": "stream",
     "text": [
      "train loss : 2.0583250522613525\n",
      "val loss : 2.1065292358398438\n"
     ]
    }
   ],
   "source": [
    "@torch.no_grad() # this decorator disables gradient tracking, can also the context manager instead\n",
    "def split_loss(split):\n",
    "    ds = {\n",
    "        'train': (Xtr, Ytr),\n",
    "        'val':   (Xva, Yva),\n",
    "        'test':  (Xte, Yte),\n",
    "    }\n",
    "    x,y = ds[split]\n",
    "    emb = C[x]\n",
    "    x = emb.view(emb.shape[0], -1)\n",
    "    for layer in layers:\n",
    "        x = layer(x)\n",
    "    loss = F.cross_entropy(x, y)\n",
    "    print(f'{split} loss : {loss.item()}')\n",
    "\n",
    "split_loss('train')\n",
    "split_loss('val')"
   ]
  },
  {
   "cell_type": "code",
   "execution_count": 19,
   "id": "4e70f8e0-27a4-4a66-95b4-816ce0eae580",
   "metadata": {},
   "outputs": [
    {
     "name": "stdout",
     "output_type": "stream",
     "text": [
      "ivon.\n",
      "fanili.\n",
      "thoommara.\n",
      "kelo.\n",
      "matyn.\n",
      "leandr.\n",
      "aleigh.\n",
      "koldeniah.\n",
      "prus.\n",
      "carleen.\n",
      "jah.\n",
      "jorra.\n",
      "alaya.\n",
      "shonan.\n",
      "vishylaharia.\n",
      "juna.\n",
      "vio.\n",
      "orven.\n",
      "mina.\n",
      "laylee.\n"
     ]
    }
   ],
   "source": [
    "for _ in range(20):\n",
    "    out = []\n",
    "    block_size = 3\n",
    "    context = [0] * block_size # initialize all with ...\n",
    "    while True:\n",
    "        # forward pass\n",
    "        emb = C[torch.tensor([context])] # (1, block_size, d)\n",
    "        x = emb.view(1, -1)\n",
    "        for layer in layers:\n",
    "            x = layer(x)\n",
    "        probs = F.softmax(x, dim=1) # exponentiates the logits and then softmaxes them, similar to cross entroy no overflows\n",
    "        # sample from the distribution\n",
    "        ix = torch.multinomial(probs, num_samples=1).item()\n",
    "        # shift the context window and track the samples\n",
    "        context = context[1:] + [ix]\n",
    "        out.append(ix)\n",
    "        # break if we reach the special token '.'\n",
    "        if ix == 0:\n",
    "            break\n",
    "    \n",
    "    print(''.join(itos[i] for i in out))"
   ]
  },
  {
   "cell_type": "code",
   "execution_count": 20,
   "id": "0b51ea63-1177-43f9-9cc4-db0359ffc7c2",
   "metadata": {},
   "outputs": [],
   "source": [
    "# We still get namelike results\n",
    "# Not unreasonable but not amazing"
   ]
  }
 ],
 "metadata": {
  "kernelspec": {
   "display_name": "Python 3 (ipykernel)",
   "language": "python",
   "name": "python3"
  },
  "language_info": {
   "codemirror_mode": {
    "name": "ipython",
    "version": 3
   },
   "file_extension": ".py",
   "mimetype": "text/x-python",
   "name": "python",
   "nbconvert_exporter": "python",
   "pygments_lexer": "ipython3",
   "version": "3.10.4"
  }
 },
 "nbformat": 4,
 "nbformat_minor": 5
}
