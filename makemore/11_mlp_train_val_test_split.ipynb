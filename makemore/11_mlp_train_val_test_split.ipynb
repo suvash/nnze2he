{
 "cells": [
  {
   "cell_type": "code",
   "execution_count": 1,
   "id": "6912fe95-e748-434d-8b46-b74948486564",
   "metadata": {},
   "outputs": [],
   "source": [
    "import matplotlib.pyplot as plt\n",
    "%matplotlib inline"
   ]
  },
  {
   "cell_type": "code",
   "execution_count": 2,
   "id": "ac6299d6-c7ae-4032-a0ee-7223bde0bde8",
   "metadata": {},
   "outputs": [],
   "source": [
    "import torch\n",
    "import torch.nn.functional as F"
   ]
  },
  {
   "cell_type": "code",
   "execution_count": 3,
   "id": "84e765f4-b077-4988-8361-53dbc31b4896",
   "metadata": {},
   "outputs": [
    {
     "data": {
      "text/plain": [
       "(32033,\n",
       " ['emma', 'olivia', 'ava', 'isabella', 'sophia', 'charlotte', 'mia', 'amelia'])"
      ]
     },
     "execution_count": 3,
     "metadata": {},
     "output_type": "execute_result"
    }
   ],
   "source": [
    "words = open('names.txt').read().splitlines()\n",
    "len(words), words[:8]"
   ]
  },
  {
   "cell_type": "code",
   "execution_count": 4,
   "id": "749ad72a-9e36-4f63-848f-0d6ddc49600c",
   "metadata": {},
   "outputs": [],
   "source": [
    "# let's only have one special token, and let's have it at index 0, offset others by 1\n",
    "chars = sorted(list(set(''.join(words))))\n",
    "stoi = {s:i+1 for i,s in enumerate(chars)}\n",
    "stoi['.'] = 0\n",
    "itos = {i:s for s,i in stoi.items()}\n",
    "num_classes = len(stoi)"
   ]
  },
  {
   "cell_type": "code",
   "execution_count": 5,
   "id": "52455b1c-8e0f-4a1d-aa4f-0f41e2fe32c6",
   "metadata": {},
   "outputs": [
    {
     "data": {
      "text/plain": [
       "3481"
      ]
     },
     "execution_count": 5,
     "metadata": {},
     "output_type": "execute_result"
    }
   ],
   "source": [
    "g = torch.Generator().manual_seed(2147483647)\n",
    "C = torch.randn((27, 2), generator=g)\n",
    "W1 = torch.randn((3*2, 100), generator=g)\n",
    "b1 = torch.randn(100, generator=g)\n",
    "W2 = torch.randn((100, 27), generator=g)\n",
    "b2 = torch.randn(27, generator=g)\n",
    "parameters = [C, W1, b1, W2, b2]\n",
    "\n",
    "\n",
    "sum(p.nelement() for p in parameters) # total number of parameters"
   ]
  },
  {
   "cell_type": "code",
   "execution_count": 6,
   "id": "f7a590ed-d461-410e-b95b-e87469522fec",
   "metadata": {},
   "outputs": [],
   "source": [
    "# As the capacity of the NN grows (the number of parameters)\n",
    "# it becomes more and more capable of overfitting the training set\n",
    "# that means that loss on the training set becomes very low\n",
    "# the model basically starts memorizing the training set\n",
    "# NOT what we want : we want the model to generalize to cases(within the same context) that it hasn't seen before\n",
    "# If you sample from it, you'll get examples exactly from the training set, NOT very useful\n",
    "# Loss will be very high if you try to evaluate it on a withheld set\n",
    "# NOT a good model"
   ]
  },
  {
   "cell_type": "code",
   "execution_count": 7,
   "id": "da51a041-e45c-4675-b31c-0c846a17cfe7",
   "metadata": {},
   "outputs": [],
   "source": [
    "# Standard is to split the dataset into 3 splits (80/10/10)\n",
    "# Training set     : Used for training, get the loss, optimize the parameters\n",
    "# Validation split : Used for calculating the metrics, even the loss but don't use the loss to optimize the model, instead regularize\n",
    "# Test split       : Used towards the end of the project, used very sparingly, do not use the feedback of this to retrain, might overfit to test as well otherwise, not a good test then"
   ]
  },
  {
   "cell_type": "code",
   "execution_count": 8,
   "id": "dc7789bb-f552-4762-be51-aa6c34e612cf",
   "metadata": {},
   "outputs": [],
   "source": [
    "def build_dataset(words):\n",
    "    block_size = 3 # How many characters do we take to predict the next one : 3 chars to predict the 4th\n",
    "    X, Y, = [], [] # X, input | Y, labels\n",
    "\n",
    "    for w in words:\n",
    "        context = [0] * block_size\n",
    "        for ch in w + '.':\n",
    "            ix = stoi[ch]\n",
    "            X.append(context)\n",
    "            Y.append(ix)\n",
    "            context = context[1:] + [ix] # crop and append moving window\n",
    "\n",
    "    X = torch.tensor(X)\n",
    "    Y = torch.tensor(Y)    \n",
    "    return X, Y"
   ]
  },
  {
   "cell_type": "code",
   "execution_count": 9,
   "id": "fc34bfb8-2f98-403e-b035-45888b93a7e0",
   "metadata": {},
   "outputs": [
    {
     "data": {
      "text/plain": [
       "(torch.Size([182625, 3]),\n",
       " torch.Size([182625]),\n",
       " torch.Size([22655, 3]),\n",
       " torch.Size([22655]),\n",
       " torch.Size([22866, 3]),\n",
       " torch.Size([22866]))"
      ]
     },
     "execution_count": 9,
     "metadata": {},
     "output_type": "execute_result"
    }
   ],
   "source": [
    "# Splits\n",
    "import random\n",
    "random.seed(42)\n",
    "random.shuffle(words)\n",
    "\n",
    "n1 = int(0.8*len(words))\n",
    "n2 = int(0.9*len(words))\n",
    "\n",
    "Xtr, Ytr = build_dataset(words[:n1])\n",
    "Xva, Yva = build_dataset(words[n1:n2])\n",
    "Xte, Yte = build_dataset(words[n2:])\n",
    "\n",
    "Xtr.shape, Ytr.shape, Xva.shape, Yva.shape, Xte.shape, Yte.shape"
   ]
  },
  {
   "cell_type": "code",
   "execution_count": 10,
   "id": "778e1264-c3f6-470a-80c9-f225faf77894",
   "metadata": {},
   "outputs": [],
   "source": [
    "# Lets train with traing splits now"
   ]
  },
  {
   "cell_type": "code",
   "execution_count": 11,
   "id": "b9e37fdb-baf5-49ac-9cce-8ef090c78246",
   "metadata": {},
   "outputs": [],
   "source": [
    "# parameters learnable\n",
    "for p in parameters:\n",
    "    p.requires_grad = True"
   ]
  },
  {
   "cell_type": "code",
   "execution_count": 12,
   "id": "f59b12d9-99ae-4a43-a3cf-49fc98be74b0",
   "metadata": {},
   "outputs": [],
   "source": [
    "lr = 0.1\n",
    "steps = 500000"
   ]
  },
  {
   "cell_type": "code",
   "execution_count": 13,
   "id": "ac49889a-356d-4dd9-92d9-70039ce2f91b",
   "metadata": {},
   "outputs": [
    {
     "name": "stdout",
     "output_type": "stream",
     "text": [
      "Iteration 49999: Minibatch loss : 2.114920139312744\n",
      "Iteration 99999: Minibatch loss : 2.352707624435425\n",
      "Iteration 149999: Minibatch loss : 2.2840514183044434\n",
      "Iteration 199999: Minibatch loss : 1.9364819526672363\n",
      "Iteration 249999: Minibatch loss : 2.3005363941192627\n",
      "Iteration 299999: Minibatch loss : 2.2722997665405273\n",
      "Iteration 349999: Minibatch loss : 2.257194995880127\n",
      "Iteration 399999: Minibatch loss : 2.0225448608398438\n",
      "Iteration 449999: Minibatch loss : 2.1056764125823975\n",
      "Iteration 499999: Minibatch loss : 2.3153648376464844\n"
     ]
    }
   ],
   "source": [
    "for i in range(steps):\n",
    "    # minibatches\n",
    "    bs = 32\n",
    "    ix = torch.randint(0, Xtr.shape[0], (bs,))\n",
    "    \n",
    "    # forward pass\n",
    "    emb = C[Xtr[ix]] # [32, 3, 2]\n",
    "    h = torch.tanh(emb.view(-1, W1.shape[0]) @ W1 + b1) # [32, 100]\n",
    "    logits = h @ W2 + b2 # [32, 27]\n",
    "    loss = F.cross_entropy(logits, Ytr[ix]) # also Ys have to be at the same index\n",
    "    if (i+1)%(steps/10) == 0:\n",
    "        print(f\"Iteration {i}: Minibatch loss : {loss.item()}\")\n",
    "\n",
    "    # backward pass\n",
    "    for p in parameters:\n",
    "        p.grad = None\n",
    "    loss.backward()\n",
    "\n",
    "    # update\n",
    "    for p in parameters:\n",
    "        p.data += -lr * p.grad"
   ]
  },
  {
   "cell_type": "code",
   "execution_count": 14,
   "id": "046e2086-fd97-4e25-bbcf-e0b37d7f56b5",
   "metadata": {},
   "outputs": [
    {
     "data": {
      "text/plain": [
       "tensor(2.2589, grad_fn=<NllLossBackward0>)"
      ]
     },
     "execution_count": 14,
     "metadata": {},
     "output_type": "execute_result"
    }
   ],
   "source": [
    "# Lets now get Training loss\n",
    "emb = C[Xtr]\n",
    "h = torch.tanh(emb.view(-1, W1.shape[0]) @ W1 + b1)\n",
    "logits = h @ W2 + b2\n",
    "loss = F.cross_entropy(logits, Ytr)\n",
    "loss"
   ]
  },
  {
   "cell_type": "code",
   "execution_count": 15,
   "id": "a1183918-348d-4969-bdf0-1a09271b812c",
   "metadata": {},
   "outputs": [
    {
     "data": {
      "text/plain": [
       "tensor(2.2702, grad_fn=<NllLossBackward0>)"
      ]
     },
     "execution_count": 15,
     "metadata": {},
     "output_type": "execute_result"
    }
   ],
   "source": [
    "# Lets now get Validation loss\n",
    "emb = C[Xva]\n",
    "h = torch.tanh(emb.view(-1, W1.shape[0]) @ W1 + b1)\n",
    "logits = h @ W2 + b2\n",
    "loss = F.cross_entropy(logits, Yva)\n",
    "loss"
   ]
  },
  {
   "cell_type": "code",
   "execution_count": 16,
   "id": "577e34b3-ec31-4fd1-86e6-2dfb95451d04",
   "metadata": {},
   "outputs": [],
   "source": [
    "# We see that the training and validation losses are about equal\n",
    "# So we're def. not overfitting, i.e. memorizing the training set\n",
    "# We could even possibly be underfitting, because we sort of expect the training loss to be lower than validation\n",
    "# after all the network has seen the training set, so it's expected to do somewhat better with it\n",
    "# Good idea to start out first by overfitting a bit\n",
    "# In this case, it means that our network is very tiny, it's can memorize the training set well enough\n",
    "# We can improve performance by scaling up, increase the size of the NN, so it's more powerful so it can memorize a bit more"
   ]
  },
  {
   "cell_type": "code",
   "execution_count": 17,
   "id": "2c24cb57-5e44-40e3-85f9-8af78b863009",
   "metadata": {},
   "outputs": [],
   "source": [
    "# That's for the next nb"
   ]
  }
 ],
 "metadata": {
  "kernelspec": {
   "display_name": "Python 3 (ipykernel)",
   "language": "python",
   "name": "python3"
  },
  "language_info": {
   "codemirror_mode": {
    "name": "ipython",
    "version": 3
   },
   "file_extension": ".py",
   "mimetype": "text/x-python",
   "name": "python",
   "nbconvert_exporter": "python",
   "pygments_lexer": "ipython3",
   "version": "3.10.4"
  }
 },
 "nbformat": 4,
 "nbformat_minor": 5
}
