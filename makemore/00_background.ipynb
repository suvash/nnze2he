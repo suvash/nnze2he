{
 "cells": [
  {
   "cell_type": "markdown",
   "id": "cf9da52a-1e3a-4a01-9802-0cc68d0aaa5e",
   "metadata": {},
   "source": [
    "# Makemore"
   ]
  },
  {
   "cell_type": "markdown",
   "id": "3235e87e-5cf8-43e1-8711-70e4074b7d4c",
   "metadata": {},
   "source": [
    "- makes more of things given to it\n",
    "- given a database of names, it makes more name sounding words"
   ]
  },
  {
   "cell_type": "markdown",
   "id": "32d22c19-459a-436f-959c-0ddfcaf5dc4b",
   "metadata": {},
   "source": [
    "- is a character level language model\n",
    "- each line is an example, treating them as sequences of individual characters\n",
    "- modelling the sequences of characters, knows how to predict the next one"
   ]
  },
  {
   "cell_type": "markdown",
   "id": "e0b0880b-74c2-4333-a378-b5d342d04a4c",
   "metadata": {},
   "source": [
    "- going to implement many different kinds\n",
    "  - Bigram\n",
    "  - Bag of words\n",
    "  - RNN\n",
    "  - GRU\n",
    "  - Transformer (equivalent to GPT-2)"
   ]
  },
  {
   "cell_type": "markdown",
   "id": "746e69c2-710e-4e0b-863c-2916c678bf25",
   "metadata": {},
   "source": [
    "- after characters will spend time on word level\n",
    "- so we can generate documents\n",
    "- then going into images"
   ]
  },
  {
   "cell_type": "code",
   "execution_count": null,
   "id": "9ba3ea00-6948-4954-ace6-510cf2fb02b9",
   "metadata": {},
   "outputs": [],
   "source": []
  }
 ],
 "metadata": {
  "kernelspec": {
   "display_name": "Python 3 (ipykernel)",
   "language": "python",
   "name": "python3"
  },
  "language_info": {
   "codemirror_mode": {
    "name": "ipython",
    "version": 3
   },
   "file_extension": ".py",
   "mimetype": "text/x-python",
   "name": "python",
   "nbconvert_exporter": "python",
   "pygments_lexer": "ipython3",
   "version": "3.10.4"
  }
 },
 "nbformat": 4,
 "nbformat_minor": 5
}
