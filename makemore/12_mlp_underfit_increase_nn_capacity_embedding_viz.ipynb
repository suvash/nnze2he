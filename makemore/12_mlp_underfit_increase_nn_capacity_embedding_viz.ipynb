{
 "cells": [
  {
   "cell_type": "code",
   "execution_count": 1,
   "id": "6912fe95-e748-434d-8b46-b74948486564",
   "metadata": {},
   "outputs": [],
   "source": [
    "import matplotlib.pyplot as plt\n",
    "%matplotlib inline"
   ]
  },
  {
   "cell_type": "code",
   "execution_count": 2,
   "id": "ac6299d6-c7ae-4032-a0ee-7223bde0bde8",
   "metadata": {},
   "outputs": [],
   "source": [
    "import torch\n",
    "import torch.nn.functional as F"
   ]
  },
  {
   "cell_type": "code",
   "execution_count": 3,
   "id": "84e765f4-b077-4988-8361-53dbc31b4896",
   "metadata": {},
   "outputs": [
    {
     "data": {
      "text/plain": [
       "(32033,\n",
       " ['emma', 'olivia', 'ava', 'isabella', 'sophia', 'charlotte', 'mia', 'amelia'])"
      ]
     },
     "execution_count": 3,
     "metadata": {},
     "output_type": "execute_result"
    }
   ],
   "source": [
    "words = open('names.txt').read().splitlines()\n",
    "len(words), words[:8]"
   ]
  },
  {
   "cell_type": "code",
   "execution_count": 4,
   "id": "749ad72a-9e36-4f63-848f-0d6ddc49600c",
   "metadata": {},
   "outputs": [],
   "source": [
    "# let's only have one special token, and let's have it at index 0, offset others by 1\n",
    "chars = sorted(list(set(''.join(words))))\n",
    "stoi = {s:i+1 for i,s in enumerate(chars)}\n",
    "stoi['.'] = 0\n",
    "itos = {i:s for s,i in stoi.items()}\n",
    "num_classes = len(stoi)"
   ]
  },
  {
   "cell_type": "code",
   "execution_count": 5,
   "id": "b6fd705c-b06a-43af-bca1-f8a7d3ae4235",
   "metadata": {},
   "outputs": [],
   "source": [
    "# As we saw before that the network was underfitting\n",
    "# let's increase the size of the network so it can be better\n",
    "# bump hidden layers from 100 -> 300"
   ]
  },
  {
   "cell_type": "code",
   "execution_count": 6,
   "id": "52455b1c-8e0f-4a1d-aa4f-0f41e2fe32c6",
   "metadata": {},
   "outputs": [
    {
     "data": {
      "text/plain": [
       "10281"
      ]
     },
     "execution_count": 6,
     "metadata": {},
     "output_type": "execute_result"
    }
   ],
   "source": [
    "g = torch.Generator().manual_seed(2147483647)\n",
    "C = torch.randn((27, 2), generator=g)\n",
    "W1 = torch.randn((3*2, 300), generator=g)\n",
    "b1 = torch.randn(300, generator=g)\n",
    "W2 = torch.randn((300, 27), generator=g)\n",
    "b2 = torch.randn(27, generator=g)\n",
    "parameters = [C, W1, b1, W2, b2]\n",
    "\n",
    "\n",
    "sum(p.nelement() for p in parameters) # total number of parameters"
   ]
  },
  {
   "cell_type": "code",
   "execution_count": 7,
   "id": "dc7789bb-f552-4762-be51-aa6c34e612cf",
   "metadata": {},
   "outputs": [],
   "source": [
    "def build_dataset(words):\n",
    "    block_size = 3 # How many characters do we take to predict the next one : 3 chars to predict the 4th\n",
    "    X, Y, = [], [] # X, input | Y, labels\n",
    "\n",
    "    for w in words:\n",
    "        context = [0] * block_size\n",
    "        for ch in w + '.':\n",
    "            ix = stoi[ch]\n",
    "            X.append(context)\n",
    "            Y.append(ix)\n",
    "            context = context[1:] + [ix] # crop and append moving window\n",
    "\n",
    "    X = torch.tensor(X)\n",
    "    Y = torch.tensor(Y)    \n",
    "    return X, Y"
   ]
  },
  {
   "cell_type": "code",
   "execution_count": 8,
   "id": "fc34bfb8-2f98-403e-b035-45888b93a7e0",
   "metadata": {},
   "outputs": [
    {
     "data": {
      "text/plain": [
       "(torch.Size([182625, 3]),\n",
       " torch.Size([182625]),\n",
       " torch.Size([22655, 3]),\n",
       " torch.Size([22655]),\n",
       " torch.Size([22866, 3]),\n",
       " torch.Size([22866]))"
      ]
     },
     "execution_count": 8,
     "metadata": {},
     "output_type": "execute_result"
    }
   ],
   "source": [
    "# Splits\n",
    "import random\n",
    "random.seed(42)\n",
    "random.shuffle(words)\n",
    "\n",
    "n1 = int(0.8*len(words))\n",
    "n2 = int(0.9*len(words))\n",
    "\n",
    "Xtr, Ytr = build_dataset(words[:n1])\n",
    "Xva, Yva = build_dataset(words[n1:n2])\n",
    "Xte, Yte = build_dataset(words[n2:])\n",
    "\n",
    "Xtr.shape, Ytr.shape, Xva.shape, Yva.shape, Xte.shape, Yte.shape"
   ]
  },
  {
   "cell_type": "code",
   "execution_count": 9,
   "id": "b9e37fdb-baf5-49ac-9cce-8ef090c78246",
   "metadata": {},
   "outputs": [],
   "source": [
    "# parameters learnable\n",
    "for p in parameters:\n",
    "    p.requires_grad = True"
   ]
  },
  {
   "cell_type": "code",
   "execution_count": 10,
   "id": "f59b12d9-99ae-4a43-a3cf-49fc98be74b0",
   "metadata": {},
   "outputs": [],
   "source": [
    "lr = 0.1\n",
    "steps = 100000"
   ]
  },
  {
   "cell_type": "code",
   "execution_count": 11,
   "id": "ac49889a-356d-4dd9-92d9-70039ce2f91b",
   "metadata": {},
   "outputs": [
    {
     "name": "stdout",
     "output_type": "stream",
     "text": [
      "Iteration 9999: Minibatch loss : 2.366222381591797\n",
      "Iteration 19999: Minibatch loss : 2.5406689643859863\n",
      "Iteration 29999: Minibatch loss : 2.5136077404022217\n",
      "Iteration 39999: Minibatch loss : 2.5788767337799072\n",
      "Iteration 49999: Minibatch loss : 2.422708034515381\n",
      "Iteration 59999: Minibatch loss : 2.7535252571105957\n",
      "Iteration 69999: Minibatch loss : 2.1850192546844482\n",
      "Iteration 79999: Minibatch loss : 2.5128064155578613\n",
      "Iteration 89999: Minibatch loss : 2.4804515838623047\n",
      "Iteration 99999: Minibatch loss : 2.064487934112549\n"
     ]
    }
   ],
   "source": [
    "lri = []\n",
    "lossi = []\n",
    "stepsi = []\n",
    "\n",
    "for i in range(steps):\n",
    "    # minibatches\n",
    "    bs = 32\n",
    "    ix = torch.randint(0, Xtr.shape[0], (bs,))\n",
    "    \n",
    "    # forward pass\n",
    "    emb = C[Xtr[ix]] # [32, 3, 2]\n",
    "    h = torch.tanh(emb.view(-1, W1.shape[0]) @ W1 + b1) # [32, 100]\n",
    "    logits = h @ W2 + b2 # [32, 27]\n",
    "    loss = F.cross_entropy(logits, Ytr[ix]) # also Ys have to be at the same index\n",
    "    if (i+1)%(steps/10) == 0:\n",
    "        print(f\"Iteration {i}: Minibatch loss : {loss.item()}\")\n",
    "\n",
    "    # backward pass\n",
    "    for p in parameters:\n",
    "        p.grad = None\n",
    "    loss.backward()\n",
    "\n",
    "    # update\n",
    "    for p in parameters:\n",
    "        p.data += -lr * p.grad\n",
    "    \n",
    "    # track stats\n",
    "    stepsi.append(i)\n",
    "    lossi.append(loss.item())"
   ]
  },
  {
   "cell_type": "code",
   "execution_count": 12,
   "id": "7493128a-7431-4228-ae98-4471a8cf7df1",
   "metadata": {},
   "outputs": [
    {
     "data": {
      "text/plain": [
       "[<matplotlib.lines.Line2D at 0x7febdd606050>]"
      ]
     },
     "execution_count": 12,
     "metadata": {},
     "output_type": "execute_result"
    },
    {
     "data": {
      "image/png": "[encoded data removed]",
      "text/plain": [
       "<Figure size 640x480 with 1 Axes>"
      ]
     },
     "metadata": {},
     "output_type": "display_data"
    }
   ],
   "source": [
    "plt.plot(stepsi, lossi)"
   ]
  },
  {
   "cell_type": "code",
   "execution_count": 13,
   "id": "ee8307b7-1563-4496-b0bb-0184b9c2f06a",
   "metadata": {},
   "outputs": [],
   "source": [
    "# We're expecting this to go down in a curve and then stabilize, this looks noisy\n",
    "# Let's continue training\n",
    "# One possibility is that the batch size is so low that we might have a noisy training"
   ]
  },
  {
   "cell_type": "code",
   "execution_count": 14,
   "id": "1ee2429c-3a8a-4d8f-83c4-83d6dee4a9c4",
   "metadata": {},
   "outputs": [],
   "source": [
    "lr = 0.01\n",
    "steps = 30000"
   ]
  },
  {
   "cell_type": "code",
   "execution_count": 15,
   "id": "7ccc380a-083b-41f3-88b4-e710f236ef52",
   "metadata": {},
   "outputs": [
    {
     "name": "stdout",
     "output_type": "stream",
     "text": [
      "Iteration 2999: Minibatch loss : 2.6978566646575928\n",
      "Iteration 5999: Minibatch loss : 2.3458621501922607\n",
      "Iteration 8999: Minibatch loss : 2.247467041015625\n",
      "Iteration 11999: Minibatch loss : 2.3558084964752197\n",
      "Iteration 14999: Minibatch loss : 2.313822031021118\n",
      "Iteration 17999: Minibatch loss : 2.2057647705078125\n",
      "Iteration 20999: Minibatch loss : 2.345276355743408\n",
      "Iteration 23999: Minibatch loss : 2.2940170764923096\n",
      "Iteration 26999: Minibatch loss : 2.171877384185791\n",
      "Iteration 29999: Minibatch loss : 2.393545389175415\n"
     ]
    }
   ],
   "source": [
    "lri = []\n",
    "lossi = []\n",
    "stepsi = []\n",
    "\n",
    "for i in range(steps):\n",
    "    # minibatches\n",
    "    bs = 32\n",
    "    ix = torch.randint(0, Xtr.shape[0], (bs,))\n",
    "    \n",
    "    # forward pass\n",
    "    emb = C[Xtr[ix]] # [32, 3, 2]\n",
    "    h = torch.tanh(emb.view(-1, W1.shape[0]) @ W1 + b1) # [32, 100]\n",
    "    logits = h @ W2 + b2 # [32, 27]\n",
    "    loss = F.cross_entropy(logits, Ytr[ix]) # also Ys have to be at the same index\n",
    "    if (i+1)%(steps/10) == 0:\n",
    "        print(f\"Iteration {i}: Minibatch loss : {loss.item()}\")\n",
    "\n",
    "    # backward pass\n",
    "    for p in parameters:\n",
    "        p.grad = None\n",
    "    loss.backward()\n",
    "\n",
    "    # update\n",
    "    for p in parameters:\n",
    "        p.data += -lr * p.grad\n",
    "    \n",
    "    # track stats\n",
    "    stepsi.append(i)\n",
    "    lossi.append(loss.item())"
   ]
  },
  {
   "cell_type": "code",
   "execution_count": 16,
   "id": "eab001c2-f2ac-4952-92fd-3e2f6e389d98",
   "metadata": {},
   "outputs": [
    {
     "data": {
      "text/plain": [
       "[<matplotlib.lines.Line2D at 0x7febdd692bc0>]"
      ]
     },
     "execution_count": 16,
     "metadata": {},
     "output_type": "execute_result"
    },
    {
     "data": {
      "image/png": "[encoded data removed]",
      "text/plain": [
       "<Figure size 640x480 with 1 Axes>"
      ]
     },
     "metadata": {},
     "output_type": "display_data"
    }
   ],
   "source": [
    "plt.plot(stepsi, lossi)"
   ]
  },
  {
   "cell_type": "code",
   "execution_count": 17,
   "id": "bcfe0f9f-e908-4595-801f-c37e329a516b",
   "metadata": {},
   "outputs": [],
   "source": [
    "# It's hard to see anything useful above, let's check the loss"
   ]
  },
  {
   "cell_type": "code",
   "execution_count": 18,
   "id": "046e2086-fd97-4e25-bbcf-e0b37d7f56b5",
   "metadata": {},
   "outputs": [
    {
     "data": {
      "text/plain": [
       "tensor(2.2358, grad_fn=<NllLossBackward0>)"
      ]
     },
     "execution_count": 18,
     "metadata": {},
     "output_type": "execute_result"
    }
   ],
   "source": [
    "# Lets now get Training loss\n",
    "emb = C[Xtr]\n",
    "h = torch.tanh(emb.view(-1, W1.shape[0]) @ W1 + b1)\n",
    "logits = h @ W2 + b2\n",
    "loss = F.cross_entropy(logits, Ytr)\n",
    "loss"
   ]
  },
  {
   "cell_type": "code",
   "execution_count": 19,
   "id": "a1183918-348d-4969-bdf0-1a09271b812c",
   "metadata": {},
   "outputs": [
    {
     "data": {
      "text/plain": [
       "tensor(2.2469, grad_fn=<NllLossBackward0>)"
      ]
     },
     "execution_count": 19,
     "metadata": {},
     "output_type": "execute_result"
    }
   ],
   "source": [
    "# Lets now get Validation loss\n",
    "emb = C[Xva]\n",
    "h = torch.tanh(emb.view(-1, W1.shape[0]) @ W1 + b1)\n",
    "logits = h @ W2 + b2\n",
    "loss = F.cross_entropy(logits, Yva)\n",
    "loss"
   ]
  },
  {
   "cell_type": "code",
   "execution_count": 20,
   "id": "919725cb-be37-4352-b06a-c04ef199eb2b",
   "metadata": {},
   "outputs": [],
   "source": [
    "# Still underfitting as we can see\n",
    "# We are expecting to see a lower loss than before\n",
    "# We have a much much bigger model so we def. want the loss to be lower\n",
    "# 2.27 in the previous notebook, but it also had lot more iterations"
   ]
  },
  {
   "cell_type": "code",
   "execution_count": 21,
   "id": "49f3a86b-01b3-418d-b33c-da2451f03e0a",
   "metadata": {},
   "outputs": [],
   "source": [
    "# THIS IS NOT GOING VERY WELL"
   ]
  },
  {
   "cell_type": "code",
   "execution_count": 22,
   "id": "c49f2c02-6eb0-4bc9-ac44-befff957bbe7",
   "metadata": {},
   "outputs": [],
   "source": [
    "# It can be\n",
    "# batch size is too small\n",
    "# the bottleneck of the embedding is actually the small embedding layers\n",
    "# we can trying to cram too much there"
   ]
  },
  {
   "cell_type": "code",
   "execution_count": 23,
   "id": "03cc5795-1d92-482e-9f14-82a2284d9d52",
   "metadata": {},
   "outputs": [],
   "source": [
    "# Let's do some neat visualization of the character embeddings to inspect for issues"
   ]
  },
  {
   "cell_type": "code",
   "execution_count": 24,
   "id": "f095f306-f7bd-4fa8-a924-6076696ed6bb",
   "metadata": {},
   "outputs": [
    {
     "data": {
      "image/png": "[encoded data removed]",
      "text/plain": [
       "<Figure size 800x800 with 1 Axes>"
      ]
     },
     "metadata": {},
     "output_type": "display_data"
    }
   ],
   "source": [
    "plt.figure(figsize=(8,8))\n",
    "plt.scatter(C[:,0].data, C[:, 1].data, s=200)\n",
    "for i in range(C.shape[0]):\n",
    "    plt.text(C[i,0].item(), C[i,1].item(), itos[i], ha=\"center\", va=\"center\", color='white')\n",
    "plt.grid('minor')"
   ]
  },
  {
   "cell_type": "code",
   "execution_count": 25,
   "id": "02e33944-eea2-46c7-bd43-8eb496bd21a9",
   "metadata": {},
   "outputs": [],
   "source": [
    "# Interesting to see how the training process has clustered certain characters together"
   ]
  },
  {
   "cell_type": "code",
   "execution_count": 26,
   "id": "a13fe1a9-3f36-4d64-a664-aa6cea1b4a37",
   "metadata": {},
   "outputs": [],
   "source": [
    "# Another thing is that we increased the NN capacity but didn't sufficiently decrease the loss\n",
    "# So, we assume that the embedding size is the bottleneck\n",
    "# IN the next notebook we'll increase this embedding size and see how well we perform"
   ]
  }
 ],
 "metadata": {
  "kernelspec": {
   "display_name": "Python 3 (ipykernel)",
   "language": "python",
   "name": "python3"
  },
  "language_info": {
   "codemirror_mode": {
    "name": "ipython",
    "version": 3
   },
   "file_extension": ".py",
   "mimetype": "text/x-python",
   "name": "python",
   "nbconvert_exporter": "python",
   "pygments_lexer": "ipython3",
   "version": "3.10.4"
  }
 },
 "nbformat": 4,
 "nbformat_minor": 5
}
